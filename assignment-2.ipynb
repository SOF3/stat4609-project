{
  "nbformat": 4,
  "nbformat_minor": 0,
  "metadata": {
    "colab": {
      "name": "Assignment2.ipynb",
      "provenance": [],
      "collapsed_sections": []
    },
    "kernelspec": {
      "name": "python3",
      "display_name": "Python 3"
    },
    "language_info": {
      "name": "python"
    }
  },
  "cells": [
    {
      "cell_type": "code",
      "metadata": {
        "id": "3pafCksqq_nZ"
      },
      "source": [
        "import datetime\n",
        "import random\n",
        "import time\n",
        "\n",
        "import numpy\n",
        "import pandas\n",
        "import scipy\n",
        "import matplotlib.pyplot as plt\n",
        "import IPython.display as disp\n",
        "\n",
        "class Progress:\n",
        "    def __init__(self, total):\n",
        "        self.bar = disp.ProgressBar(total)\n",
        "        self.progress = 0\n",
        "        self.last = 0\n",
        "    def inc(self):\n",
        "        self.progress += 1\n",
        "        if time.monotonic_ns() - self.last > 1e8:\n",
        "            self.bar.progress = self.progress\n",
        "            self.bar.update()\n",
        "            self.last = time.monotonic_ns()\n",
        "    def __enter__(self):\n",
        "        return self\n",
        "    def __exit__(self, exc_type, exc_value, tb):\n",
        "        self.bar.progress = self.progress\n",
        "        self.bar.update()\n",
        "        return False"
      ],
      "execution_count": 1,
      "outputs": []
    },
    {
      "cell_type": "code",
      "metadata": {
        "colab": {
          "base_uri": "https://localhost:8080/"
        },
        "id": "I64Gsf3zdHkU",
        "outputId": "29bae461-5fe5-4fbd-9bb1-6b163d7f9e5d"
      },
      "source": [
        "from google.colab import drive\n",
        "drive.mount('/content/drive')"
      ],
      "execution_count": 2,
      "outputs": [
        {
          "output_type": "stream",
          "text": [
            "Drive already mounted at /content/drive; to attempt to forcibly remount, call drive.mount(\"/content/drive\", force_remount=True).\n"
          ],
          "name": "stdout"
        }
      ]
    },
    {
      "cell_type": "code",
      "metadata": {
        "id": "qIDlSbxnrDlW"
      },
      "source": [
        "!test -d dataset || unzip /content/drive/Shareddrives/'STAT4609 Netflix'/dataset.zip -d dataset"
      ],
      "execution_count": 3,
      "outputs": []
    },
    {
      "cell_type": "markdown",
      "metadata": {
        "id": "-w_tQ84oLiOk"
      },
      "source": [
        "## Data preprocessing\n",
        "Due to time and memory constraints,\n",
        "we only use the first $10000$ movies for training and evaluation.\n",
        "The data are loaded into a `numpy` array with the following structure:\n",
        "\n",
        "| Movie ID | User ID | Rating | Year | Day of year | Weekday |\n",
        "| :---: | :---: | :---: | :---: | :---: | :---: |\n",
        "\n",
        "The movie and user IDs are reordered into $0, 1, \\ldots$ for the ease of indexing."
      ]
    },
    {
      "cell_type": "code",
      "metadata": {
        "id": "rNWkgPGpsWlF",
        "colab": {
          "base_uri": "https://localhost:8080/",
          "height": 34
        },
        "outputId": "9061e289-3b58-4dcf-907a-8b20f125ddcf"
      },
      "source": [
        "class Counter:\n",
        "    def __init__(self):\n",
        "        self.cache = {}\n",
        "    def resolve(self, value, max):\n",
        "        if value in self.cache:\n",
        "            return self.cache[value]\n",
        "        id = len(self.cache)\n",
        "        if id >= max:\n",
        "            return None\n",
        "        self.cache[value] = id\n",
        "        return id\n",
        "    def size(self):\n",
        "        return len(self.cache)\n",
        "\n",
        "user_counter = Counter()\n",
        "movie_counter = Counter()\n",
        "\n",
        "def read_ratings_file(data, path, row, progress):\n",
        "    with open(path) as fh:\n",
        "        for line in fh:\n",
        "            line = line.rstrip(\"\\r\\n\")\n",
        "            if line.endswith(\":\"):\n",
        "                movie_id = int(line[:-1])\n",
        "                movie_id = movie_counter.resolve(movie_id, 10000)\n",
        "                progress.inc()\n",
        "                if movie_id is None:\n",
        "                    break\n",
        "            elif \",\" in line:\n",
        "                user, rating, date = line.split(\",\")\n",
        "                user = int(user)\n",
        "                rating = int(rating)\n",
        "                user_id = user_counter.resolve(user, 1000)\n",
        "                if user_id is None:\n",
        "                    continue\n",
        "                y, m, d = date.split(\"-\")\n",
        "                date = datetime.date(int(y), int(m), int(d))\n",
        "                data[row] = [movie_id, int(user_id), int(rating), y, date.timetuple().tm_yday, date.weekday()]\n",
        "                row += 1\n",
        "    return row\n",
        "\n",
        "def read_ratings():\n",
        "    # data = pandas.DataFrame(columns=[\"movie\", \"user\", \"rating\"])#, \"year\", \"day_of_year\", \"weekday\"])\n",
        "    # data = numpy.zeros([100498277, 6])\n",
        "    data = numpy.zeros([1000000, 6])\n",
        "    row = 0\n",
        "    with Progress(10000) as progress:\n",
        "        row = read_ratings_file(data, \"dataset/combined_data_1.txt\", row, progress)\n",
        "        row = read_ratings_file(data, \"dataset/combined_data_2.txt\", row, progress)\n",
        "        row = read_ratings_file(data, \"dataset/combined_data_3.txt\", row, progress)\n",
        "        row = read_ratings_file(data, \"dataset/combined_data_4.txt\", row, progress)\n",
        "    return data[:row]\n",
        "\n",
        "data = read_ratings()"
      ],
      "execution_count": 4,
      "outputs": [
        {
          "output_type": "display_data",
          "data": {
            "text/html": [
              "<progress style='width:60ex' max='10000' value='10002'></progress>"
            ],
            "text/plain": [
              "[============================================================] 10002/10000"
            ]
          },
          "metadata": {
            "tags": []
          }
        }
      ]
    },
    {
      "cell_type": "markdown",
      "metadata": {
        "id": "8nYNKvCcRSjL"
      },
      "source": [
        "Reformat the input data into a user-movie matrix, and randomly select $20\\%$ of the available ratings as test data.\n",
        "The missing data are imputed by movie mean rating."
      ]
    },
    {
      "cell_type": "code",
      "metadata": {
        "colab": {
          "base_uri": "https://localhost:8080/",
          "height": 52
        },
        "id": "FrlqM8aDxggI",
        "outputId": "ee617177-846e-4d12-e7d3-0e698e9768d3"
      },
      "source": [
        "movie_count = movie_counter.size()\n",
        "user_count = user_counter.size()\n",
        "ratings_mat = numpy.empty((user_count, movie_count))\n",
        "ratings_mat[:] = numpy.nan\n",
        "\n",
        "evaluation = []\n",
        "\n",
        "def fill_ratings():\n",
        "    with Progress(data.shape[0]) as progress:\n",
        "        for i in range(data.shape[0]):\n",
        "            user = int(data[i, 1])\n",
        "            movie = int(data[i, 0])\n",
        "            rating = data[i, 2]\n",
        "    \n",
        "            if random.randrange(0, 100) < 20:\n",
        "                evaluation.append((user, movie, rating))\n",
        "            else:\n",
        "                ratings_mat[user, movie] = rating\n",
        "\n",
        "            progress.inc()\n",
        "\n",
        "    mean_ratings = numpy.nanmean(ratings_mat, axis=0)\n",
        "    mean_ratings[numpy.isnan(mean_ratings)] = numpy.nanmean(mean_ratings)\n",
        "    inds = numpy.where(numpy.isnan(ratings_mat))\n",
        "    ratings_mat[inds] = numpy.take(mean_ratings, inds[1])\n",
        "    return mean_ratings\n",
        "\n",
        "mean_ratings = fill_ratings()"
      ],
      "execution_count": 5,
      "outputs": [
        {
          "output_type": "display_data",
          "data": {
            "text/html": [
              "<progress style='width:60ex' max='508093' value='508093'></progress>"
            ],
            "text/plain": [
              "[============================================================] 508093/508093"
            ]
          },
          "metadata": {
            "tags": []
          }
        },
        {
          "output_type": "stream",
          "text": [
            "/usr/local/lib/python3.7/dist-packages/ipykernel_launcher.py:22: RuntimeWarning: Mean of empty slice\n"
          ],
          "name": "stderr"
        }
      ]
    },
    {
      "cell_type": "code",
      "metadata": {
        "id": "hQSNWWzERwtH"
      },
      "source": [
        "class KnnRecommend:\n",
        "    def __init__(self, metric, aggregate, k):\n",
        "        self.metric = metric\n",
        "        self.aggregate = aggregate\n",
        "        self.k = k\n",
        "    def fit(self, ratings):\n",
        "        raise Exception(\"Uninitialized function\")\n",
        "    def predict_rating(self, user_id, movie_id):\n",
        "        raise Exception(\"Uninitialized function\")\n",
        "    def evaluate(self):\n",
        "        raise Exception(\"Uninitialized function\")"
      ],
      "execution_count": 6,
      "outputs": []
    },
    {
      "cell_type": "code",
      "metadata": {
        "id": "FmzxPJ2T6d0Z"
      },
      "source": [
        "def _fit(self, ratings):\n",
        "    # Compute the `distmat` matrix such that distmat[i][j] is the distance between users i and j\n",
        "    print(\"Computing distance matrix\")\n",
        "    distmat = self.metric(ratings)\n",
        "    \n",
        "    print(\"Sorting distances\")\n",
        "    similarity = numpy.argsort(distmat, axis=1)\n",
        "\n",
        "    print(\"Aggregating results\")\n",
        "    predicted_ratings = numpy.empty(ratings.shape)\n",
        "    with Progress(user_count) as progress:\n",
        "        for user in range(user_count):\n",
        "            neighbours = similarity[user, 1:(self.k + 1)] # do not include self\n",
        "            neighbour_ratings = ratings[neighbours, :]\n",
        "            predicted_ratings[user, :] = self.aggregate(neighbour_ratings, distmat[user, neighbours])\n",
        "            progress.inc()\n",
        "    self.predicted_ratings = predicted_ratings\n",
        "\n",
        "    return self\n",
        "KnnRecommend.fit = _fit"
      ],
      "execution_count": 7,
      "outputs": []
    },
    {
      "cell_type": "code",
      "metadata": {
        "id": "SiJ97BwfUE4H"
      },
      "source": [
        "def _predict_rating(self, user_id, movie_id):\n",
        "    return self.predicted_ratings[user_id, movie_id]\n",
        "KnnRecommend.predict_rating = _predict_rating"
      ],
      "execution_count": 8,
      "outputs": []
    },
    {
      "cell_type": "code",
      "metadata": {
        "id": "doTLEWfKgran"
      },
      "source": [
        "def _evaluate(self):\n",
        "    print(\"Fitting model\")\n",
        "    self.fit(ratings_mat)\n",
        "    mse = 0\n",
        "    print(\"Evaluating test results\")\n",
        "    with Progress(len(evaluation)) as progress:\n",
        "        for user, movie, rating in evaluation:\n",
        "            mse += (self.predict_rating(user, movie) - rating) ** 2\n",
        "            progress.inc()\n",
        "    mse /= len(evaluation)\n",
        "    rmse = numpy.sqrt(mse)\n",
        "    print(f\"k = {self.k}, metric = {self.metric.__name__}, agg = {self.aggregate.__name__}, rmse = {rmse}\")\n",
        "KnnRecommend.evaluate = _evaluate"
      ],
      "execution_count": 9,
      "outputs": []
    },
    {
      "cell_type": "code",
      "metadata": {
        "id": "QIKGMsfTjRHo"
      },
      "source": [
        "class Metric:\n",
        "    def discrete(ratings):\n",
        "        \"\"\"The discrete metric\"\"\"\n",
        "        ret = numpy.empty((ratings.shape[0], ratings.shape[0]))\n",
        "        with Progress(ratings.shape[0] ** 2) as progress:\n",
        "            for i in range(ratings.shape[0]):\n",
        "                for j in range(ratings.shape[0]):\n",
        "                    ret[i, j] = 0 if numpy.array_equal(ratings[i, :], ratings[j, :]) else 1\n",
        "                    progress.inc()\n",
        "        return ret\n",
        "\n",
        "    def euclidean(ratings):\n",
        "        \"\"\"2-norm squared\"\"\"\n",
        "        ret = numpy.empty((ratings.shape[0], ratings.shape[0]))\n",
        "        with Progress(ratings.shape[0]) as progress:\n",
        "            for i in range(ratings.shape[0]):\n",
        "                ret[i, :] = numpy.sum((ratings - ratings[i, :]) ** 2, axis=1)\n",
        "                progress.inc()\n",
        "        return ret / (16 * ratings.shape[1])\n",
        "\n",
        "    def taxicab(ratings):\n",
        "        \"\"\"1-norm squared\"\"\"\n",
        "        ret = numpy.empty((ratings.shape[0], ratings.shape[0]))\n",
        "        with Progress(ratings.shape[0]) as progress:\n",
        "            for i in range(ratings.shape[0]):\n",
        "                ret[i, :] = numpy.sum(numpy.abs(ratings - ratings[i, :]), axis=1)\n",
        "                progress.inc()\n",
        "        return ret / (4 * ratings.shape[1])\n",
        "    \n",
        "    def cosine_three(ratings):\n",
        "        \"\"\"Cosine similarity\"\"\"\n",
        "        ret = numpy.empty((ratings.shape[0], ratings.shape[0]))\n",
        "        with Progress(ratings.shape[0] * (ratings.shape[0] + 1) / 2) as progress:\n",
        "            corrected = ratings - 3\n",
        "            for i in range(ratings.shape[0]):\n",
        "                for j in range(i, ratings.shape[0]):\n",
        "                    x = corrected[i, :]\n",
        "                    y = corrected[j, :]\n",
        "                    inner = numpy.inner(x, y)\n",
        "                    norm_x = numpy.linalg.norm(x)\n",
        "                    norm_y = numpy.linalg.norm(y)\n",
        "                    corr = inner / norm_x / norm_y\n",
        "                    ret[i, j] = corr\n",
        "                    progress.inc()\n",
        "        return (1 - ret) / 2\n",
        "    \n",
        "    def cosine_mean(ratings):\n",
        "        \"\"\"Cosine similarity\"\"\"\n",
        "        ret = numpy.empty((ratings.shape[0], ratings.shape[0]))\n",
        "        with Progress(ratings.shape[0] * (ratings.shape[0] + 1) / 2) as progress:\n",
        "            corrected = ratings - mean_ratings\n",
        "            for i in range(ratings.shape[0]):\n",
        "                for j in range(i, ratings.shape[0]):\n",
        "                    x = corrected[i, :]\n",
        "                    y = corrected[j, :]\n",
        "                    inner = numpy.inner(x, y)\n",
        "                    norm_x = numpy.linalg.norm(x)\n",
        "                    norm_y = numpy.linalg.norm(y)\n",
        "                    corr = inner / norm_x / norm_y\n",
        "                    ret[i, j] = corr\n",
        "                    progress.inc()\n",
        "        return (1 - ret) / 2\n",
        "\n",
        "    def pearson(ratings):\n",
        "        \"\"\"Pearson correlation rescaled to [0, 1]\"\"\"\n",
        "        from scipy.stats.mstats import pearsonr\n",
        "        ret = numpy.empty((ratings.shape[0], ratings.shape[0]))\n",
        "        with Progress(ratings.shape[0] * (ratings.shape[0] + 1) / 2) as progress:\n",
        "            for i in range(ratings.shape[0]):\n",
        "                for j in range(i, ratings.shape[0]):\n",
        "                    corr, _ = pearsonr(ratings[i, :], ratings[j, :])\n",
        "                    ret[i, j] = corr\n",
        "                    progress.inc()\n",
        "        return (1 - ret) / 2\n",
        "\n",
        "    def spearman(ratings):\n",
        "        \"\"\"Spearman correlation rescaled to [0, 1]\"\"\"\n",
        "        from scipy.stats import spearmanr\n",
        "        corrmat, _ = spearmanr(ratings, axis=1)\n",
        "        return (1 - corrmat) / 2"
      ],
      "execution_count": 10,
      "outputs": []
    },
    {
      "cell_type": "code",
      "metadata": {
        "id": "OlAbgt6KjW0C"
      },
      "source": [
        "class Aggregate:\n",
        "    def baseline(ratings, dist):\n",
        "        return mean_ratings\n",
        "\n",
        "    def average(ratings, dist):\n",
        "        return numpy.average(ratings, axis=0)\n",
        "\n",
        "    def weighted(ratings, dist):\n",
        "        corr = 1 - dist\n",
        "        sum = numpy.sum(numpy.abs(corr))\n",
        "        if numpy.all(corr < 1e-10):\n",
        "            print(\"Warning: Numerical error detected, falling back to Aggregate.average\")\n",
        "            return Aggregate.average(ratings, dist)\n",
        "        delta = (ratings - mean_ratings) * corr.reshape((corr.shape[0], 1))\n",
        "        return mean_ratings + numpy.sum(delta, axis=0) / sum"
      ],
      "execution_count": 11,
      "outputs": []
    },
    {
      "cell_type": "code",
      "metadata": {
        "colab": {
          "base_uri": "https://localhost:8080/",
          "height": 173
        },
        "id": "06vefI3PL1z_",
        "outputId": "784a4988-ea46-491d-dc43-3a36532d9e2c"
      },
      "source": [
        "KnnRecommend(Metric.discrete, Aggregate.baseline, 1).evaluate()"
      ],
      "execution_count": 12,
      "outputs": [
        {
          "output_type": "stream",
          "text": [
            "Fitting model\n",
            "Computing distance matrix\n"
          ],
          "name": "stdout"
        },
        {
          "output_type": "display_data",
          "data": {
            "text/html": [
              "<progress style='width:60ex' max='1000000' value='1000000'></progress>"
            ],
            "text/plain": [
              "[============================================================] 1000000/1000000"
            ]
          },
          "metadata": {
            "tags": []
          }
        },
        {
          "output_type": "stream",
          "text": [
            "Sorting distances\n",
            "Aggregating results\n"
          ],
          "name": "stdout"
        },
        {
          "output_type": "display_data",
          "data": {
            "text/html": [
              "<progress style='width:60ex' max='1000' value='1000'></progress>"
            ],
            "text/plain": [
              "[============================================================] 1000/1000"
            ]
          },
          "metadata": {
            "tags": []
          }
        },
        {
          "output_type": "stream",
          "text": [
            "Evaluating test results\n"
          ],
          "name": "stdout"
        },
        {
          "output_type": "display_data",
          "data": {
            "text/html": [
              "<progress style='width:60ex' max='101506' value='101506'></progress>"
            ],
            "text/plain": [
              "[============================================================] 101506/101506"
            ]
          },
          "metadata": {
            "tags": []
          }
        },
        {
          "output_type": "stream",
          "text": [
            "k = 1, metric = discrete, agg = baseline, rmse = 1.1963762624238339\n"
          ],
          "name": "stdout"
        }
      ]
    },
    {
      "cell_type": "code",
      "metadata": {
        "colab": {
          "base_uri": "https://localhost:8080/",
          "height": 173
        },
        "id": "s0k6WvgVW64o",
        "outputId": "0aed12fb-2a64-4ca2-d51a-96c5737ef55a"
      },
      "source": [
        "KnnRecommend(Metric.euclidean, Aggregate.average, 10).evaluate()"
      ],
      "execution_count": 13,
      "outputs": [
        {
          "output_type": "stream",
          "text": [
            "Fitting model\n",
            "Computing distance matrix\n"
          ],
          "name": "stdout"
        },
        {
          "output_type": "display_data",
          "data": {
            "text/html": [
              "<progress style='width:60ex' max='1000' value='1000'></progress>"
            ],
            "text/plain": [
              "[============================================================] 1000/1000"
            ]
          },
          "metadata": {
            "tags": []
          }
        },
        {
          "output_type": "stream",
          "text": [
            "Sorting distances\n",
            "Aggregating results\n"
          ],
          "name": "stdout"
        },
        {
          "output_type": "display_data",
          "data": {
            "text/html": [
              "<progress style='width:60ex' max='1000' value='1000'></progress>"
            ],
            "text/plain": [
              "[============================================================] 1000/1000"
            ]
          },
          "metadata": {
            "tags": []
          }
        },
        {
          "output_type": "stream",
          "text": [
            "Evaluating test results\n"
          ],
          "name": "stdout"
        },
        {
          "output_type": "display_data",
          "data": {
            "text/html": [
              "<progress style='width:60ex' max='101506' value='101506'></progress>"
            ],
            "text/plain": [
              "[============================================================] 101506/101506"
            ]
          },
          "metadata": {
            "tags": []
          }
        },
        {
          "output_type": "stream",
          "text": [
            "k = 10, metric = euclidean, agg = average, rmse = 1.1719953069488978\n"
          ],
          "name": "stdout"
        }
      ]
    },
    {
      "cell_type": "code",
      "metadata": {
        "colab": {
          "base_uri": "https://localhost:8080/",
          "height": 173
        },
        "id": "ZXhQibQnW7nD",
        "outputId": "d4c8e8d3-63c9-4136-ce67-22ebfe202bb7"
      },
      "source": [
        "KnnRecommend(Metric.taxicab, Aggregate.average, 10).evaluate()"
      ],
      "execution_count": 14,
      "outputs": [
        {
          "output_type": "stream",
          "text": [
            "Fitting model\n",
            "Computing distance matrix\n"
          ],
          "name": "stdout"
        },
        {
          "output_type": "display_data",
          "data": {
            "text/html": [
              "<progress style='width:60ex' max='1000' value='1000'></progress>"
            ],
            "text/plain": [
              "[============================================================] 1000/1000"
            ]
          },
          "metadata": {
            "tags": []
          }
        },
        {
          "output_type": "stream",
          "text": [
            "Sorting distances\n",
            "Aggregating results\n"
          ],
          "name": "stdout"
        },
        {
          "output_type": "display_data",
          "data": {
            "text/html": [
              "<progress style='width:60ex' max='1000' value='1000'></progress>"
            ],
            "text/plain": [
              "[============================================================] 1000/1000"
            ]
          },
          "metadata": {
            "tags": []
          }
        },
        {
          "output_type": "stream",
          "text": [
            "Evaluating test results\n"
          ],
          "name": "stdout"
        },
        {
          "output_type": "display_data",
          "data": {
            "text/html": [
              "<progress style='width:60ex' max='101506' value='101506'></progress>"
            ],
            "text/plain": [
              "[============================================================] 101506/101506"
            ]
          },
          "metadata": {
            "tags": []
          }
        },
        {
          "output_type": "stream",
          "text": [
            "k = 10, metric = taxicab, agg = average, rmse = 1.1744850670205753\n"
          ],
          "name": "stdout"
        }
      ]
    },
    {
      "cell_type": "code",
      "metadata": {
        "colab": {
          "base_uri": "https://localhost:8080/",
          "height": 173
        },
        "id": "X0Hr8IpFTW1u",
        "outputId": "07819a2e-a526-4dfd-de5d-f1d62a48b4e4"
      },
      "source": [
        "KnnRecommend(Metric.cosine_three, Aggregate.average, 10).evaluate()"
      ],
      "execution_count": 15,
      "outputs": [
        {
          "output_type": "stream",
          "text": [
            "Fitting model\n",
            "Computing distance matrix\n"
          ],
          "name": "stdout"
        },
        {
          "output_type": "display_data",
          "data": {
            "text/html": [
              "<progress style='width:60ex' max='500500.0' value='500500'></progress>"
            ],
            "text/plain": [
              "[============================================================] 500500/500500.0"
            ]
          },
          "metadata": {
            "tags": []
          }
        },
        {
          "output_type": "stream",
          "text": [
            "Sorting distances\n",
            "Aggregating results\n"
          ],
          "name": "stdout"
        },
        {
          "output_type": "display_data",
          "data": {
            "text/html": [
              "<progress style='width:60ex' max='1000' value='1000'></progress>"
            ],
            "text/plain": [
              "[============================================================] 1000/1000"
            ]
          },
          "metadata": {
            "tags": []
          }
        },
        {
          "output_type": "stream",
          "text": [
            "Evaluating test results\n"
          ],
          "name": "stdout"
        },
        {
          "output_type": "display_data",
          "data": {
            "text/html": [
              "<progress style='width:60ex' max='101506' value='101506'></progress>"
            ],
            "text/plain": [
              "[============================================================] 101506/101506"
            ]
          },
          "metadata": {
            "tags": []
          }
        },
        {
          "output_type": "stream",
          "text": [
            "k = 10, metric = cosine_three, agg = average, rmse = 1.1790061859929075\n"
          ],
          "name": "stdout"
        }
      ]
    },
    {
      "cell_type": "code",
      "metadata": {
        "colab": {
          "base_uri": "https://localhost:8080/",
          "height": 173
        },
        "id": "fuciLF1wmat8",
        "outputId": "c92a7201-9b48-40a4-d7a7-b436f290ac20"
      },
      "source": [
        "KnnRecommend(Metric.cosine_mean, Aggregate.average, 10).evaluate()"
      ],
      "execution_count": 16,
      "outputs": [
        {
          "output_type": "stream",
          "text": [
            "Fitting model\n",
            "Computing distance matrix\n"
          ],
          "name": "stdout"
        },
        {
          "output_type": "display_data",
          "data": {
            "text/html": [
              "<progress style='width:60ex' max='500500.0' value='500500'></progress>"
            ],
            "text/plain": [
              "[============================================================] 500500/500500.0"
            ]
          },
          "metadata": {
            "tags": []
          }
        },
        {
          "output_type": "stream",
          "text": [
            "Sorting distances\n",
            "Aggregating results\n"
          ],
          "name": "stdout"
        },
        {
          "output_type": "display_data",
          "data": {
            "text/html": [
              "<progress style='width:60ex' max='1000' value='1000'></progress>"
            ],
            "text/plain": [
              "[============================================================] 1000/1000"
            ]
          },
          "metadata": {
            "tags": []
          }
        },
        {
          "output_type": "stream",
          "text": [
            "Evaluating test results\n"
          ],
          "name": "stdout"
        },
        {
          "output_type": "display_data",
          "data": {
            "text/html": [
              "<progress style='width:60ex' max='101506' value='101506'></progress>"
            ],
            "text/plain": [
              "[============================================================] 101506/101506"
            ]
          },
          "metadata": {
            "tags": []
          }
        },
        {
          "output_type": "stream",
          "text": [
            "k = 10, metric = cosine_mean, agg = average, rmse = 1.1027836533184445\n"
          ],
          "name": "stdout"
        }
      ]
    },
    {
      "cell_type": "code",
      "metadata": {
        "colab": {
          "base_uri": "https://localhost:8080/",
          "height": 173
        },
        "id": "JkdLzU7MoNGJ",
        "outputId": "a7094031-da24-4869-91b9-dce6631601e2"
      },
      "source": [
        "KnnRecommend(Metric.pearson, Aggregate.average, 10).evaluate()"
      ],
      "execution_count": 17,
      "outputs": [
        {
          "output_type": "stream",
          "text": [
            "Fitting model\n",
            "Computing distance matrix\n"
          ],
          "name": "stdout"
        },
        {
          "output_type": "display_data",
          "data": {
            "text/html": [
              "<progress style='width:60ex' max='500500.0' value='500500'></progress>"
            ],
            "text/plain": [
              "[============================================================] 500500/500500.0"
            ]
          },
          "metadata": {
            "tags": []
          }
        },
        {
          "output_type": "stream",
          "text": [
            "Sorting distances\n",
            "Aggregating results\n"
          ],
          "name": "stdout"
        },
        {
          "output_type": "display_data",
          "data": {
            "text/html": [
              "<progress style='width:60ex' max='1000' value='1000'></progress>"
            ],
            "text/plain": [
              "[============================================================] 1000/1000"
            ]
          },
          "metadata": {
            "tags": []
          }
        },
        {
          "output_type": "stream",
          "text": [
            "Evaluating test results\n"
          ],
          "name": "stdout"
        },
        {
          "output_type": "display_data",
          "data": {
            "text/html": [
              "<progress style='width:60ex' max='101506' value='101506'></progress>"
            ],
            "text/plain": [
              "[============================================================] 101506/101506"
            ]
          },
          "metadata": {
            "tags": []
          }
        },
        {
          "output_type": "stream",
          "text": [
            "k = 10, metric = pearson, agg = average, rmse = 1.1983998188109357\n"
          ],
          "name": "stdout"
        }
      ]
    },
    {
      "cell_type": "code",
      "metadata": {
        "colab": {
          "base_uri": "https://localhost:8080/",
          "height": 156
        },
        "id": "qxUXIAlloOOZ",
        "outputId": "7c0c8fe9-7a11-4bd8-df76-05a149a233fc"
      },
      "source": [
        "KnnRecommend(Metric.spearman, Aggregate.average, 10).evaluate()"
      ],
      "execution_count": 18,
      "outputs": [
        {
          "output_type": "stream",
          "text": [
            "Fitting model\n",
            "Computing distance matrix\n",
            "Sorting distances\n",
            "Aggregating results\n"
          ],
          "name": "stdout"
        },
        {
          "output_type": "display_data",
          "data": {
            "text/html": [
              "<progress style='width:60ex' max='1000' value='1000'></progress>"
            ],
            "text/plain": [
              "[============================================================] 1000/1000"
            ]
          },
          "metadata": {
            "tags": []
          }
        },
        {
          "output_type": "stream",
          "text": [
            "Evaluating test results\n"
          ],
          "name": "stdout"
        },
        {
          "output_type": "display_data",
          "data": {
            "text/html": [
              "<progress style='width:60ex' max='101506' value='101506'></progress>"
            ],
            "text/plain": [
              "[============================================================] 101506/101506"
            ]
          },
          "metadata": {
            "tags": []
          }
        },
        {
          "output_type": "stream",
          "text": [
            "k = 10, metric = spearman, agg = average, rmse = 1.1968789096831038\n"
          ],
          "name": "stdout"
        }
      ]
    },
    {
      "cell_type": "code",
      "metadata": {
        "colab": {
          "base_uri": "https://localhost:8080/",
          "height": 173
        },
        "id": "HkhQpmCDim1q",
        "outputId": "2e683187-aad8-479a-e355-15e9c1a5d74f"
      },
      "source": [
        "KnnRecommend(Metric.euclidean, Aggregate.weighted, 10).evaluate()"
      ],
      "execution_count": 19,
      "outputs": [
        {
          "output_type": "stream",
          "text": [
            "Fitting model\n",
            "Computing distance matrix\n"
          ],
          "name": "stdout"
        },
        {
          "output_type": "display_data",
          "data": {
            "text/html": [
              "<progress style='width:60ex' max='1000' value='1000'></progress>"
            ],
            "text/plain": [
              "[============================================================] 1000/1000"
            ]
          },
          "metadata": {
            "tags": []
          }
        },
        {
          "output_type": "stream",
          "text": [
            "Sorting distances\n",
            "Aggregating results\n"
          ],
          "name": "stdout"
        },
        {
          "output_type": "display_data",
          "data": {
            "text/html": [
              "<progress style='width:60ex' max='1000' value='1000'></progress>"
            ],
            "text/plain": [
              "[============================================================] 1000/1000"
            ]
          },
          "metadata": {
            "tags": []
          }
        },
        {
          "output_type": "stream",
          "text": [
            "Evaluating test results\n"
          ],
          "name": "stdout"
        },
        {
          "output_type": "display_data",
          "data": {
            "text/html": [
              "<progress style='width:60ex' max='101506' value='101506'></progress>"
            ],
            "text/plain": [
              "[============================================================] 101506/101506"
            ]
          },
          "metadata": {
            "tags": []
          }
        },
        {
          "output_type": "stream",
          "text": [
            "k = 10, metric = euclidean, agg = weighted, rmse = 1.1718550924500097\n"
          ],
          "name": "stdout"
        }
      ]
    },
    {
      "cell_type": "code",
      "metadata": {
        "colab": {
          "base_uri": "https://localhost:8080/",
          "height": 173
        },
        "id": "8hVMWNZOiz-j",
        "outputId": "504e6332-3d97-4c91-8db9-18ec5a028af7"
      },
      "source": [
        "KnnRecommend(Metric.taxicab, Aggregate.weighted, 10).evaluate()"
      ],
      "execution_count": 20,
      "outputs": [
        {
          "output_type": "stream",
          "text": [
            "Fitting model\n",
            "Computing distance matrix\n"
          ],
          "name": "stdout"
        },
        {
          "output_type": "display_data",
          "data": {
            "text/html": [
              "<progress style='width:60ex' max='1000' value='1000'></progress>"
            ],
            "text/plain": [
              "[============================================================] 1000/1000"
            ]
          },
          "metadata": {
            "tags": []
          }
        },
        {
          "output_type": "stream",
          "text": [
            "Sorting distances\n",
            "Aggregating results\n"
          ],
          "name": "stdout"
        },
        {
          "output_type": "display_data",
          "data": {
            "text/html": [
              "<progress style='width:60ex' max='1000' value='1000'></progress>"
            ],
            "text/plain": [
              "[============================================================] 1000/1000"
            ]
          },
          "metadata": {
            "tags": []
          }
        },
        {
          "output_type": "stream",
          "text": [
            "Evaluating test results\n"
          ],
          "name": "stdout"
        },
        {
          "output_type": "display_data",
          "data": {
            "text/html": [
              "<progress style='width:60ex' max='101506' value='101506'></progress>"
            ],
            "text/plain": [
              "[============================================================] 101506/101506"
            ]
          },
          "metadata": {
            "tags": []
          }
        },
        {
          "output_type": "stream",
          "text": [
            "k = 10, metric = taxicab, agg = weighted, rmse = 1.1741711570807052\n"
          ],
          "name": "stdout"
        }
      ]
    },
    {
      "cell_type": "code",
      "metadata": {
        "colab": {
          "base_uri": "https://localhost:8080/",
          "height": 173
        },
        "id": "eoX_0UC_TH-s",
        "outputId": "99dd6752-3d46-4f2b-fbe8-6293319ab18d"
      },
      "source": [
        "KnnRecommend(Metric.cosine_three, Aggregate.weighted, 10).evaluate()"
      ],
      "execution_count": 21,
      "outputs": [
        {
          "output_type": "stream",
          "text": [
            "Fitting model\n",
            "Computing distance matrix\n"
          ],
          "name": "stdout"
        },
        {
          "output_type": "display_data",
          "data": {
            "text/html": [
              "<progress style='width:60ex' max='500500.0' value='500500'></progress>"
            ],
            "text/plain": [
              "[============================================================] 500500/500500.0"
            ]
          },
          "metadata": {
            "tags": []
          }
        },
        {
          "output_type": "stream",
          "text": [
            "Sorting distances\n",
            "Aggregating results\n"
          ],
          "name": "stdout"
        },
        {
          "output_type": "display_data",
          "data": {
            "text/html": [
              "<progress style='width:60ex' max='1000' value='1000'></progress>"
            ],
            "text/plain": [
              "[============================================================] 1000/1000"
            ]
          },
          "metadata": {
            "tags": []
          }
        },
        {
          "output_type": "stream",
          "text": [
            "Evaluating test results\n"
          ],
          "name": "stdout"
        },
        {
          "output_type": "display_data",
          "data": {
            "text/html": [
              "<progress style='width:60ex' max='101506' value='101506'></progress>"
            ],
            "text/plain": [
              "[============================================================] 101506/101506"
            ]
          },
          "metadata": {
            "tags": []
          }
        },
        {
          "output_type": "stream",
          "text": [
            "k = 10, metric = cosine_three, agg = weighted, rmse = 1.178323341468338\n"
          ],
          "name": "stdout"
        }
      ]
    },
    {
      "cell_type": "code",
      "metadata": {
        "colab": {
          "base_uri": "https://localhost:8080/",
          "height": 173
        },
        "id": "E2k0bfE1mgLP",
        "outputId": "c1587ac2-8b6c-4786-89e1-602c6e52ab34"
      },
      "source": [
        "KnnRecommend(Metric.cosine_mean, Aggregate.weighted, 10).evaluate()"
      ],
      "execution_count": 22,
      "outputs": [
        {
          "output_type": "stream",
          "text": [
            "Fitting model\n",
            "Computing distance matrix\n"
          ],
          "name": "stdout"
        },
        {
          "output_type": "display_data",
          "data": {
            "text/html": [
              "<progress style='width:60ex' max='500500.0' value='500500'></progress>"
            ],
            "text/plain": [
              "[============================================================] 500500/500500.0"
            ]
          },
          "metadata": {
            "tags": []
          }
        },
        {
          "output_type": "stream",
          "text": [
            "Sorting distances\n",
            "Aggregating results\n"
          ],
          "name": "stdout"
        },
        {
          "output_type": "display_data",
          "data": {
            "text/html": [
              "<progress style='width:60ex' max='1000' value='1000'></progress>"
            ],
            "text/plain": [
              "[============================================================] 1000/1000"
            ]
          },
          "metadata": {
            "tags": []
          }
        },
        {
          "output_type": "stream",
          "text": [
            "Evaluating test results\n"
          ],
          "name": "stdout"
        },
        {
          "output_type": "display_data",
          "data": {
            "text/html": [
              "<progress style='width:60ex' max='101506' value='101506'></progress>"
            ],
            "text/plain": [
              "[============================================================] 101506/101506"
            ]
          },
          "metadata": {
            "tags": []
          }
        },
        {
          "output_type": "stream",
          "text": [
            "k = 10, metric = cosine_mean, agg = weighted, rmse = 1.1009416665900855\n"
          ],
          "name": "stdout"
        }
      ]
    },
    {
      "cell_type": "code",
      "metadata": {
        "colab": {
          "base_uri": "https://localhost:8080/",
          "height": 173
        },
        "id": "_HNNCze7nCN-",
        "outputId": "b318ad02-827f-4357-812b-819196d4d222"
      },
      "source": [
        "KnnRecommend(Metric.pearson, Aggregate.weighted, 10).evaluate()"
      ],
      "execution_count": 23,
      "outputs": [
        {
          "output_type": "stream",
          "text": [
            "Fitting model\n",
            "Computing distance matrix\n"
          ],
          "name": "stdout"
        },
        {
          "output_type": "display_data",
          "data": {
            "text/html": [
              "<progress style='width:60ex' max='500500.0' value='500500'></progress>"
            ],
            "text/plain": [
              "[============================================================] 500500/500500.0"
            ]
          },
          "metadata": {
            "tags": []
          }
        },
        {
          "output_type": "stream",
          "text": [
            "Sorting distances\n",
            "Aggregating results\n"
          ],
          "name": "stdout"
        },
        {
          "output_type": "display_data",
          "data": {
            "text/html": [
              "<progress style='width:60ex' max='1000' value='1000'></progress>"
            ],
            "text/plain": [
              "[============================================================] 1000/1000"
            ]
          },
          "metadata": {
            "tags": []
          }
        },
        {
          "output_type": "stream",
          "text": [
            "Evaluating test results\n"
          ],
          "name": "stdout"
        },
        {
          "output_type": "display_data",
          "data": {
            "text/html": [
              "<progress style='width:60ex' max='101506' value='101506'></progress>"
            ],
            "text/plain": [
              "[============================================================] 101506/101506"
            ]
          },
          "metadata": {
            "tags": []
          }
        },
        {
          "output_type": "stream",
          "text": [
            "k = 10, metric = pearson, agg = weighted, rmse = 1.1963136924278797\n"
          ],
          "name": "stdout"
        }
      ]
    },
    {
      "cell_type": "code",
      "metadata": {
        "colab": {
          "base_uri": "https://localhost:8080/",
          "height": 156
        },
        "id": "5KfocnRGnCwq",
        "outputId": "00a357e6-13af-4c4e-884a-c771e664a418"
      },
      "source": [
        "KnnRecommend(Metric.spearman, Aggregate.weighted, 10).evaluate()"
      ],
      "execution_count": 24,
      "outputs": [
        {
          "output_type": "stream",
          "text": [
            "Fitting model\n",
            "Computing distance matrix\n",
            "Sorting distances\n",
            "Aggregating results\n"
          ],
          "name": "stdout"
        },
        {
          "output_type": "display_data",
          "data": {
            "text/html": [
              "<progress style='width:60ex' max='1000' value='1000'></progress>"
            ],
            "text/plain": [
              "[============================================================] 1000/1000"
            ]
          },
          "metadata": {
            "tags": []
          }
        },
        {
          "output_type": "stream",
          "text": [
            "Evaluating test results\n"
          ],
          "name": "stdout"
        },
        {
          "output_type": "display_data",
          "data": {
            "text/html": [
              "<progress style='width:60ex' max='101506' value='101506'></progress>"
            ],
            "text/plain": [
              "[============================================================] 101506/101506"
            ]
          },
          "metadata": {
            "tags": []
          }
        },
        {
          "output_type": "stream",
          "text": [
            "k = 10, metric = spearman, agg = weighted, rmse = 1.196881856675309\n"
          ],
          "name": "stdout"
        }
      ]
    }
  ]
}