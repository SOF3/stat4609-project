{
  "nbformat": 4,
  "nbformat_minor": 0,
  "metadata": {
    "colab": {
      "name": "Copy of Copy of Copy of SVD.ipynb",
      "provenance": [],
      "collapsed_sections": []
    },
    "kernelspec": {
      "display_name": "Python 3",
      "name": "python3"
    },
    "language_info": {
      "name": "python"
    }
  },
  "cells": [
    {
      "cell_type": "code",
      "metadata": {
        "id": "9ZWDAunzZH-V"
      },
      "source": [
        "import datetime\n",
        "import random\n",
        "import time\n",
        "\n",
        "import numpy\n",
        "import pandas\n",
        "import scipy\n",
        "import matplotlib.pyplot as plt\n",
        "import IPython.display as disp\n",
        "\n",
        "class Progress:\n",
        "    \"\"\"Wrapper for IPython.display.ProgressBar with improved performance\"\"\"\n",
        "\n",
        "    def __init__(self, total):\n",
        "        self.bar = disp.ProgressBar(total)\n",
        "        self.progress = 0\n",
        "        self.last = 0\n",
        "    def inc(self):\n",
        "        self.progress += 1\n",
        "        if time.monotonic_ns() - self.last > 1e8:\n",
        "            self.bar.progress = self.progress\n",
        "            self.bar.update()\n",
        "            self.last = time.monotonic_ns()\n",
        "    def __enter__(self):\n",
        "        return self\n",
        "    def __exit__(self, exc_type, exc_value, tb):\n",
        "        self.bar.progress = self.progress\n",
        "        self.bar.update()\n",
        "        return False"
      ],
      "execution_count": null,
      "outputs": []
    },
    {
      "cell_type": "code",
      "metadata": {
        "colab": {
          "base_uri": "https://localhost:8080/"
        },
        "id": "BPku5jh7ZorR",
        "outputId": "711e8f5c-bc9e-4edf-f856-b762921a3008"
      },
      "source": [
        "from google.colab import drive\n",
        "drive.mount('/content/drive')"
      ],
      "execution_count": null,
      "outputs": [
        {
          "output_type": "stream",
          "text": [
            "Mounted at /content/drive\n"
          ],
          "name": "stdout"
        }
      ]
    },
    {
      "cell_type": "code",
      "metadata": {
        "colab": {
          "base_uri": "https://localhost:8080/"
        },
        "id": "dG23rpEbZqpS",
        "outputId": "9015b3ff-1548-4be8-fcf9-e8531e9fba76"
      },
      "source": [
        "!test -d dataset || unzip /content/drive/Shareddrives/'STAT4609 Netflix'/dataset.zip -d dataset"
      ],
      "execution_count": null,
      "outputs": [
        {
          "output_type": "stream",
          "text": [
            "Archive:  /content/drive/Shareddrives/STAT4609 Netflix/dataset.zip\n",
            "  inflating: dataset/README          \n",
            "  inflating: dataset/combined_data_1.txt  \n",
            "  inflating: dataset/combined_data_2.txt  \n",
            "  inflating: dataset/combined_data_3.txt  \n",
            "  inflating: dataset/combined_data_4.txt  "
          ],
          "name": "stdout"
        }
      ]
    },
    {
      "cell_type": "code",
      "metadata": {
        "colab": {
          "background_save": true
        },
        "id": "DiUXzMnJZuym",
        "outputId": "dc1e2704-cfa4-43a6-ef7a-61f887d3c7f2"
      },
      "source": [
        "class Counter:\n",
        "    \"\"\"Assigns an ID mapping to non-contiguous values\"\"\"\n",
        "\n",
        "    def __init__(self):\n",
        "        self.cache = {}\n",
        "    def resolve(self, value, max):\n",
        "        if value in self.cache:\n",
        "            return self.cache[value]\n",
        "        id = len(self.cache)\n",
        "        if id >= max:\n",
        "            return None\n",
        "        self.cache[value] = id\n",
        "        return id\n",
        "    def size(self):\n",
        "        return len(self.cache)\n",
        "\n",
        "user_counter = Counter()\n",
        "movie_counter = Counter()\n",
        "\n",
        "def read_ratings_file(data, path, row, progress):\n",
        "    with open(path) as fh:\n",
        "        for line in fh:\n",
        "            line = line.rstrip(\"\\r\\n\")\n",
        "            if line.endswith(\":\"):\n",
        "                movie_id = int(line[:-1])\n",
        "                movie_id = movie_counter.resolve(movie_id, 10000)\n",
        "                progress.inc()\n",
        "                if movie_id is None:\n",
        "                    break\n",
        "            elif \",\" in line:\n",
        "                user, rating, date = line.split(\",\")\n",
        "                user = int(user)\n",
        "                rating = int(rating)\n",
        "                user_id = user_counter.resolve(user, 1000)\n",
        "                if user_id is None:\n",
        "                    continue\n",
        "                y, m, d = date.split(\"-\")\n",
        "                date = datetime.date(int(y), int(m), int(d))\n",
        "                data[row] = [movie_id, int(user_id), int(rating), y, date.timetuple().tm_yday, date.weekday()]\n",
        "                row += 1\n",
        "    return row\n",
        "\n",
        "def read_ratings():\n",
        "    # data = numpy.zeros([100498277, 6])\n",
        "    data = numpy.zeros([1000000, 6])\n",
        "    row = 0\n",
        "    with Progress(10000) as progress:\n",
        "        row = read_ratings_file(data, \"dataset/combined_data_1.txt\", row, progress)\n",
        "        row = read_ratings_file(data, \"dataset/combined_data_2.txt\", row, progress)\n",
        "        row = read_ratings_file(data, \"dataset/combined_data_3.txt\", row, progress)\n",
        "        row = read_ratings_file(data, \"dataset/combined_data_4.txt\", row, progress)\n",
        "    return data[:row]\n",
        "\n",
        "data = read_ratings()"
      ],
      "execution_count": null,
      "outputs": [
        {
          "output_type": "display_data",
          "data": {
            "text/html": [
              "<progress style='width:60ex' max='10000' value='10002'></progress>"
            ],
            "text/plain": [
              "[============================================================] 10002/10000"
            ]
          },
          "metadata": {
            "tags": []
          }
        }
      ]
    },
    {
      "cell_type": "code",
      "metadata": {
        "colab": {
          "background_save": true
        },
        "id": "qOFLH0gsZxsK",
        "outputId": "eec0ac80-0d1b-4193-cfd6-1e736179f2e9"
      },
      "source": [
        "movie_count = movie_counter.size()\n",
        "user_count = user_counter.size()\n",
        "\n",
        "def split_fill_ratings(data):\n",
        "    output = numpy.empty((user_count, movie_count))\n",
        "    output[:, :] = numpy.nan\n",
        "\n",
        "    evaluation = []\n",
        "\n",
        "    with Progress(data.shape[0]) as progress:\n",
        "        for i in range(data.shape[0]):\n",
        "            user = int(data[i, 1])\n",
        "            movie = int(data[i, 0])\n",
        "            rating = data[i, 2]\n",
        "\n",
        "            if random.randrange(0, 100) < 20:\n",
        "                evaluation.append((user, movie, rating))\n",
        "            else:\n",
        "                output[user, movie] = rating\n",
        "            progress.inc()\n",
        "    \n",
        "    return output, evaluation\n",
        "\n",
        "ratings, evaluation = split_fill_ratings(data)"
      ],
      "execution_count": null,
      "outputs": [
        {
          "output_type": "display_data",
          "data": {
            "text/html": [
              "<progress style='width:60ex' max='508093' value='508093'></progress>"
            ],
            "text/plain": [
              "[============================================================] 508093/508093"
            ]
          },
          "metadata": {
            "tags": []
          }
        }
      ]
    },
    {
      "cell_type": "code",
      "metadata": {
        "colab": {
          "background_save": true
        },
        "id": "M0YQBAuM4FoG"
      },
      "source": [
        "class SimpleSvd:\n",
        "    def __init__(self, learning_rate, regularization, rank, epochs):\n",
        "        self.learning_rate = learning_rate\n",
        "        self.regularization = regularization\n",
        "        self.rank = rank\n",
        "        self.epochs = epochs\n",
        "\n",
        "    def fit(self, ratings):\n",
        "        mu = numpy.nanmean(ratings)\n",
        "\n",
        "        bias_users = numpy.random.normal(scale=0.5, size=(user_count,))\n",
        "        bias_movies = numpy.random.normal(scale=0.5, size=(movie_count,))\n",
        "\n",
        "        latent_users = numpy.random.normal(scale=0.5, size=(user_count, self.rank))\n",
        "        latent_movies = numpy.random.normal(scale=0.5, size=(movie_count, self.rank))\n",
        "\n",
        "        filled_user, filled_movie = numpy.where(numpy.logical_not(numpy.isnan(ratings)))\n",
        "        filled_count = filled_user.shape[0]\n",
        "\n",
        "        history = []\n",
        "        with Progress(self.epochs * filled_count) as progress:\n",
        "            for epoch in range(self.epochs):\n",
        "                mse = 0\n",
        "                for user, movie in zip(filled_user, filled_movie):\n",
        "                    est = mu + bias_users[user] + bias_movies[movie] + numpy.dot(latent_users[user, :], latent_movies[movie, :])\n",
        "                    err = ratings[user, movie] - est\n",
        "\n",
        "                    bias_users[user] += self.learning_rate * (err - self.regularization * bias_users[user])\n",
        "                    bias_movies[movie] += self.learning_rate * (err - self.regularization * bias_movies[movie])\n",
        "                    latent_users[user, :] += self.learning_rate * (err * latent_movies[movie, :] - self.regularization * latent_users[user, :])\n",
        "                    latent_movies[movie, :] += self.learning_rate * (err * latent_users[user, :] - self.regularization * latent_movies[movie, :])\n",
        "\n",
        "                    mse += err * err\n",
        "                    progress.inc()\n",
        "\n",
        "                history.append(numpy.sqrt(mse / filled_count))\n",
        "                print(f\"Epoch {epoch}, mse = {mse / filled_count}\")\n",
        "        \n",
        "        plt.xlabel(\"Epochs\")\n",
        "        plt.ylabel(\"RMSE\")\n",
        "        plt.plot(numpy.arange(self.epochs), history)\n",
        "        plt.show()\n",
        "\n",
        "        self.mu = mu\n",
        "        self.bias_users = bias_users\n",
        "        self.bias_movies = bias_movies\n",
        "        self.latent_users = latent_users\n",
        "        self.latent_movies = latent_movies\n",
        "\n",
        "        return self\n",
        "\n",
        "    def predict(self, user, movie):\n",
        "        return self.mu + self.bias_users[user] + self.bias_movies[movie] + numpy.sum(self.latent_users[user, :] * self.latent_movies[movie, :])\n",
        "\n",
        "    def evaluate(self, evaluation):\n",
        "        se = 0\n",
        "        for user, movie, rating in evaluation:\n",
        "            err = self.predict(user, movie) - rating\n",
        "            se += err ** 2\n",
        "        print(\"Test RMSE: {}\".format(numpy.sqrt(se / len(evaluation))))"
      ],
      "execution_count": null,
      "outputs": []
    },
    {
      "cell_type": "code",
      "metadata": {
        "id": "TeLzHvsUpRGJ",
        "colab": {
          "base_uri": "https://localhost:8080/",
          "height": 1000
        },
        "outputId": "541b50f5-eaf3-4bc3-c314-a2aba49525d6"
      },
      "source": [
        "SimpleSvd(0.005, 0.0, 100, 40).fit(ratings).evaluate(evaluation)"
      ],
      "execution_count": 7,
      "outputs": [
        {
          "output_type": "display_data",
          "data": {
            "text/html": [
              "<progress style='width:60ex' max='16243360' value='11383003'></progress>"
            ],
            "text/plain": [
              "[==========================================                  ] 11383003/16243360"
            ]
          },
          "metadata": {
            "tags": []
          }
        },
        {
          "output_type": "stream",
          "text": [
            "Epoch 0, mse = 3.9043609068801883\n",
            "Epoch 1, mse = 1.605133978502547\n",
            "Epoch 2, mse = 1.2041281054321304\n",
            "Epoch 3, mse = 1.0337332437459033\n",
            "Epoch 4, mse = 0.938846711747596\n",
            "Epoch 5, mse = 0.8771160149383905\n",
            "Epoch 6, mse = 0.8324993409704966\n",
            "Epoch 7, mse = 0.797724374416866\n",
            "Epoch 8, mse = 0.7690929789106409\n",
            "Epoch 9, mse = 0.7445652158475373\n",
            "Epoch 10, mse = 0.7229410424521606\n",
            "Epoch 11, mse = 0.7034736929169344\n",
            "Epoch 12, mse = 0.6856739404540778\n",
            "Epoch 13, mse = 0.6692059332813746\n",
            "Epoch 14, mse = 0.6538294513975128\n",
            "Epoch 15, mse = 0.6393666540917453\n",
            "Epoch 16, mse = 0.6256821807740245\n",
            "Epoch 17, mse = 0.6126707549613059\n",
            "Epoch 18, mse = 0.6002491314846339\n",
            "Epoch 19, mse = 0.5883506381360064\n",
            "Epoch 20, mse = 0.5769213220436906\n",
            "Epoch 21, mse = 0.5659171281187267\n",
            "Epoch 22, mse = 0.5553017703610569\n",
            "Epoch 23, mse = 0.5450450896831012\n",
            "Epoch 24, mse = 0.5351217686056716\n",
            "Epoch 25, mse = 0.5255103179585124\n",
            "Epoch 26, mse = 0.5161922770996481\n",
            "Epoch 27, mse = 0.5071515849217164\n"
          ],
          "name": "stdout"
        },
        {
          "output_type": "display_data",
          "data": {
            "text/html": [
              "<progress style='width:60ex' max='16243360' value='16243360'></progress>"
            ],
            "text/plain": [
              "[============================================================] 16243360/16243360"
            ]
          },
          "metadata": {
            "tags": []
          }
        },
        {
          "output_type": "stream",
          "text": [
            "Epoch 28, mse = 0.49837408856776916\n",
            "Epoch 29, mse = 0.4898471630355375\n",
            "Epoch 30, mse = 0.4815594192845801\n",
            "Epoch 31, mse = 0.47350048196423794\n",
            "Epoch 32, mse = 0.4656608209121556\n",
            "Epoch 33, mse = 0.45803162332557845\n",
            "Epoch 34, mse = 0.4506046960321689\n",
            "Epoch 35, mse = 0.4433723895612563\n",
            "Epoch 36, mse = 0.43632753770771265\n",
            "Epoch 37, mse = 0.42946340795899945\n",
            "Epoch 38, mse = 0.42277365951855206\n",
            "Epoch 39, mse = 0.4162523067179357\n"
          ],
          "name": "stdout"
        },
        {
          "output_type": "display_data",
          "data": {
            "image/png": "[encoded data removed]",
            "text/plain": [
              "<Figure size 432x288 with 1 Axes>"
            ]
          },
          "metadata": {
            "tags": [],
            "needs_background": "light"
          }
        },
        {
          "output_type": "stream",
          "text": [
            "Test RMSE: 1.269245220809181\n"
          ],
          "name": "stdout"
        }
      ]
    },
    {
      "cell_type": "code",
      "metadata": {
        "id": "hRyn7wDv-Ulr",
        "colab": {
          "base_uri": "https://localhost:8080/",
          "height": 1000
        },
        "outputId": "76448211-d435-4cb5-9077-236e5f8da8f8"
      },
      "source": [
        "SimpleSvd(0.005, 0.01, 100, 40).fit(ratings).evaluate(evaluation)"
      ],
      "execution_count": 8,
      "outputs": [
        {
          "output_type": "display_data",
          "data": {
            "text/html": [
              "<progress style='width:60ex' max='16243360' value='16243360'></progress>"
            ],
            "text/plain": [
              "[============================================================] 16243360/16243360"
            ]
          },
          "metadata": {
            "tags": []
          }
        },
        {
          "output_type": "stream",
          "text": [
            "Epoch 0, mse = 3.8446319078107765\n",
            "Epoch 1, mse = 1.5744625574230084\n",
            "Epoch 2, mse = 1.1839809764780689\n",
            "Epoch 3, mse = 1.018946986119016\n",
            "Epoch 4, mse = 0.9275517462587688\n",
            "Epoch 5, mse = 0.8684080841048136\n",
            "Epoch 6, mse = 0.8258629468634361\n",
            "Epoch 7, mse = 0.7928286625856\n",
            "Epoch 8, mse = 0.7656985146308812\n",
            "Epoch 9, mse = 0.7424754376410755\n",
            "Epoch 10, mse = 0.7219771495573515\n",
            "Epoch 11, mse = 0.7034634337681789\n",
            "Epoch 12, mse = 0.6864484087314167\n",
            "Epoch 13, mse = 0.670600378551891\n",
            "Epoch 14, mse = 0.6556855754831292\n",
            "Epoch 15, mse = 0.6415349917853739\n",
            "Epoch 16, mse = 0.6280239361455204\n",
            "Epoch 17, mse = 0.6150589272246492\n",
            "Epoch 18, mse = 0.6025689988023109\n",
            "Epoch 19, mse = 0.5904997559775165\n",
            "Epoch 20, mse = 0.5788091998375587\n",
            "Epoch 21, mse = 0.5674647179806963\n",
            "Epoch 22, mse = 0.5564408609431164\n",
            "Epoch 23, mse = 0.5457176604733359\n",
            "Epoch 24, mse = 0.5352793312622263\n",
            "Epoch 25, mse = 0.5251132528355665\n",
            "Epoch 26, mse = 0.5152091639093856\n",
            "Epoch 27, mse = 0.5055585242088354\n",
            "Epoch 28, mse = 0.49615401278506993\n",
            "Epoch 29, mse = 0.4869891401377134\n",
            "Epoch 30, mse = 0.4780579560534201\n",
            "Epoch 31, mse = 0.46935483752713913\n",
            "Epoch 32, mse = 0.46087434252307236\n",
            "Epoch 33, mse = 0.4526111163657493\n",
            "Epoch 34, mse = 0.4445598386278411\n",
            "Epoch 35, mse = 0.4367151996752883\n",
            "Epoch 36, mse = 0.42907189754616176\n",
            "Epoch 37, mse = 0.42162464749738465\n",
            "Epoch 38, mse = 0.41436819823511223\n",
            "Epoch 39, mse = 0.4072973504353778\n"
          ],
          "name": "stdout"
        },
        {
          "output_type": "display_data",
          "data": {
            "image/png": "[encoded data removed]",
            "text/plain": [
              "<Figure size 432x288 with 1 Axes>"
            ]
          },
          "metadata": {
            "tags": [],
            "needs_background": "light"
          }
        },
        {
          "output_type": "stream",
          "text": [
            "Test RMSE: 1.1562799703503093\n"
          ],
          "name": "stdout"
        }
      ]
    },
    {
      "cell_type": "code",
      "metadata": {
        "id": "3Avvl7j4-V2D",
        "colab": {
          "base_uri": "https://localhost:8080/",
          "height": 1000
        },
        "outputId": "3e6766e8-003a-412c-aabd-772f50ec2a25"
      },
      "source": [
        "SimpleSvd(0.005, 0.0, 50, 40).fit(ratings).evaluate(evaluation)"
      ],
      "execution_count": 9,
      "outputs": [
        {
          "output_type": "display_data",
          "data": {
            "text/html": [
              "<progress style='width:60ex' max='16243360' value='16243360'></progress>"
            ],
            "text/plain": [
              "[============================================================] 16243360/16243360"
            ]
          },
          "metadata": {
            "tags": []
          }
        },
        {
          "output_type": "stream",
          "text": [
            "Epoch 0, mse = 2.548336919038688\n",
            "Epoch 1, mse = 1.3701500850085435\n",
            "Epoch 2, mse = 1.1323169145085734\n",
            "Epoch 3, mse = 1.0244793016000504\n",
            "Epoch 4, mse = 0.9615675670826781\n",
            "Epoch 5, mse = 0.9191219585549587\n",
            "Epoch 6, mse = 0.887452895961696\n",
            "Epoch 7, mse = 0.861994347360733\n",
            "Epoch 8, mse = 0.840373126838278\n",
            "Epoch 9, mse = 0.8212957023574128\n",
            "Epoch 10, mse = 0.8040418660983044\n",
            "Epoch 11, mse = 0.7881983328908231\n",
            "Epoch 12, mse = 0.7735099826619973\n",
            "Epoch 13, mse = 0.7598004825180562\n",
            "Epoch 14, mse = 0.746934250225453\n",
            "Epoch 15, mse = 0.7348000595971628\n",
            "Epoch 16, mse = 0.7233041486893216\n",
            "Epoch 17, mse = 0.7123668612577433\n",
            "Epoch 18, mse = 0.7019204709253464\n",
            "Epoch 19, mse = 0.6919074391632912\n",
            "Epoch 20, mse = 0.6822789165411935\n",
            "Epoch 21, mse = 0.672993446959472\n",
            "Epoch 22, mse = 0.664015858941002\n",
            "Epoch 23, mse = 0.6553163247719288\n",
            "Epoch 24, mse = 0.6468695642749772\n",
            "Epoch 25, mse = 0.6386541697053258\n",
            "Epoch 26, mse = 0.6306520306340916\n",
            "Epoch 27, mse = 0.6228478411713246\n",
            "Epoch 28, mse = 0.6152286754433808\n",
            "Epoch 29, mse = 0.6077836203687219\n",
            "Epoch 30, mse = 0.6005034572997366\n",
            "Epoch 31, mse = 0.59338038600841\n",
            "Epoch 32, mse = 0.5864077858758586\n",
            "Epoch 33, mse = 0.5795800101014876\n",
            "Epoch 34, mse = 0.5728922093829356\n",
            "Epoch 35, mse = 0.5663401819290544\n",
            "Epoch 36, mse = 0.5599202469341845\n",
            "Epoch 37, mse = 0.5536291388241265\n",
            "Epoch 38, mse = 0.547463919732102\n",
            "Epoch 39, mse = 0.5414219078030122\n"
          ],
          "name": "stdout"
        },
        {
          "output_type": "display_data",
          "data": {
            "image/png": "[encoded data removed]",
            "text/plain": [
              "<Figure size 432x288 with 1 Axes>"
            ]
          },
          "metadata": {
            "tags": [],
            "needs_background": "light"
          }
        },
        {
          "output_type": "stream",
          "text": [
            "Test RMSE: 1.082470246953725\n"
          ],
          "name": "stdout"
        }
      ]
    },
    {
      "cell_type": "code",
      "metadata": {
        "id": "Q-P6e9aW1Imw",
        "colab": {
          "base_uri": "https://localhost:8080/",
          "height": 1000
        },
        "outputId": "690cd830-47a6-464f-ffe9-b0fbcb62cb7d"
      },
      "source": [
        "SimpleSvd(0.005, 0.0, 10, 40).fit(ratings).evaluate(evaluation)"
      ],
      "execution_count": 10,
      "outputs": [
        {
          "output_type": "display_data",
          "data": {
            "text/html": [
              "<progress style='width:60ex' max='16243360' value='16243360'></progress>"
            ],
            "text/plain": [
              "[============================================================] 16243360/16243360"
            ]
          },
          "metadata": {
            "tags": []
          }
        },
        {
          "output_type": "stream",
          "text": [
            "Epoch 0, mse = 1.5133697847359937\n",
            "Epoch 1, mse = 1.1190776927951755\n",
            "Epoch 2, mse = 1.028544174446055\n",
            "Epoch 3, mse = 0.9841957663237556\n",
            "Epoch 4, mse = 0.9572362282998783\n",
            "Epoch 5, mse = 0.9387611792927263\n",
            "Epoch 6, mse = 0.9250041997033859\n",
            "Epoch 7, mse = 0.9140608644590068\n",
            "Epoch 8, mse = 0.9048376087713766\n",
            "Epoch 9, mse = 0.8966392469405806\n",
            "Epoch 10, mse = 0.8889895634069707\n",
            "Epoch 11, mse = 0.8815542626050301\n",
            "Epoch 12, mse = 0.8741142426325307\n",
            "Epoch 13, mse = 0.8665594027356822\n",
            "Epoch 14, mse = 0.8588795920333822\n",
            "Epoch 15, mse = 0.8511388934513844\n",
            "Epoch 16, mse = 0.8434364529730016\n",
            "Epoch 17, mse = 0.835869670012457\n",
            "Epoch 18, mse = 0.8285127119356034\n",
            "Epoch 19, mse = 0.821411321860089\n",
            "Epoch 20, mse = 0.8145871397518303\n",
            "Epoch 21, mse = 0.8080448069318583\n",
            "Epoch 22, mse = 0.8017783311380153\n",
            "Epoch 23, mse = 0.7957757135645941\n",
            "Epoch 24, mse = 0.790021973607812\n",
            "Epoch 25, mse = 0.7845010036535677\n",
            "Epoch 26, mse = 0.7791966552536935\n",
            "Epoch 27, mse = 0.7740933477137262\n",
            "Epoch 28, mse = 0.7691763887590519\n",
            "Epoch 29, mse = 0.7644321244908581\n",
            "Epoch 30, mse = 0.759847989239418\n",
            "Epoch 31, mse = 0.755412497415118\n",
            "Epoch 32, mse = 0.7511152024046119\n",
            "Epoch 33, mse = 0.746946637450852\n",
            "Epoch 34, mse = 0.7428982474756987\n",
            "Epoch 35, mse = 0.738962317262695\n",
            "Epoch 36, mse = 0.7351318993125442\n",
            "Epoch 37, mse = 0.7314007434148818\n",
            "Epoch 38, mse = 0.7277632292024205\n",
            "Epoch 39, mse = 0.724214302462255\n"
          ],
          "name": "stdout"
        },
        {
          "output_type": "display_data",
          "data": {
            "image/png": "[encoded data removed]",
            "text/plain": [
              "<Figure size 432x288 with 1 Axes>"
            ]
          },
          "metadata": {
            "tags": [],
            "needs_background": "light"
          }
        },
        {
          "output_type": "stream",
          "text": [
            "Test RMSE: 0.9547394211633511\n"
          ],
          "name": "stdout"
        }
      ]
    },
    {
      "cell_type": "code",
      "metadata": {
        "id": "kFBBHRkR1MNE",
        "colab": {
          "base_uri": "https://localhost:8080/",
          "height": 1000
        },
        "outputId": "0bad2a59-7bdc-4a68-9bf9-26a106d45167"
      },
      "source": [
        "SimpleSvd(0.01, 0.0, 100, 40).fit(ratings).evaluate(evaluation)"
      ],
      "execution_count": 12,
      "outputs": [
        {
          "output_type": "display_data",
          "data": {
            "text/html": [
              "<progress style='width:60ex' max='16243360' value='16243360'></progress>"
            ],
            "text/plain": [
              "[============================================================] 16243360/16243360"
            ]
          },
          "metadata": {
            "tags": []
          }
        },
        {
          "output_type": "stream",
          "text": [
            "Epoch 0, mse = 3.1488466800170585\n",
            "Epoch 1, mse = 1.201590819289341\n",
            "Epoch 2, mse = 0.9867355986848432\n",
            "Epoch 3, mse = 0.8910159605922267\n",
            "Epoch 4, mse = 0.8299930013995165\n",
            "Epoch 5, mse = 0.7837216387697681\n",
            "Epoch 6, mse = 0.7453928964504358\n",
            "Epoch 7, mse = 0.712076517363863\n",
            "Epoch 8, mse = 0.6822689054928215\n",
            "Epoch 9, mse = 0.6551023516527872\n",
            "Epoch 10, mse = 0.6300375908802892\n",
            "Epoch 11, mse = 0.606720709740397\n",
            "Epoch 12, mse = 0.5849074361441723\n",
            "Epoch 13, mse = 0.5644202396117856\n",
            "Epoch 14, mse = 0.5451233878906543\n",
            "Epoch 15, mse = 0.526908378961378\n",
            "Epoch 16, mse = 0.5096853853298637\n",
            "Epoch 17, mse = 0.4933780936309501\n",
            "Epoch 18, mse = 0.4779204133272928\n",
            "Epoch 19, mse = 0.46325422070573313\n",
            "Epoch 20, mse = 0.4493277133779904\n",
            "Epoch 21, mse = 0.4360941670552033\n",
            "Epoch 22, mse = 0.4235109879433732\n",
            "Epoch 23, mse = 0.41153899637164104\n",
            "Epoch 24, mse = 0.4001418935334077\n",
            "Epoch 25, mse = 0.3892858703707824\n",
            "Epoch 26, mse = 0.3789393228231734\n",
            "Epoch 27, mse = 0.3690726431543428\n",
            "Epoch 28, mse = 0.3596580630398279\n",
            "Epoch 29, mse = 0.3506695300351327\n",
            "Epoch 30, mse = 0.3420826044065706\n",
            "Epoch 31, mse = 0.3338743677424041\n",
            "Epoch 32, mse = 0.32602333814559054\n",
            "Epoch 33, mse = 0.31850938919704413\n",
            "Epoch 34, mse = 0.3113136714293167\n",
            "Epoch 35, mse = 0.3044185359650143\n",
            "Epoch 36, mse = 0.2978074604442342\n",
            "Epoch 37, mse = 0.29146497755230116\n",
            "Epoch 38, mse = 0.2853766064835465\n",
            "Epoch 39, mse = 0.2795287876204262\n"
          ],
          "name": "stdout"
        },
        {
          "output_type": "display_data",
          "data": {
            "image/png": "[encoded data removed]",
            "text/plain": [
              "<Figure size 432x288 with 1 Axes>"
            ]
          },
          "metadata": {
            "tags": [],
            "needs_background": "light"
          }
        },
        {
          "output_type": "stream",
          "text": [
            "Test RMSE: 1.379377109828743\n"
          ],
          "name": "stdout"
        }
      ]
    }
  ]
}