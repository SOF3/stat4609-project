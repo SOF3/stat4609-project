{
  "nbformat": 4,
  "nbformat_minor": 0,
  "metadata": {
    "colab": {
      "name": "gmf-with-full-dataset.ipynb",
      "provenance": [],
      "collapsed_sections": [],
      "include_colab_link": true
    },
    "kernelspec": {
      "name": "python3",
      "display_name": "Python 3"
    },
    "language_info": {
      "name": "python"
    },
    "accelerator": "GPU"
  },
  "cells": [
    {
      "cell_type": "markdown",
      "metadata": {
        "id": "view-in-github",
        "colab_type": "text"
      },
      "source": [
        "<a href=\"https://colab.research.google.com/github/SOF3/stat4609-project/blob/master/assignment-4.ipynb\" target=\"_parent\"><img src=\"https://colab.research.google.com/assets/colab-badge.svg\" alt=\"Open In Colab\"/></a>"
      ]
    },
    {
      "cell_type": "code",
      "metadata": {
        "id": "Gk_HnEcbdmms"
      },
      "source": [
        "import datetime\n",
        "import gc\n",
        "import random\n",
        "import time\n",
        "\n",
        "import numpy\n",
        "import pandas\n",
        "import scipy\n",
        "import matplotlib.pyplot as plt\n",
        "import IPython.display as disp\n",
        "\n",
        "class Progress:\n",
        "    \"\"\"Wrapper for IPython.display.ProgressBar with improved performance\"\"\"\n",
        "\n",
        "    def __init__(self, total):\n",
        "        self.bar = disp.ProgressBar(total)\n",
        "        self.progress = 0\n",
        "        self.last = 0\n",
        "    def inc(self):\n",
        "        self.progress += 1\n",
        "        if time.monotonic_ns() - self.last > 1e8:\n",
        "            self.bar.progress = self.progress\n",
        "            self.bar.update()\n",
        "            self.last = time.monotonic_ns()\n",
        "    def __enter__(self):\n",
        "        return self\n",
        "    def __exit__(self, exc_type, exc_value, tb):\n",
        "        self.bar.progress = self.progress\n",
        "        self.bar.update()\n",
        "        return False"
      ],
      "execution_count": 38,
      "outputs": []
    },
    {
      "cell_type": "code",
      "metadata": {
        "colab": {
          "base_uri": "https://localhost:8080/"
        },
        "id": "NHqttWltd1kM",
        "outputId": "8fe818b9-7aae-4a92-e780-6ac796960f40"
      },
      "source": [
        "from google.colab import drive\n",
        "drive.mount('/content/drive')"
      ],
      "execution_count": 39,
      "outputs": [
        {
          "output_type": "stream",
          "text": [
            "Drive already mounted at /content/drive; to attempt to forcibly remount, call drive.mount(\"/content/drive\", force_remount=True).\n"
          ],
          "name": "stdout"
        }
      ]
    },
    {
      "cell_type": "code",
      "metadata": {
        "id": "-t1jMVsOd2dI"
      },
      "source": [
        "!test -d dataset || unzip /content/drive/Shareddrives/'STAT4609 Netflix'/dataset.zip -d dataset"
      ],
      "execution_count": 40,
      "outputs": []
    },
    {
      "cell_type": "code",
      "metadata": {
        "id": "bdSTf2E8PK1_"
      },
      "source": [
        "!cp /content/drive/Shareddrives/'STAT4609 Netflix'/preprocess-dataset /usr/local/bin\n",
        "!chmod +x /usr/local/bin/preprocess-dataset\n",
        "!test -f dataset/output.npy || (cd dataset && preprocess-dataset)"
      ],
      "execution_count": 41,
      "outputs": []
    },
    {
      "cell_type": "code",
      "metadata": {
        "colab": {
          "base_uri": "https://localhost:8080/"
        },
        "id": "szSgxRM2PIiI",
        "outputId": "e048130e-5f43-41a6-f6e7-16fa701da675"
      },
      "source": [
        "print(\"Loading data...\")\n",
        "data = numpy.load(\"dataset/output.npy\")\n",
        "data_size = data.shape[0]\n",
        "\n",
        "data = data[data[:, 0] < 100000, :]\n",
        "\n",
        "print(\"Counting users and movies\")\n",
        "user_count = numpy.max(data[:, 0]) + 1\n",
        "movie_count = numpy.max(data[:, 1]) + 1"
      ],
      "execution_count": 42,
      "outputs": [
        {
          "output_type": "stream",
          "text": [
            "Loading data...\n",
            "Counting users and movies\n"
          ],
          "name": "stdout"
        }
      ]
    },
    {
      "cell_type": "code",
      "metadata": {
        "colab": {
          "base_uri": "https://localhost:8080/"
        },
        "id": "q2_xuP8jFFvn",
        "outputId": "8409ccce-5ebc-4126-d959-50d148b0e4e7"
      },
      "source": [
        "import numpy as np\n",
        "np.set_printoptions(suppress=True)\n",
        "print(data)"
      ],
      "execution_count": 43,
      "outputs": [
        {
          "output_type": "stream",
          "text": [
            "[[    0     0     3 ...   248     1     0]\n",
            " [    1     0     5 ...   132     4     0]\n",
            " [    2     0     4 ...   291     2     0]\n",
            " ...\n",
            " [29251  8196     1 ...   219     5     0]\n",
            " [22793  8196     4 ...   148     4     0]\n",
            " [76269  8196     2 ...    68     3     0]]\n"
          ],
          "name": "stdout"
        }
      ]
    },
    {
      "cell_type": "code",
      "metadata": {
        "colab": {
          "base_uri": "https://localhost:8080/"
        },
        "id": "O1CQxQFNGwZS",
        "outputId": "ae83a775-027c-45ba-ef06-46f9f5e3f02a"
      },
      "source": [
        "train = data[data[:, 6] == 0, :3].copy()\n",
        "evaluation = data[data[:, 6] == 1, :3].copy()\n",
        "\n",
        "del data\n",
        "gc.collect()\n",
        "\n",
        "print(f\"Train/test split: {train.shape[0]}/{evaluation.shape[0]}\")"
      ],
      "execution_count": 44,
      "outputs": [
        {
          "output_type": "stream",
          "text": [
            "Train/test split: 47676921/301977\n"
          ],
          "name": "stdout"
        }
      ]
    },
    {
      "cell_type": "markdown",
      "metadata": {
        "id": "d7fALDkvd8n1"
      },
      "source": [
        "Model:"
      ]
    },
    {
      "cell_type": "code",
      "metadata": {
        "id": "beY7RtYX0xEm"
      },
      "source": [
        "from __future__ import print_function\n",
        "import matplotlib.pyplot as plt\n",
        "\n",
        "import torch"
      ],
      "execution_count": 45,
      "outputs": []
    },
    {
      "cell_type": "code",
      "metadata": {
        "colab": {
          "base_uri": "https://localhost:8080/"
        },
        "id": "ttbU5ZgkExC8",
        "outputId": "11657dc3-a5d3-4b79-bb1e-24ca3911c125"
      },
      "source": [
        "# Training settings\n",
        "batch_size = 6400\n",
        "test_batch_size = 1000\n",
        "epochs = 5\n",
        "lr = 1.0\n",
        "gamma = 0.7\n",
        "seed = 1\n",
        "log_interval = 120\n",
        "save_model = True\n",
        "use_cuda = torch.cuda.is_available()\n",
        "torch.manual_seed(seed)\n",
        "device = torch.device(\"cuda\" if use_cuda else \"cpu\")\n",
        "print(device)"
      ],
      "execution_count": 46,
      "outputs": [
        {
          "output_type": "stream",
          "text": [
            "cuda\n"
          ],
          "name": "stdout"
        }
      ]
    },
    {
      "cell_type": "code",
      "metadata": {
        "id": "qdzVR2auE4Qi"
      },
      "source": [
        "import torch.nn as nn\n",
        "import torch.nn.functional as F\n",
        "\n",
        "class Feedforward(torch.nn.Module):\n",
        "    def __init__(self, user_size, movie_size, hidden_size):\n",
        "        super(Feedforward, self).__init__()\n",
        "        self.user_size = user_size\n",
        "        self.movie_size = movie_size\n",
        "        self.hidden_size  = hidden_size\n",
        "        self.embedding_user = torch.nn.Embedding(num_embeddings=self.user_size, embedding_dim=self.hidden_size)\n",
        "        self.embedding_movie = torch.nn.Embedding(num_embeddings=self.movie_size, embedding_dim=self.hidden_size)\n",
        "        self.fc1 = torch.nn.Linear(self.hidden_size, 1)\n",
        "        self.relu = torch.nn.ReLU()\n",
        "    def forward(self, user_id, movie_id):\n",
        "        user_embedding = self.embedding_user(user_id)\n",
        "        movie_embedding = self.embedding_movie(movie_id)\n",
        "        mul = torch.mul(user_embedding, movie_embedding)\n",
        "\n",
        "        output = self.fc1(mul)\n",
        "        return output"
      ],
      "execution_count": 47,
      "outputs": []
    },
    {
      "cell_type": "code",
      "metadata": {
        "id": "dsPpUvquE825"
      },
      "source": [
        "# Optimizer \n",
        "import torch.optim as optim\n",
        "from torch.optim.lr_scheduler import StepLR\n"
      ],
      "execution_count": 48,
      "outputs": []
    },
    {
      "cell_type": "code",
      "metadata": {
        "id": "9MLJ7_BZE-5-"
      },
      "source": [
        "class GeneralizedMatrixFactorization2:\n",
        "    def __init__(self, rank, epochs):\n",
        "        # model define here\n",
        "        self.model = Feedforward(user_count, movie_count, rank)\n",
        "        self.model = self.model.to(device)\n",
        "        self.criterion = nn.MSELoss()\n",
        "        \n",
        "        self.optimizer = optim.Adadelta(self.model.parameters(), lr=lr)\n",
        "        self.scheduler = StepLR(self.optimizer, step_size=1, gamma=gamma)\n",
        "\n",
        "        self.rank = rank\n",
        "        self.epochs = epochs\n",
        "\n",
        "    def train(self, ratings):\n",
        "        data_loader = torch.utils.data.DataLoader(ratings, batch_size=64)\n",
        "        self.model.train()\n",
        "        history = []\n",
        "        idx = 0\n",
        "        with Progress(self.epochs * len(data_loader)) as progress:\n",
        "            for epoch in range(self.epochs):\n",
        "                try:\n",
        "                    mse = 0\n",
        "                    for batch_idx, (user, movie, target) in enumerate(data_loader):\n",
        "                        user = user.to(device)\n",
        "                        movie = movie.to(device)\n",
        "                        target = target.to(device)\n",
        "                        # set the gradients to zero to avoid unwanted gradient accumulation, see \n",
        "                        # https://stackoverflow.com/questions/48001598/why-do-we-need-to-call-zero-grad-in-pytorch\n",
        "                        self.optimizer.zero_grad()\n",
        "                        \n",
        "                        # get model prediction\n",
        "                        output = self.model(user, movie)\n",
        "                        \n",
        "                        # insert you own loss fucntion here, note that we implemented a log_softmax() in our model\n",
        "                        loss = self.criterion(output.view(-1).float(), target.float())\n",
        "    \n",
        "                        mse += float(loss)\n",
        "                        \n",
        "                        # perform back propagation\n",
        "                        loss.backward()\n",
        "    \n",
        "                        self.optimizer.step()\n",
        "                        \n",
        "                        # update parameters\n",
        "                        progress.inc()\n",
        "                except KeyboardInterrupt:\n",
        "                    break\n",
        "                \n",
        "                history.append(np.sqrt(mse / len(data_loader)))\n",
        "                print(f\"Epoch {epoch}, mse = {mse / len(data_loader)}\")\n",
        "\n",
        "        plt.xlabel(\"Epochs\")\n",
        "        plt.ylabel(\"RMSE\")\n",
        "        plt.plot(np.arange(self.epochs), history)\n",
        "        plt.show()\n",
        "\n",
        "        return self\n",
        "\n",
        "    def predict(self, user, movie):\n",
        "        return float(self.model(torch.Tensor([user]).int().to(device),torch.Tensor([movie]).int().to(device)))\n",
        "\n",
        "    def evaluate(self, evaluation):\n",
        "        self.model.eval()\n",
        "        se = 0\n",
        "        for user, movie, rating in evaluation:\n",
        "            err = self.predict(user, movie) - float(rating)\n",
        "            se += err ** 2\n",
        "        print(\"Test RMSE: {}\".format(np.sqrt(se/len(evaluation))))"
      ],
      "execution_count": 49,
      "outputs": []
    },
    {
      "cell_type": "code",
      "metadata": {
        "id": "uOY18n9vXldM"
      },
      "source": [
        "import torch.nn as nn\n",
        "import torch.nn.functional as F\n",
        "\n",
        "class Feedforward2(torch.nn.Module):\n",
        "    def __init__(self, user_size, movie_size, hidden_size):\n",
        "        super(Feedforward2, self).__init__()\n",
        "        self.user_size = user_size\n",
        "        self.movie_size = movie_size\n",
        "        self.hidden_size  = hidden_size\n",
        "        self.embedding_user = torch.nn.Embedding(num_embeddings=self.user_size, embedding_dim=self.hidden_size)\n",
        "        self.embedding_movie = torch.nn.Embedding(num_embeddings=self.movie_size, embedding_dim=self.hidden_size)\n",
        "        self.fc1 = torch.nn.Linear(self.hidden_size, 1)\n",
        "    def forward(self, user_id, movie_id):\n",
        "        user_embedding = self.embedding_user(user_id)\n",
        "        movie_embedding = self.embedding_movie(movie_id)\n",
        "        mul = torch.mul(user_embedding, movie_embedding)\n",
        "\n",
        "        output = self.fc1(mul)\n",
        "        return output"
      ],
      "execution_count": 50,
      "outputs": []
    },
    {
      "cell_type": "code",
      "metadata": {
        "id": "9oRq9C_FCVe0"
      },
      "source": [
        "class GeneralizedMatrixFactorization2:\n",
        "    def __init__(self, rank, learning_rate, gamma, batch_size, training_time):\n",
        "        # model define here\n",
        "        self.model = Feedforward2(user_count, movie_count, rank)\n",
        "        self.model = self.model.to(device)\n",
        "        self.criterion = nn.MSELoss()\n",
        "        \n",
        "        self.optimizer = optim.Adadelta(self.model.parameters(), lr=learning_rate, weight_decay=0.0)\n",
        "        self.scheduler = StepLR(self.optimizer, step_size=1, gamma=gamma)\n",
        "\n",
        "        self.rank = rank\n",
        "        self.batch_size = batch_size\n",
        "\n",
        "        self.training_time = training_time\n",
        "\n",
        "    def train(self, ratings):\n",
        "        data_loader = torch.utils.data.DataLoader(ratings, batch_size=self.batch_size)\n",
        "        self.model.train()\n",
        "        history = []\n",
        "        idx = 0\n",
        "        epoch = 0\n",
        "        with Progress(100 * len(data_loader)) as progress:\n",
        "            start_time = time.time()\n",
        "            while time.time() - start_time < self.training_time:\n",
        "                try:\n",
        "                    mse = 0\n",
        "                    for batch_idx, batch in enumerate(data_loader):\n",
        "                        user = batch[:, 0]\n",
        "                        movie = batch[:, 1]\n",
        "                        target = batch[:, 2]\n",
        "                        user = user.to(device)\n",
        "                        movie = movie.to(device)\n",
        "                        target = target.to(device)\n",
        "                        # set the gradients to zero to avoid unwanted gradient accumulation, see \n",
        "                        # https://stackoverflow.com/questions/48001598/why-do-we-need-to-call-zero-grad-in-pytorch\n",
        "                        self.optimizer.zero_grad()\n",
        "                        \n",
        "                        # get model prediction\n",
        "                        output = self.model(user, movie)\n",
        "                        \n",
        "                        # insert you own loss fucntion here, note that we implemented a log_softmax() in our model\n",
        "                        loss = self.criterion(output.view(-1).float(), target.float())\n",
        "    \n",
        "                        mse += float(loss)\n",
        "                        \n",
        "                        # perform back propagation\n",
        "                        loss.backward()\n",
        "    \n",
        "                        self.optimizer.step()\n",
        "                        \n",
        "                        # update parameters\n",
        "                        progress.inc()\n",
        "                except KeyboardInterrupt:\n",
        "                    break\n",
        "                finally:\n",
        "                    history.append(np.sqrt(mse / len(data_loader)))\n",
        "                    print(f\"Epoch {epoch} ({(time.time() - start_time) / 60} min), mse = {mse / len(data_loader)}\")\n",
        "                    epoch += 1\n",
        "\n",
        "        plt.xlabel(\"Epochs\")\n",
        "        plt.ylabel(\"RMSE\")\n",
        "        plt.plot(np.arange(epoch), history)\n",
        "        plt.show()\n",
        "\n",
        "        return self\n",
        "\n",
        "    def predict(self, user, movie):\n",
        "        return float(self.model(torch.Tensor([user]).int().to(device),torch.Tensor([movie]).int().to(device)))\n",
        "\n",
        "    def evaluate(self, evaluation):\n",
        "        self.model.eval()\n",
        "        se = 0\n",
        "        for user, movie, rating in evaluation:\n",
        "            err = self.predict(user, movie) - float(rating)\n",
        "            se += err ** 2\n",
        "        print(\"Test RMSE: {}\".format(np.sqrt(se/len(evaluation))))\n"
      ],
      "execution_count": 51,
      "outputs": []
    },
    {
      "cell_type": "code",
      "metadata": {
        "colab": {
          "base_uri": "https://localhost:8080/",
          "height": 470
        },
        "id": "JW3O9nHsO2Fk",
        "outputId": "25d3cc93-aa1d-483d-a696-587eeb0f3d65"
      },
      "source": [
        "g = GeneralizedMatrixFactorization2(100, 1.0, 0.7, 65535, 2000)\n",
        "g.train(train).evaluate(evaluation)"
      ],
      "execution_count": 52,
      "outputs": [
        {
          "output_type": "display_data",
          "data": {
            "text/html": [
              "<progress style='width:60ex' max='72800' value='6552'></progress>"
            ],
            "text/plain": [
              "[=====                                                       ] 6552/72800"
            ]
          },
          "metadata": {
            "tags": []
          }
        },
        {
          "output_type": "stream",
          "text": [
            "Epoch 0 (3.730263078212738 min), mse = 5.6145525851419995\n",
            "Epoch 1 (7.496627128124237 min), mse = 1.1794887732837227\n",
            "Epoch 2 (11.2935755610466 min), mse = 1.1638430482247373\n",
            "Epoch 3 (15.126986002922058 min), mse = 1.1638430155568071\n",
            "Epoch 4 (18.902264416217804 min), mse = 1.1638429751926727\n",
            "Epoch 5 (22.69548547665278 min), mse = 1.1638429273779576\n",
            "Epoch 6 (26.48063761393229 min), mse = 1.163842882838223\n",
            "Epoch 7 (30.2784628311793 min), mse = 1.163842836006002\n",
            "Epoch 8 (34.062812407811485 min), mse = 1.1638427962968638\n"
          ],
          "name": "stdout"
        },
        {
          "output_type": "display_data",
          "data": {
            "image/png": "[encoded data removed]",
            "text/plain": [
              "<Figure size 432x288 with 1 Axes>"
            ]
          },
          "metadata": {
            "tags": [],
            "needs_background": "light"
          }
        },
        {
          "output_type": "stream",
          "text": [
            "Test RMSE: 1.0861063132198032\n"
          ],
          "name": "stdout"
        }
      ]
    },
    {
      "cell_type": "code",
      "metadata": {
        "id": "_E_5LhhGa6ZR",
        "colab": {
          "base_uri": "https://localhost:8080/",
          "height": 470
        },
        "outputId": "7a6ccd69-84c2-4c5c-e8fa-a7ed6cd543fe"
      },
      "source": [
        "g = GeneralizedMatrixFactorization2(300, 1.0, 0.7, 65535, 2000)\n",
        "g.train(train).evaluate(evaluation)"
      ],
      "execution_count": 53,
      "outputs": [
        {
          "output_type": "display_data",
          "data": {
            "text/html": [
              "<progress style='width:60ex' max='72800' value='6552'></progress>"
            ],
            "text/plain": [
              "[=====                                                       ] 6552/72800"
            ]
          },
          "metadata": {
            "tags": []
          }
        },
        {
          "output_type": "stream",
          "text": [
            "Epoch 0 (3.993168214956919 min), mse = 5.710504464723251\n",
            "Epoch 1 (7.993724397818247 min), mse = 1.1817975305430182\n",
            "Epoch 2 (12.007093171278635 min), mse = 1.1649126354809647\n",
            "Epoch 3 (15.969143438339234 min), mse = 1.1649125120142003\n",
            "Epoch 4 (19.87429452339808 min), mse = 1.164912377985624\n",
            "Epoch 5 (23.78632361094157 min), mse = 1.1649122424014322\n",
            "Epoch 6 (27.735622298717498 min), mse = 1.1649121031328873\n",
            "Epoch 7 (31.66898326476415 min), mse = 1.1649119670574481\n",
            "Epoch 8 (35.587493065992994 min), mse = 1.1649118327013739\n"
          ],
          "name": "stdout"
        },
        {
          "output_type": "display_data",
          "data": {
            "image/png": "[encoded data removed]",
            "text/plain": [
              "<Figure size 432x288 with 1 Axes>"
            ]
          },
          "metadata": {
            "tags": [],
            "needs_background": "light"
          }
        },
        {
          "output_type": "stream",
          "text": [
            "Test RMSE: 1.0869594688018298\n"
          ],
          "name": "stdout"
        }
      ]
    },
    {
      "cell_type": "code",
      "metadata": {
        "id": "usH-WEzla8jF",
        "colab": {
          "base_uri": "https://localhost:8080/",
          "height": 470
        },
        "outputId": "5f3d8cd5-ec2c-4231-ca5e-73c39d392002"
      },
      "source": [
        "g = GeneralizedMatrixFactorization2(100, 0.1, 0.9, 65535, 2000)\n",
        "g.train(train).evaluate(evaluation)"
      ],
      "execution_count": 54,
      "outputs": [
        {
          "output_type": "display_data",
          "data": {
            "text/html": [
              "<progress style='width:60ex' max='72800' value='6552'></progress>"
            ],
            "text/plain": [
              "[=====                                                       ] 6552/72800"
            ]
          },
          "metadata": {
            "tags": []
          }
        },
        {
          "output_type": "stream",
          "text": [
            "Epoch 0 (3.7884937286376954 min), mse = 11.916761860742675\n",
            "Epoch 1 (7.5837215741475426 min), mse = 8.412799968824281\n",
            "Epoch 2 (11.400402887662251 min), mse = 5.199209842053088\n",
            "Epoch 3 (15.232778318723042 min), mse = 2.985623850436001\n",
            "Epoch 4 (19.055240015188854 min), mse = 1.8149193662863512\n",
            "Epoch 5 (22.876783843835195 min), mse = 1.3550932641540254\n",
            "Epoch 6 (26.71820987065633 min), mse = 1.2140063296307575\n",
            "Epoch 7 (30.513678809007008 min), mse = 1.1748250749084976\n",
            "Epoch 8 (34.28911795218786 min), mse = 1.1653551310300827\n"
          ],
          "name": "stdout"
        },
        {
          "output_type": "display_data",
          "data": {
            "image/png": "[encoded data removed]",
            "text/plain": [
              "<Figure size 432x288 with 1 Axes>"
            ]
          },
          "metadata": {
            "tags": [],
            "needs_background": "light"
          }
        },
        {
          "output_type": "stream",
          "text": [
            "Test RMSE: 1.0881613129646628\n"
          ],
          "name": "stdout"
        }
      ]
    },
    {
      "cell_type": "code",
      "metadata": {
        "id": "BK-TgIVVbLAB",
        "colab": {
          "base_uri": "https://localhost:8080/",
          "height": 470
        },
        "outputId": "ccd0d77f-5bdc-4d72-94f4-a07bea40a7b9"
      },
      "source": [
        "g = GeneralizedMatrixFactorization2(100, 1.0, 0.7, 4096, 2000)\n",
        "g.train(train).evaluate(evaluation)"
      ],
      "execution_count": 55,
      "outputs": [
        {
          "output_type": "display_data",
          "data": {
            "text/html": [
              "<progress style='width:60ex' max='1164000' value='104760'></progress>"
            ],
            "text/plain": [
              "[=====                                                       ] 104760/1164000"
            ]
          },
          "metadata": {
            "tags": []
          }
        },
        {
          "output_type": "stream",
          "text": [
            "Epoch 0 (3.9307451486587524 min), mse = 1.4643752879600753\n",
            "Epoch 1 (7.933116865158081 min), mse = 1.1637031799175894\n",
            "Epoch 2 (11.894106205304464 min), mse = 1.1636992829208521\n",
            "Epoch 3 (15.860867126782734 min), mse = 1.1636953604026758\n",
            "Epoch 4 (19.837525296211243 min), mse = 1.163691402336781\n",
            "Epoch 5 (23.78875788450241 min), mse = 1.1636874283097454\n",
            "Epoch 6 (27.716263401508332 min), mse = 1.1636834287663915\n",
            "Epoch 7 (31.686163957913717 min), mse = 1.1636793919752553\n",
            "Epoch 8 (35.659867294629414 min), mse = 1.1636753165793583\n"
          ],
          "name": "stdout"
        },
        {
          "output_type": "display_data",
          "data": {
            "image/png": "[encoded data removed]",
            "text/plain": [
              "<Figure size 432x288 with 1 Axes>"
            ]
          },
          "metadata": {
            "tags": [],
            "needs_background": "light"
          }
        },
        {
          "output_type": "stream",
          "text": [
            "Test RMSE: 1.0897713142694387\n"
          ],
          "name": "stdout"
        }
      ]
    },
    {
      "cell_type": "code",
      "metadata": {
        "id": "AUPsKFjgeXWf",
        "colab": {
          "base_uri": "https://localhost:8080/",
          "height": 453
        },
        "outputId": "c87ae05b-76ea-4568-86eb-a0053b6a68e2"
      },
      "source": [
        "g = GeneralizedMatrixFactorization2(100, 1.0, 0.7, 1048576, 2000)\n",
        "g.train(train).evaluate(evaluation)"
      ],
      "execution_count": 56,
      "outputs": [
        {
          "output_type": "display_data",
          "data": {
            "text/html": [
              "<progress style='width:60ex' max='4600' value='368'></progress>"
            ],
            "text/plain": [
              "[====                                                        ] 368/4600"
            ]
          },
          "metadata": {
            "tags": []
          }
        },
        {
          "output_type": "stream",
          "text": [
            "Epoch 0 (4.673669950167338 min), mse = 13.179858497951342\n",
            "Epoch 1 (8.936037731170654 min), mse = 11.899996052617611\n",
            "Epoch 2 (13.177859675884246 min), mse = 10.665002408234969\n",
            "Epoch 3 (17.38041772842407 min), mse = 9.437212031820547\n",
            "Epoch 4 (21.565734283129373 min), mse = 8.249012553173563\n",
            "Epoch 5 (25.756593600908914 min), mse = 7.125764888265858\n",
            "Epoch 6 (29.995626497268677 min), mse = 6.086495492769324\n",
            "Epoch 7 (34.198833203315736 min), mse = 5.144671284634134\n"
          ],
          "name": "stdout"
        },
        {
          "output_type": "display_data",
          "data": {
            "image/png": "[encoded data removed]",
            "text/plain": [
              "<Figure size 432x288 with 1 Axes>"
            ]
          },
          "metadata": {
            "tags": [],
            "needs_background": "light"
          }
        },
        {
          "output_type": "stream",
          "text": [
            "Test RMSE: 2.2311285276387465\n"
          ],
          "name": "stdout"
        }
      ]
    }
  ]
}