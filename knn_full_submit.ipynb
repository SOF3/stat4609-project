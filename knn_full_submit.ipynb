{
  "nbformat": 4,
  "nbformat_minor": 0,
  "metadata": {
    "colab": {
      "name": "knn-full-submit.ipynb",
      "provenance": [],
      "collapsed_sections": []
    },
    "kernelspec": {
      "name": "python3",
      "display_name": "Python 3"
    },
    "language_info": {
      "name": "python"
    }
  },
  "cells": [
    {
      "cell_type": "code",
      "metadata": {
        "id": "DfU9gBvVdnWA"
      },
      "source": [
        "import datetime\n",
        "import gc\n",
        "import random\n",
        "import time\n",
        "\n",
        "import numpy\n",
        "import pandas\n",
        "import scipy\n",
        "from scipy import sparse\n",
        "import matplotlib.pyplot as plt\n",
        "import IPython.display as disp\n",
        "\n",
        "class Progress:\n",
        "    \"\"\"Wrapper for IPython.display.ProgressBar with improved performance\"\"\"\n",
        "\n",
        "    def __init__(self, total):\n",
        "        self.bar = disp.ProgressBar(total)\n",
        "        self.total = total\n",
        "        self.progress = 0\n",
        "        self.last = 0\n",
        "        self.start = time.monotonic_ns()\n",
        "    def inc(self, delta=1):\n",
        "        self.progress += delta\n",
        "        if time.monotonic_ns() - self.last > 1e8:\n",
        "            self.bar.progress = self.progress\n",
        "            self.bar.update()\n",
        "            self.last = time.monotonic_ns()\n",
        "    def __enter__(self):\n",
        "        return self\n",
        "    def __exit__(self, exc_type, exc_value, tb):\n",
        "        self.bar.progress = self.progress\n",
        "        self.bar.update()\n",
        "        print(f\"Completed {self.progress}/{self.total} in {(time.monotonic_ns() - self.start) / 1000000}ms\")\n",
        "        return False\n",
        "\n",
        "class Timer:\n",
        "    def __init__(self, name):\n",
        "        self.name = name\n",
        "    \n",
        "    def __enter__(self):\n",
        "        self.start = time.monotonic_ns()\n",
        "        print(f\"Task: {self.name}\")\n",
        "\n",
        "    def __exit__(self, exc_type, exc_value, tb):\n",
        "        end = time.monotonic_ns()\n",
        "        time_ns = end - self.start\n",
        "        print(f\"Took {time_ns / 1000000}ms\")\n",
        "        return False"
      ],
      "execution_count": null,
      "outputs": []
    },
    {
      "cell_type": "code",
      "metadata": {
        "id": "sF43KZfGd4vs",
        "colab": {
          "base_uri": "https://localhost:8080/"
        },
        "outputId": "2bf1ae7d-efe5-4cc1-d4bf-d890a825f9de"
      },
      "source": [
        "from google.colab import drive\n",
        "drive.mount('/content/drive')"
      ],
      "execution_count": null,
      "outputs": [
        {
          "output_type": "stream",
          "text": [
            "Mounted at /content/drive\n"
          ],
          "name": "stdout"
        }
      ]
    },
    {
      "cell_type": "code",
      "metadata": {
        "id": "IUBdKi0Pd6AT",
        "colab": {
          "base_uri": "https://localhost:8080/"
        },
        "outputId": "229403ec-8116-41a2-8299-a1e2f2c0b9c1"
      },
      "source": [
        "!test -d dataset || unzip /content/drive/Shareddrives/'STAT4609 Netflix'/dataset.zip -d dataset"
      ],
      "execution_count": null,
      "outputs": [
        {
          "output_type": "stream",
          "text": [
            "Archive:  /content/drive/Shareddrives/STAT4609 Netflix/dataset.zip\n",
            "  inflating: dataset/README          \n",
            "  inflating: dataset/combined_data_1.txt  \n",
            "  inflating: dataset/combined_data_2.txt  \n",
            "  inflating: dataset/combined_data_3.txt  \n",
            "  inflating: dataset/combined_data_4.txt  \n",
            "  inflating: dataset/movie_titles.csv  \n",
            "  inflating: dataset/probe.txt       \n",
            "  inflating: dataset/qualifying.txt  \n"
          ],
          "name": "stdout"
        }
      ]
    },
    {
      "cell_type": "code",
      "metadata": {
        "id": "36ivpwyyd7yv",
        "colab": {
          "base_uri": "https://localhost:8080/"
        },
        "outputId": "9da5ce73-c22a-4dc8-a50c-fab71c4e90a2"
      },
      "source": [
        "!cp /content/drive/Shareddrives/'STAT4609 Netflix'/preprocess-dataset /usr/local/bin\n",
        "!chmod +x /usr/local/bin/preprocess-dataset\n",
        "!test -f dataset/output.npy || (cd dataset && preprocess-dataset)"
      ],
      "execution_count": null,
      "outputs": [
        {
          "output_type": "stream",
          "text": [
            "Read 1000000 lines of probe\n",
            "Read 1000000 lines\n",
            "Read 2000000 lines\n",
            "Read 3000000 lines\n",
            "Read 4000000 lines\n",
            "Read 5000000 lines\n",
            "Read 6000000 lines\n",
            "Read 7000000 lines\n",
            "Read 8000000 lines\n",
            "Read 9000000 lines\n",
            "Read 10000000 lines\n",
            "Read 11000000 lines\n",
            "Read 12000000 lines\n",
            "Read 13000000 lines\n",
            "Read 14000000 lines\n",
            "Read 15000000 lines\n",
            "Read 16000000 lines\n",
            "Read 17000000 lines\n",
            "Read 18000000 lines\n",
            "Read 19000000 lines\n",
            "Read 20000000 lines\n",
            "Read 21000000 lines\n",
            "Read 22000000 lines\n",
            "Read 23000000 lines\n",
            "Read 24000000 lines\n",
            "Empty line!\n",
            "Read 25000000 lines\n",
            "Read 26000000 lines\n",
            "Read 27000000 lines\n",
            "Read 28000000 lines\n",
            "Read 29000000 lines\n",
            "Read 30000000 lines\n",
            "Read 31000000 lines\n",
            "Read 32000000 lines\n",
            "Read 33000000 lines\n",
            "tcmalloc: large alloc 1879048192 bytes == 0x5630aae9c000 @  0x7fe83163a2a4 0x56303750c120 0x56303750c265 0x56303750af2a 0x5630375095de 0x56303750b956 0x56303750b96c 0x56303752630a 0x56303750b855 0x7fe830bfbbf7 0x563037507e3e\n",
            "Read 34000000 lines\n",
            "Read 35000000 lines\n",
            "Read 36000000 lines\n",
            "Read 37000000 lines\n",
            "Read 38000000 lines\n",
            "Read 39000000 lines\n",
            "Read 40000000 lines\n",
            "Read 41000000 lines\n",
            "Read 42000000 lines\n",
            "Read 43000000 lines\n",
            "Read 44000000 lines\n",
            "Read 45000000 lines\n",
            "Read 46000000 lines\n",
            "Read 47000000 lines\n",
            "Read 48000000 lines\n",
            "Read 49000000 lines\n",
            "Read 50000000 lines\n",
            "Read 51000000 lines\n",
            "Empty line!\n",
            "Read 52000000 lines\n",
            "Read 53000000 lines\n",
            "Read 54000000 lines\n",
            "Read 55000000 lines\n",
            "Read 56000000 lines\n",
            "Read 57000000 lines\n",
            "Read 58000000 lines\n",
            "Read 59000000 lines\n",
            "Read 60000000 lines\n",
            "Read 61000000 lines\n",
            "Read 62000000 lines\n",
            "Read 63000000 lines\n",
            "Read 64000000 lines\n",
            "Read 65000000 lines\n",
            "Read 66000000 lines\n",
            "Read 67000000 lines\n",
            "tcmalloc: large alloc 3758096384 bytes == 0x56311ae9c000 @  0x7fe83163a2a4 0x56303750c120 0x56303750c265 0x56303750af2a 0x563037509698 0x56303750b956 0x56303750b96c 0x56303752630a 0x56303750b855 0x7fe830bfbbf7 0x563037507e3e\n",
            "Read 68000000 lines\n",
            "Read 69000000 lines\n",
            "Read 70000000 lines\n",
            "Read 71000000 lines\n",
            "Read 72000000 lines\n",
            "Read 73000000 lines\n",
            "Empty line!\n",
            "Read 74000000 lines\n",
            "Read 75000000 lines\n",
            "Read 76000000 lines\n",
            "Read 77000000 lines\n",
            "Read 78000000 lines\n",
            "Read 79000000 lines\n",
            "Read 80000000 lines\n",
            "Read 81000000 lines\n",
            "Read 82000000 lines\n",
            "Read 83000000 lines\n",
            "Read 84000000 lines\n",
            "Read 85000000 lines\n",
            "Read 86000000 lines\n",
            "Read 87000000 lines\n",
            "Read 88000000 lines\n",
            "Read 89000000 lines\n",
            "Read 90000000 lines\n",
            "Read 91000000 lines\n",
            "Read 92000000 lines\n",
            "Read 93000000 lines\n",
            "Read 94000000 lines\n",
            "Read 95000000 lines\n",
            "Read 96000000 lines\n",
            "Read 97000000 lines\n",
            "Read 98000000 lines\n",
            "Read 99000000 lines\n",
            "Read 100000000 lines\n",
            "Empty line!\n",
            "Wrote 1000000 lines\n",
            "Wrote 2000000 lines\n",
            "Wrote 3000000 lines\n",
            "Wrote 4000000 lines\n",
            "Wrote 5000000 lines\n",
            "Wrote 6000000 lines\n",
            "Wrote 7000000 lines\n",
            "Wrote 8000000 lines\n",
            "Wrote 9000000 lines\n",
            "Wrote 10000000 lines\n",
            "Wrote 11000000 lines\n",
            "Wrote 12000000 lines\n",
            "Wrote 13000000 lines\n",
            "Wrote 14000000 lines\n",
            "Wrote 15000000 lines\n",
            "Wrote 16000000 lines\n",
            "Wrote 17000000 lines\n",
            "Wrote 18000000 lines\n",
            "Wrote 19000000 lines\n",
            "Wrote 20000000 lines\n",
            "Wrote 21000000 lines\n",
            "Wrote 22000000 lines\n",
            "Wrote 23000000 lines\n",
            "Wrote 24000000 lines\n",
            "Wrote 25000000 lines\n",
            "Wrote 26000000 lines\n",
            "Wrote 27000000 lines\n",
            "Wrote 28000000 lines\n",
            "Wrote 29000000 lines\n",
            "Wrote 30000000 lines\n",
            "Wrote 31000000 lines\n",
            "Wrote 32000000 lines\n",
            "Wrote 33000000 lines\n",
            "Wrote 34000000 lines\n",
            "Wrote 35000000 lines\n",
            "Wrote 36000000 lines\n",
            "Wrote 37000000 lines\n",
            "Wrote 38000000 lines\n",
            "Wrote 39000000 lines\n",
            "Wrote 40000000 lines\n",
            "Wrote 41000000 lines\n",
            "Wrote 42000000 lines\n",
            "Wrote 43000000 lines\n",
            "Wrote 44000000 lines\n",
            "Wrote 45000000 lines\n",
            "Wrote 46000000 lines\n",
            "Wrote 47000000 lines\n",
            "Wrote 48000000 lines\n",
            "Wrote 49000000 lines\n",
            "Wrote 50000000 lines\n",
            "Wrote 51000000 lines\n",
            "Wrote 52000000 lines\n",
            "Wrote 53000000 lines\n",
            "Wrote 54000000 lines\n",
            "Wrote 55000000 lines\n",
            "Wrote 56000000 lines\n",
            "Wrote 57000000 lines\n",
            "Wrote 58000000 lines\n",
            "Wrote 59000000 lines\n",
            "Wrote 60000000 lines\n",
            "Wrote 61000000 lines\n",
            "Wrote 62000000 lines\n",
            "Wrote 63000000 lines\n",
            "Wrote 64000000 lines\n",
            "Wrote 65000000 lines\n",
            "Wrote 66000000 lines\n",
            "Wrote 67000000 lines\n",
            "Wrote 68000000 lines\n",
            "Wrote 69000000 lines\n",
            "Wrote 70000000 lines\n",
            "Wrote 71000000 lines\n",
            "Wrote 72000000 lines\n",
            "Wrote 73000000 lines\n",
            "Wrote 74000000 lines\n",
            "Wrote 75000000 lines\n",
            "Wrote 76000000 lines\n",
            "Wrote 77000000 lines\n",
            "Wrote 78000000 lines\n",
            "Wrote 79000000 lines\n",
            "Wrote 80000000 lines\n",
            "Wrote 81000000 lines\n",
            "Wrote 82000000 lines\n",
            "Wrote 83000000 lines\n",
            "Wrote 84000000 lines\n",
            "Wrote 85000000 lines\n",
            "Wrote 86000000 lines\n",
            "Wrote 87000000 lines\n",
            "Wrote 88000000 lines\n",
            "Wrote 89000000 lines\n",
            "Wrote 90000000 lines\n",
            "Wrote 91000000 lines\n",
            "Wrote 92000000 lines\n",
            "Wrote 93000000 lines\n",
            "Wrote 94000000 lines\n",
            "Wrote 95000000 lines\n",
            "Wrote 96000000 lines\n",
            "Wrote 97000000 lines\n",
            "Wrote 98000000 lines\n",
            "Wrote 99000000 lines\n",
            "Wrote 100000000 lines\n"
          ],
          "name": "stdout"
        }
      ]
    },
    {
      "cell_type": "code",
      "metadata": {
        "id": "sceZ7Gc3d8lZ",
        "colab": {
          "base_uri": "https://localhost:8080/"
        },
        "outputId": "ae2ebdf0-77b5-4ba9-fdbc-10cb985778a2"
      },
      "source": [
        "COL_USER = 0\n",
        "COL_MOVIE = 1\n",
        "COL_RATINGS = 2\n",
        "COL_YEAR = 3\n",
        "COL_DOY = 4\n",
        "COL_DOW = 5\n",
        "COL_PROBED = 6\n",
        "\n",
        "with Timer(\"Loading data...\"):\n",
        "    data = numpy.load(\"dataset/output.npy\")\n",
        "    data_size = data.shape[0]\n",
        "\n",
        "with Timer(\"Counting users and movies\"):\n",
        "    user_count = numpy.max(data[:, COL_USER]) + 1\n",
        "    movie_count = numpy.max(data[:, COL_MOVIE]) + 1\n",
        "\n",
        "with Timer(\"Copying train/test split\"):\n",
        "    train = data[data[:, 6] == 0, :3].copy()\n",
        "    evaluation = data[data[:, 6] == 1, :3].copy()\n",
        "\n",
        "# Free the memory used to hold the whole dataset\n",
        "del data\n",
        "gc.collect()\n",
        "\n",
        "print(f\"Train/test size: {train.shape[0]}/{evaluation.shape[0]}\")\n",
        "\n",
        "evaluation_results = []"
      ],
      "execution_count": null,
      "outputs": [
        {
          "output_type": "stream",
          "text": [
            "Task: Loading data...\n",
            "Took 4088.67364ms\n",
            "Task: Counting users and movies\n",
            "Took 559.444552ms\n",
            "Task: Copying train/test split\n",
            "Took 4882.736761ms\n",
            "Train/test size: 99072112/1408395\n"
          ],
          "name": "stdout"
        }
      ]
    },
    {
      "cell_type": "code",
      "metadata": {
        "id": "oAr65FapeJoy"
      },
      "source": [
        "class KnnRecommend:\n",
        "    def __init__(self, metric, aggregate, k, q, batch_size=1024):\n",
        "        \"\"\"Arguments:\n",
        "        metric: a function taking a size n vector and a size q*n matrix, returning the distances of the vector to each of the q rows\n",
        "        aggregate: a function that takes in a vector of ratings and weights and aggregates them to a single rating\n",
        "        k: the number of neighbours to use, k <= q\n",
        "        q: the number of users to select neighbours from\n",
        "        batch_size: number of rows to process in each batch; does not affect results\"\"\"\n",
        "        self.metric = metric\n",
        "        self.aggregate = aggregate\n",
        "        self.k = k\n",
        "        self.q = q\n",
        "        self.batch_size = batch_size\n",
        "    def fit(self, ratings):\n",
        "        raise Exception(\"Uninitialized function\")\n",
        "    def predict_rating(self, user_id, movie_id):\n",
        "        raise Exception(\"Uninitialized function\")\n",
        "    def evaluate(self):\n",
        "        raise Exception(\"Uninitialized function\")"
      ],
      "execution_count": null,
      "outputs": []
    },
    {
      "cell_type": "code",
      "metadata": {
        "id": "zjSCBn4flPCd"
      },
      "source": [
        "class DataLoader:\n",
        "    def __init__(self, csr, q):\n",
        "        self.csr = csr.astype(numpy.float64)\n",
        "        self.ptr = 0\n",
        "\n",
        "        self._output = numpy.empty((csr.shape[0], q))\n",
        "\n",
        "    def set_batch_size(self, batch_size):\n",
        "        self.batch_size = batch_size\n",
        "        self.buf = numpy.empty((batch_size, self.csr.shape[1]))\n",
        "\n",
        "    def __iter__(self):\n",
        "        return self\n",
        "    def __next__(self):\n",
        "        end = min(self.ptr + self.batch_size, self.csr.shape[0])\n",
        "        num_rows = end - self.ptr\n",
        "        self.last_start = self.ptr\n",
        "        self.last_end = end\n",
        "        if num_rows == 0:\n",
        "            raise StopIteration\n",
        "        self.csr[self.ptr:end, :].toarray(out=self.buf[:num_rows, :])\n",
        "        self.buf[self.buf == 0] = numpy.nan\n",
        "        self.ptr = end\n",
        "        return self.buf[:num_rows, :]\n",
        "\n",
        "    def output(self, vec):\n",
        "        self._output[self.last_start:self.last_end] = vec\n",
        "\n",
        "    def get_output(self):\n",
        "        return self._output"
      ],
      "execution_count": null,
      "outputs": []
    },
    {
      "cell_type": "code",
      "metadata": {
        "id": "pU6HNGIlg0fx"
      },
      "source": [
        "def _fit(self, ratings):\n",
        "    gc.collect()\n",
        "\n",
        "    # express as a sparse matrix such that coo[user, movie] = rating\n",
        "    with Timer(\"Counting users and movies\"):\n",
        "        user_count = ratings[:, COL_USER].max() + 1\n",
        "        movie_count = ratings[:, COL_MOVIE].max() + 1\n",
        "    \n",
        "    with Timer(\"Repacking ratings to COO format\"):\n",
        "        ratings_col = ratings[:, COL_RATINGS].astype(numpy.float64)\n",
        "        user_col = ratings[:, COL_USER]\n",
        "        movie_col = ratings[:, COL_MOVIE]\n",
        "        coo = scipy.sparse.coo_matrix((ratings_col, (user_col, movie_col)), shape=(user_count, movie_count))\n",
        "    with Timer(\"Repacking ratings to CSR format\"):\n",
        "        ratings = coo.tocsr()\n",
        "        \n",
        "    with Timer(\"Choosing top Q users\"):\n",
        "        user_rating_counts = numpy.asarray((ratings != 0).sum(axis=1)).reshape(-1)\n",
        "        top_q_users = numpy.argsort(-user_rating_counts)[:self.q]\n",
        "        \n",
        "    with Timer(\"Computing movie mean ratings\"):\n",
        "        movie_rating_counts = numpy.asarray((ratings != 0).sum(axis=0)).reshape(-1)\n",
        "        movie_means = numpy.asarray(ratings.sum(axis=0) / movie_rating_counts).reshape(-1)\n",
        "\n",
        "    with Timer(\"Extracting top q ratings\"):\n",
        "        top_q_ratings = ratings[top_q_users, :].toarray().astype(numpy.float64)\n",
        "        top_q_ratings[top_q_ratings == 0] = numpy.nan\n",
        "    with Timer(\"Computing distance matrix\"):\n",
        "        with Progress(user_count) as progress:\n",
        "            loader = DataLoader(ratings, self.q)\n",
        "            loader.set_batch_size(self.batch_size)\n",
        "            self.metric(loader, top_q_ratings, movie_means, progress)\n",
        "        distmat = loader.get_output()\n",
        "\n",
        "    with Timer(\"Sorting distances\"):\n",
        "        neighbours = numpy.argsort(distmat, axis=1)\n",
        "\n",
        "    self.distmat = distmat # m * q (float)\n",
        "    self.neighbours = neighbours # m * q (int 0..q)\n",
        "    self.top_q_users = top_q_users # q (int 0..m)\n",
        "    self.top_q_ratings = top_q_ratings # q * n (float)\n",
        "    self.movie_means = movie_means # n (float)\n",
        "\n",
        "KnnRecommend.fit = _fit"
      ],
      "execution_count": null,
      "outputs": []
    },
    {
      "cell_type": "code",
      "metadata": {
        "id": "3-RfIvbJyuFD"
      },
      "source": [
        "def _predict(self, um):\n",
        "    \"\"\"um is an n*2 matrix.\n",
        "    The first column is the user ID.\n",
        "    The second column is the movie ID.\n",
        "    Returns a size n vector of predicted ratings.\"\"\"\n",
        "\n",
        "    def imp(model, um):\n",
        "        probes = um.shape[0]\n",
        "        users = um[:, 0]\n",
        "        movies = um[:, 1]\n",
        "    \n",
        "        # neighbour_cols[i, j] is the user ID of the jth neighbour of the ith probed user\n",
        "        neighbour_cols = model.neighbours[users, :model.k]\n",
        "        # neighbour_indices[i, j] is the index of the distance of the jth neighbour of the ith probed user in distmat\n",
        "        neighbour_indices = neighbour_cols + numpy.arange(probes).reshape((-1, 1)) * model.distmat.shape[1]\n",
        "        # distances[i, j] is the distance between the ith probed user and his jth neighbour\n",
        "        distances = model.distmat[users, :].take(neighbour_indices)\n",
        "        # neighbour_ratings[i, j] is the rating on the ith probed movie by the jth neighbour of the ith probed user\n",
        "        neighbour_ratings = model.top_q_ratings[neighbour_cols.transpose(), movies].transpose()\n",
        "        return model.aggregate(neighbour_ratings, distances, model.movie_means[movies])\n",
        "\n",
        "    output = numpy.empty(um.shape[0])\n",
        "    ptr = 0\n",
        "    nan_count = 0\n",
        "    with Progress(um.shape[0]) as progress:\n",
        "        while ptr < um.shape[0]:\n",
        "            end = min(ptr + self.batch_size, um.shape[0])\n",
        "            batch_output, nan_count_comp = imp(self, um[ptr:end, :])\n",
        "            output[ptr:end] = batch_output\n",
        "            progress.inc(delta=end - ptr)\n",
        "            ptr = end\n",
        "            nan_count += nan_count_comp\n",
        "\n",
        "    if nan_count > 0:\n",
        "        print(f\"{nan_count} entries have no non-NAN neighbours\")\n",
        "\n",
        "    return output\n",
        "\n",
        "KnnRecommend.predict = _predict"
      ],
      "execution_count": null,
      "outputs": []
    },
    {
      "cell_type": "code",
      "metadata": {
        "id": "jJjipg3F2P_w"
      },
      "source": [
        "def _evaluate(self):\n",
        "    gc.collect()\n",
        "    self.fit(train)\n",
        "    pred = self.predict(evaluation[:, [COL_USER, COL_MOVIE]])\n",
        "    target = evaluation[:, COL_RATINGS]\n",
        "    rmse = numpy.sqrt(((pred - target) ** 2).mean())\n",
        "    evaluation_results.append((self.aggregate, self.metric, self.k, self.q, rmse))\n",
        "    return rmse\n",
        "\n",
        "KnnRecommend.evaluate = _evaluate"
      ],
      "execution_count": null,
      "outputs": []
    },
    {
      "cell_type": "code",
      "metadata": {
        "id": "slpjiW1f24xY"
      },
      "source": [
        "class Metric:\n",
        "    \"\"\"For all methods, loader is DataLoader instance, mat is a q*n rating matrix,\n",
        "    means is a size n vector of mean ratings,\n",
        "    and output is a function to assign results to.\"\"\"\n",
        "\n",
        "    def p_norm(p):\n",
        "        def impl(loader, mat, means, progress, p):\n",
        "            q, n = mat.shape\n",
        "            mat_1qn = mat.reshape((1, q, n))\n",
        "    \n",
        "            delta_buf = numpy.empty((loader.batch_size, q, n))\n",
        "            norm_buf = numpy.empty((loader.batch_size, q))\n",
        "            for batch in loader:\n",
        "                b = batch.shape[0] # usually this is loader.batch_size, but this is smaller in the last batch\n",
        "                batch = batch.reshape((b, 1, n))\n",
        "\n",
        "                delta = delta_buf[:b, :, :]\n",
        "                numpy.subtract(mat_1qn, batch, out=delta)\n",
        "                numpy.abs(delta, out=delta)\n",
        "                numpy.power(delta, p, out=delta)\n",
        "\n",
        "                norm = norm_buf[:b, :]\n",
        "                numpy.sum(delta, axis=2, out=norm)\n",
        "                \n",
        "                loader.output(norm)\n",
        "\n",
        "        return lambda loader, mat, means, progress: impl(loader, mat, means, progress, p)\n",
        "\n",
        "    def cosine_mean(loader, mat, means, progress):\n",
        "        q = mat.shape[0]\n",
        "\n",
        "        ret = numpy.empty(q)\n",
        "        mat = mat - means.reshape((1, -1))\n",
        "        nan_indices = numpy.where(numpy.isnan(mat))\n",
        "        mat[nan_indices] = numpy.take(means, nan_indices[1]) # assume average if rating is unknown\n",
        "        norm_mat = numpy.linalg.norm(mat, axis=1)\n",
        "        mat_nq = mat.transpose()\n",
        "\n",
        "        # preallocate `inner` to improve performance\n",
        "        inner_buf = numpy.empty((loader.batch_size, q))\n",
        "\n",
        "        nan_bools_buf = numpy.empty((loader.batch_size, mat.shape[1]), dtype=bool)\n",
        "\n",
        "        for batch in loader:\n",
        "            b = batch.shape[0]\n",
        "            inner = inner_buf[:b, :]\n",
        "            batch -= means.reshape((1, -1))\n",
        "\n",
        "            nan_bools = nan_bools_buf[:b, :]\n",
        "            # numpy.isnan(batch, out=nan_bools)\n",
        "            # batch[nan_bools] = 0 # impute with means\n",
        "            numpy.matmul(batch, mat_nq, out=inner)\n",
        "            norm_batch = numpy.linalg.norm(batch, axis=1)\n",
        "            inner /= norm_batch.reshape((-1, 1))\n",
        "            inner /= norm_mat.reshape((1, -1))\n",
        "            loader.output(inner)\n",
        "            progress.inc(delta=b)\n",
        "\n",
        "        return ret"
      ],
      "execution_count": null,
      "outputs": []
    },
    {
      "cell_type": "code",
      "metadata": {
        "id": "kA3BAyloUrud"
      },
      "source": [
        "class Aggregate:\n",
        "    \"\"\"For all methods, ratings is a p*q rating matrix,\n",
        "    distances is a p*q distance matrix,\n",
        "    means is a size-p mean rating vector\"\"\"\n",
        "\n",
        "    def baseline(ratings, distances, means):\n",
        "        return means, 0\n",
        "\n",
        "    def average(ratings, distances, means):\n",
        "        ret = numpy.nanmean(ratings, axis=1)\n",
        "        nan_indices = numpy.isnan(ret)\n",
        "\n",
        "        nan_count = nan_indices.sum()\n",
        "        ret[nan_indices] = means[nan_indices]\n",
        "        return ret, nan_count"
      ],
      "execution_count": null,
      "outputs": []
    },
    {
      "cell_type": "markdown",
      "metadata": {
        "id": "0dK4N0pr2au4"
      },
      "source": [
        "## Example shown for Q = 300 and Q = 400\n"
      ]
    },
    {
      "cell_type": "code",
      "metadata": {
        "id": "_D4j0V-YetXT",
        "colab": {
          "base_uri": "https://localhost:8080/",
          "height": 1000
        },
        "outputId": "1dc90541-9226-4aad-dc08-e32ac0b3f071"
      },
      "source": [
        "rmse_q300 = []\n",
        "for k in [10,30,50,70,90,110,130,150,170,190,210,230,250,270,290,300]:\n",
        "  model = KnnRecommend(Metric.cosine_mean, Aggregate.average, k, 300,batch_size =526)\n",
        "  rmse = model.evaluate()\n",
        "  rmse_q300.append(rmse)"
      ],
      "execution_count": null,
      "outputs": [
        {
          "output_type": "stream",
          "text": [
            "Task: Counting users and movies\n",
            "Took 276.023694ms\n",
            "Task: Repacking ratings to COO format\n",
            "Took 714.3765ms\n",
            "Task: Repacking ratings to CSR format\n",
            "Took 8424.450239ms\n",
            "Task: Choosing top Q users\n",
            "Took 533.711151ms\n",
            "Task: Computing movie mean ratings\n",
            "Took 701.117918ms\n",
            "Task: Extracting top q ratings\n",
            "Took 65.876651ms\n",
            "Task: Computing distance matrix\n"
          ],
          "name": "stdout"
        },
        {
          "output_type": "display_data",
          "data": {
            "text/html": [
              "<progress style='width:60ex' max='480189' value='480189'></progress>"
            ],
            "text/plain": [
              "[============================================================] 480189/480189"
            ]
          },
          "metadata": {
            "tags": []
          }
        },
        {
          "output_type": "stream",
          "text": [
            "Completed 480189/480189 in 239088.519688ms\n",
            "Took 239090.93952ms\n",
            "Task: Sorting distances\n",
            "Took 3378.089287ms\n"
          ],
          "name": "stdout"
        },
        {
          "output_type": "display_data",
          "data": {
            "text/html": [
              "<progress style='width:60ex' max='1408395' value='1408395'></progress>"
            ],
            "text/plain": [
              "[============================================================] 1408395/1408395"
            ]
          },
          "metadata": {
            "tags": []
          }
        },
        {
          "output_type": "stream",
          "text": [
            "/usr/local/lib/python3.7/dist-packages/ipykernel_launcher.py:10: RuntimeWarning: Mean of empty slice\n",
            "  # Remove the CWD from sys.path while we load stuff.\n"
          ],
          "name": "stderr"
        },
        {
          "output_type": "stream",
          "text": [
            "Completed 1408395/1408395 in 1992.310285ms\n",
            "1369 entries have no non-NAN neighbours\n",
            "Task: Counting users and movies\n",
            "Took 274.674332ms\n",
            "Task: Repacking ratings to COO format\n",
            "Took 739.419266ms\n",
            "Task: Repacking ratings to CSR format\n",
            "Took 8882.902059ms\n",
            "Task: Choosing top Q users\n",
            "Took 596.395646ms\n",
            "Task: Computing movie mean ratings\n",
            "Took 710.750682ms\n",
            "Task: Extracting top q ratings\n",
            "Took 65.100866ms\n",
            "Task: Computing distance matrix\n"
          ],
          "name": "stdout"
        },
        {
          "output_type": "display_data",
          "data": {
            "text/html": [
              "<progress style='width:60ex' max='480189' value='480189'></progress>"
            ],
            "text/plain": [
              "[============================================================] 480189/480189"
            ]
          },
          "metadata": {
            "tags": []
          }
        },
        {
          "output_type": "stream",
          "text": [
            "Completed 480189/480189 in 238027.814165ms\n",
            "Took 238030.105586ms\n",
            "Task: Sorting distances\n",
            "Took 1580.675373ms\n"
          ],
          "name": "stdout"
        },
        {
          "output_type": "display_data",
          "data": {
            "text/html": [
              "<progress style='width:60ex' max='1408395' value='1408395'></progress>"
            ],
            "text/plain": [
              "[============================================================] 1408395/1408395"
            ]
          },
          "metadata": {
            "tags": []
          }
        },
        {
          "output_type": "stream",
          "text": [
            "/usr/local/lib/python3.7/dist-packages/ipykernel_launcher.py:10: RuntimeWarning: Mean of empty slice\n",
            "  # Remove the CWD from sys.path while we load stuff.\n"
          ],
          "name": "stderr"
        },
        {
          "output_type": "stream",
          "text": [
            "Completed 1408395/1408395 in 2471.966497ms\n",
            "1052 entries have no non-NAN neighbours\n",
            "Task: Counting users and movies\n",
            "Took 279.603861ms\n",
            "Task: Repacking ratings to COO format\n",
            "Took 760.85129ms\n",
            "Task: Repacking ratings to CSR format\n",
            "Took 9093.237716ms\n",
            "Task: Choosing top Q users\n",
            "Took 550.453627ms\n",
            "Task: Computing movie mean ratings\n",
            "Took 724.088026ms\n",
            "Task: Extracting top q ratings\n",
            "Took 66.45548ms\n",
            "Task: Computing distance matrix\n"
          ],
          "name": "stdout"
        },
        {
          "output_type": "display_data",
          "data": {
            "text/html": [
              "<progress style='width:60ex' max='480189' value='480189'></progress>"
            ],
            "text/plain": [
              "[============================================================] 480189/480189"
            ]
          },
          "metadata": {
            "tags": []
          }
        },
        {
          "output_type": "stream",
          "text": [
            "Completed 480189/480189 in 238018.378207ms\n",
            "Took 238020.24798ms\n",
            "Task: Sorting distances\n",
            "Took 1572.174158ms\n"
          ],
          "name": "stdout"
        },
        {
          "output_type": "display_data",
          "data": {
            "text/html": [
              "<progress style='width:60ex' max='1408395' value='1408395'></progress>"
            ],
            "text/plain": [
              "[============================================================] 1408395/1408395"
            ]
          },
          "metadata": {
            "tags": []
          }
        },
        {
          "output_type": "stream",
          "text": [
            "/usr/local/lib/python3.7/dist-packages/ipykernel_launcher.py:10: RuntimeWarning: Mean of empty slice\n",
            "  # Remove the CWD from sys.path while we load stuff.\n"
          ],
          "name": "stderr"
        },
        {
          "output_type": "stream",
          "text": [
            "Completed 1408395/1408395 in 3041.166339ms\n",
            "866 entries have no non-NAN neighbours\n",
            "Task: Counting users and movies\n",
            "Took 279.109596ms\n",
            "Task: Repacking ratings to COO format\n",
            "Took 748.369871ms\n",
            "Task: Repacking ratings to CSR format\n",
            "Took 8870.960166ms\n",
            "Task: Choosing top Q users\n",
            "Took 543.486121ms\n",
            "Task: Computing movie mean ratings\n",
            "Took 716.452806ms\n",
            "Task: Extracting top q ratings\n",
            "Took 65.759934ms\n",
            "Task: Computing distance matrix\n"
          ],
          "name": "stdout"
        },
        {
          "output_type": "display_data",
          "data": {
            "text/html": [
              "<progress style='width:60ex' max='480189' value='480189'></progress>"
            ],
            "text/plain": [
              "[============================================================] 480189/480189"
            ]
          },
          "metadata": {
            "tags": []
          }
        },
        {
          "output_type": "stream",
          "text": [
            "Completed 480189/480189 in 238567.145959ms\n",
            "Took 238568.183806ms\n",
            "Task: Sorting distances\n",
            "Took 1600.187497ms\n"
          ],
          "name": "stdout"
        },
        {
          "output_type": "display_data",
          "data": {
            "text/html": [
              "<progress style='width:60ex' max='1408395' value='1408395'></progress>"
            ],
            "text/plain": [
              "[============================================================] 1408395/1408395"
            ]
          },
          "metadata": {
            "tags": []
          }
        },
        {
          "output_type": "stream",
          "text": [
            "/usr/local/lib/python3.7/dist-packages/ipykernel_launcher.py:10: RuntimeWarning: Mean of empty slice\n",
            "  # Remove the CWD from sys.path while we load stuff.\n"
          ],
          "name": "stderr"
        },
        {
          "output_type": "stream",
          "text": [
            "Completed 1408395/1408395 in 4144.291337ms\n",
            "471 entries have no non-NAN neighbours\n",
            "Task: Counting users and movies\n",
            "Took 280.39139ms\n",
            "Task: Repacking ratings to COO format\n",
            "Took 744.947874ms\n",
            "Task: Repacking ratings to CSR format\n",
            "Took 8808.170153ms\n",
            "Task: Choosing top Q users\n",
            "Took 541.981065ms\n",
            "Task: Computing movie mean ratings\n",
            "Took 716.411635ms\n",
            "Task: Extracting top q ratings\n",
            "Took 66.743062ms\n",
            "Task: Computing distance matrix\n"
          ],
          "name": "stdout"
        },
        {
          "output_type": "display_data",
          "data": {
            "text/html": [
              "<progress style='width:60ex' max='480189' value='480189'></progress>"
            ],
            "text/plain": [
              "[============================================================] 480189/480189"
            ]
          },
          "metadata": {
            "tags": []
          }
        },
        {
          "output_type": "stream",
          "text": [
            "Completed 480189/480189 in 237774.477696ms\n",
            "Took 237775.456724ms\n",
            "Task: Sorting distances\n",
            "Took 1562.260614ms\n"
          ],
          "name": "stdout"
        },
        {
          "output_type": "display_data",
          "data": {
            "text/html": [
              "<progress style='width:60ex' max='1408395' value='1408395'></progress>"
            ],
            "text/plain": [
              "[============================================================] 1408395/1408395"
            ]
          },
          "metadata": {
            "tags": []
          }
        },
        {
          "output_type": "stream",
          "text": [
            "/usr/local/lib/python3.7/dist-packages/ipykernel_launcher.py:10: RuntimeWarning: Mean of empty slice\n",
            "  # Remove the CWD from sys.path while we load stuff.\n"
          ],
          "name": "stderr"
        },
        {
          "output_type": "stream",
          "text": [
            "Completed 1408395/1408395 in 4725.46253ms\n",
            "414 entries have no non-NAN neighbours\n",
            "Task: Counting users and movies\n",
            "Took 269.792631ms\n",
            "Task: Repacking ratings to COO format\n",
            "Took 742.210392ms\n",
            "Task: Repacking ratings to CSR format\n",
            "Took 8520.023948ms\n",
            "Task: Choosing top Q users\n",
            "Took 549.585753ms\n",
            "Task: Computing movie mean ratings\n",
            "Took 703.954522ms\n",
            "Task: Extracting top q ratings\n",
            "Took 66.937389ms\n",
            "Task: Computing distance matrix\n"
          ],
          "name": "stdout"
        },
        {
          "output_type": "display_data",
          "data": {
            "text/html": [
              "<progress style='width:60ex' max='480189' value='480189'></progress>"
            ],
            "text/plain": [
              "[============================================================] 480189/480189"
            ]
          },
          "metadata": {
            "tags": []
          }
        },
        {
          "output_type": "stream",
          "text": [
            "Completed 480189/480189 in 237359.129269ms\n",
            "Took 237361.116298ms\n",
            "Task: Sorting distances\n",
            "Took 1574.286577ms\n"
          ],
          "name": "stdout"
        },
        {
          "output_type": "display_data",
          "data": {
            "text/html": [
              "<progress style='width:60ex' max='1408395' value='1408395'></progress>"
            ],
            "text/plain": [
              "[============================================================] 1408395/1408395"
            ]
          },
          "metadata": {
            "tags": []
          }
        },
        {
          "output_type": "stream",
          "text": [
            "/usr/local/lib/python3.7/dist-packages/ipykernel_launcher.py:10: RuntimeWarning: Mean of empty slice\n",
            "  # Remove the CWD from sys.path while we load stuff.\n"
          ],
          "name": "stderr"
        },
        {
          "output_type": "stream",
          "text": [
            "Completed 1408395/1408395 in 5542.466828ms\n",
            "356 entries have no non-NAN neighbours\n",
            "Task: Counting users and movies\n",
            "Took 276.857853ms\n",
            "Task: Repacking ratings to COO format\n",
            "Took 770.109596ms\n",
            "Task: Repacking ratings to CSR format\n",
            "Took 8565.64533ms\n",
            "Task: Choosing top Q users\n",
            "Took 530.670458ms\n",
            "Task: Computing movie mean ratings\n",
            "Took 713.262141ms\n",
            "Task: Extracting top q ratings\n",
            "Took 67.252546ms\n",
            "Task: Computing distance matrix\n"
          ],
          "name": "stdout"
        },
        {
          "output_type": "display_data",
          "data": {
            "text/html": [
              "<progress style='width:60ex' max='480189' value='480189'></progress>"
            ],
            "text/plain": [
              "[============================================================] 480189/480189"
            ]
          },
          "metadata": {
            "tags": []
          }
        },
        {
          "output_type": "stream",
          "text": [
            "Completed 480189/480189 in 237381.852639ms\n",
            "Took 237381.975641ms\n",
            "Task: Sorting distances\n",
            "Took 1569.043753ms\n"
          ],
          "name": "stdout"
        },
        {
          "output_type": "display_data",
          "data": {
            "text/html": [
              "<progress style='width:60ex' max='1408395' value='1408395'></progress>"
            ],
            "text/plain": [
              "[============================================================] 1408395/1408395"
            ]
          },
          "metadata": {
            "tags": []
          }
        },
        {
          "output_type": "stream",
          "text": [
            "/usr/local/lib/python3.7/dist-packages/ipykernel_launcher.py:10: RuntimeWarning: Mean of empty slice\n",
            "  # Remove the CWD from sys.path while we load stuff.\n"
          ],
          "name": "stderr"
        },
        {
          "output_type": "stream",
          "text": [
            "Completed 1408395/1408395 in 6075.290122ms\n",
            "350 entries have no non-NAN neighbours\n",
            "Task: Counting users and movies\n",
            "Took 276.461318ms\n",
            "Task: Repacking ratings to COO format\n",
            "Took 743.079786ms\n",
            "Task: Repacking ratings to CSR format\n",
            "Took 8446.614328ms\n",
            "Task: Choosing top Q users\n",
            "Took 537.490373ms\n",
            "Task: Computing movie mean ratings\n",
            "Took 720.019797ms\n",
            "Task: Extracting top q ratings\n",
            "Took 65.685736ms\n",
            "Task: Computing distance matrix\n"
          ],
          "name": "stdout"
        },
        {
          "output_type": "display_data",
          "data": {
            "text/html": [
              "<progress style='width:60ex' max='480189' value='480189'></progress>"
            ],
            "text/plain": [
              "[============================================================] 480189/480189"
            ]
          },
          "metadata": {
            "tags": []
          }
        },
        {
          "output_type": "stream",
          "text": [
            "Completed 480189/480189 in 238057.722183ms\n",
            "Took 238060.18627ms\n",
            "Task: Sorting distances\n",
            "Took 1560.957558ms\n"
          ],
          "name": "stdout"
        },
        {
          "output_type": "display_data",
          "data": {
            "text/html": [
              "<progress style='width:60ex' max='1408395' value='1408395'></progress>"
            ],
            "text/plain": [
              "[============================================================] 1408395/1408395"
            ]
          },
          "metadata": {
            "tags": []
          }
        },
        {
          "output_type": "stream",
          "text": [
            "/usr/local/lib/python3.7/dist-packages/ipykernel_launcher.py:10: RuntimeWarning: Mean of empty slice\n",
            "  # Remove the CWD from sys.path while we load stuff.\n"
          ],
          "name": "stderr"
        },
        {
          "output_type": "stream",
          "text": [
            "Completed 1408395/1408395 in 6866.925321ms\n",
            "350 entries have no non-NAN neighbours\n",
            "Task: Counting users and movies\n",
            "Took 274.292059ms\n",
            "Task: Repacking ratings to COO format\n",
            "Took 756.517903ms\n",
            "Task: Repacking ratings to CSR format\n",
            "Took 8723.18483ms\n",
            "Task: Choosing top Q users\n",
            "Took 540.982359ms\n",
            "Task: Computing movie mean ratings\n",
            "Took 710.408292ms\n",
            "Task: Extracting top q ratings\n",
            "Took 66.505202ms\n",
            "Task: Computing distance matrix\n"
          ],
          "name": "stdout"
        },
        {
          "output_type": "display_data",
          "data": {
            "text/html": [
              "<progress style='width:60ex' max='480189' value='480189'></progress>"
            ],
            "text/plain": [
              "[============================================================] 480189/480189"
            ]
          },
          "metadata": {
            "tags": []
          }
        },
        {
          "output_type": "stream",
          "text": [
            "Completed 480189/480189 in 238154.641533ms\n",
            "Took 238156.729053ms\n",
            "Task: Sorting distances\n",
            "Took 1567.968459ms\n"
          ],
          "name": "stdout"
        },
        {
          "output_type": "display_data",
          "data": {
            "text/html": [
              "<progress style='width:60ex' max='1408395' value='1408395'></progress>"
            ],
            "text/plain": [
              "[============================================================] 1408395/1408395"
            ]
          },
          "metadata": {
            "tags": []
          }
        },
        {
          "output_type": "stream",
          "text": [
            "/usr/local/lib/python3.7/dist-packages/ipykernel_launcher.py:10: RuntimeWarning: Mean of empty slice\n",
            "  # Remove the CWD from sys.path while we load stuff.\n"
          ],
          "name": "stderr"
        },
        {
          "output_type": "stream",
          "text": [
            "Completed 1408395/1408395 in 7634.384489ms\n",
            "332 entries have no non-NAN neighbours\n",
            "Task: Counting users and movies\n",
            "Took 267.123944ms\n",
            "Task: Repacking ratings to COO format\n",
            "Took 731.219532ms\n",
            "Task: Repacking ratings to CSR format\n",
            "Took 8673.124451ms\n",
            "Task: Choosing top Q users\n",
            "Took 535.105221ms\n",
            "Task: Computing movie mean ratings\n",
            "Took 709.174337ms\n",
            "Task: Extracting top q ratings\n",
            "Took 64.621497ms\n",
            "Task: Computing distance matrix\n"
          ],
          "name": "stdout"
        },
        {
          "output_type": "display_data",
          "data": {
            "text/html": [
              "<progress style='width:60ex' max='480189' value='480189'></progress>"
            ],
            "text/plain": [
              "[============================================================] 480189/480189"
            ]
          },
          "metadata": {
            "tags": []
          }
        },
        {
          "output_type": "stream",
          "text": [
            "Completed 480189/480189 in 237482.669683ms\n",
            "Took 237484.030533ms\n",
            "Task: Sorting distances\n",
            "Took 1590.266453ms\n"
          ],
          "name": "stdout"
        },
        {
          "output_type": "display_data",
          "data": {
            "text/html": [
              "<progress style='width:60ex' max='1408395' value='1408395'></progress>"
            ],
            "text/plain": [
              "[============================================================] 1408395/1408395"
            ]
          },
          "metadata": {
            "tags": []
          }
        },
        {
          "output_type": "stream",
          "text": [
            "/usr/local/lib/python3.7/dist-packages/ipykernel_launcher.py:10: RuntimeWarning: Mean of empty slice\n",
            "  # Remove the CWD from sys.path while we load stuff.\n"
          ],
          "name": "stderr"
        },
        {
          "output_type": "stream",
          "text": [
            "Completed 1408395/1408395 in 8188.230135ms\n",
            "324 entries have no non-NAN neighbours\n",
            "Task: Counting users and movies\n",
            "Took 266.79213ms\n",
            "Task: Repacking ratings to COO format\n",
            "Took 728.882041ms\n",
            "Task: Repacking ratings to CSR format\n",
            "Took 8373.977728ms\n",
            "Task: Choosing top Q users\n",
            "Took 539.046001ms\n",
            "Task: Computing movie mean ratings\n",
            "Took 718.99193ms\n",
            "Task: Extracting top q ratings\n",
            "Took 66.077856ms\n",
            "Task: Computing distance matrix\n"
          ],
          "name": "stdout"
        },
        {
          "output_type": "display_data",
          "data": {
            "text/html": [
              "<progress style='width:60ex' max='480189' value='480189'></progress>"
            ],
            "text/plain": [
              "[============================================================] 480189/480189"
            ]
          },
          "metadata": {
            "tags": []
          }
        },
        {
          "output_type": "stream",
          "text": [
            "Completed 480189/480189 in 237770.672933ms\n",
            "Took 237773.975989ms\n",
            "Task: Sorting distances\n",
            "Took 1568.24635ms\n"
          ],
          "name": "stdout"
        },
        {
          "output_type": "display_data",
          "data": {
            "text/html": [
              "<progress style='width:60ex' max='1408395' value='1408395'></progress>"
            ],
            "text/plain": [
              "[============================================================] 1408395/1408395"
            ]
          },
          "metadata": {
            "tags": []
          }
        },
        {
          "output_type": "stream",
          "text": [
            "/usr/local/lib/python3.7/dist-packages/ipykernel_launcher.py:10: RuntimeWarning: Mean of empty slice\n",
            "  # Remove the CWD from sys.path while we load stuff.\n"
          ],
          "name": "stderr"
        },
        {
          "output_type": "stream",
          "text": [
            "Completed 1408395/1408395 in 8960.509803ms\n",
            "52 entries have no non-NAN neighbours\n",
            "Task: Counting users and movies\n",
            "Took 265.742069ms\n",
            "Task: Repacking ratings to COO format\n",
            "Took 722.412235ms\n",
            "Task: Repacking ratings to CSR format\n",
            "Took 8566.648159ms\n",
            "Task: Choosing top Q users\n",
            "Took 556.636223ms\n",
            "Task: Computing movie mean ratings\n",
            "Took 705.420555ms\n",
            "Task: Extracting top q ratings\n",
            "Took 67.110479ms\n",
            "Task: Computing distance matrix\n"
          ],
          "name": "stdout"
        },
        {
          "output_type": "display_data",
          "data": {
            "text/html": [
              "<progress style='width:60ex' max='480189' value='480189'></progress>"
            ],
            "text/plain": [
              "[============================================================] 480189/480189"
            ]
          },
          "metadata": {
            "tags": []
          }
        },
        {
          "output_type": "stream",
          "text": [
            "Completed 480189/480189 in 236865.165182ms\n",
            "Took 236866.925449ms\n",
            "Task: Sorting distances\n",
            "Took 1560.467024ms\n"
          ],
          "name": "stdout"
        },
        {
          "output_type": "display_data",
          "data": {
            "text/html": [
              "<progress style='width:60ex' max='1408395' value='1408395'></progress>"
            ],
            "text/plain": [
              "[============================================================] 1408395/1408395"
            ]
          },
          "metadata": {
            "tags": []
          }
        },
        {
          "output_type": "stream",
          "text": [
            "/usr/local/lib/python3.7/dist-packages/ipykernel_launcher.py:10: RuntimeWarning: Mean of empty slice\n",
            "  # Remove the CWD from sys.path while we load stuff.\n"
          ],
          "name": "stderr"
        },
        {
          "output_type": "stream",
          "text": [
            "Completed 1408395/1408395 in 9336.350209ms\n",
            "34 entries have no non-NAN neighbours\n",
            "Task: Counting users and movies\n",
            "Took 256.071208ms\n",
            "Task: Repacking ratings to COO format\n",
            "Took 701.513633ms\n",
            "Task: Repacking ratings to CSR format\n",
            "Took 7715.063419ms\n",
            "Task: Choosing top Q users\n",
            "Took 536.952158ms\n",
            "Task: Computing movie mean ratings\n",
            "Took 705.515906ms\n",
            "Task: Extracting top q ratings\n",
            "Took 65.899527ms\n",
            "Task: Computing distance matrix\n"
          ],
          "name": "stdout"
        },
        {
          "output_type": "display_data",
          "data": {
            "text/html": [
              "<progress style='width:60ex' max='480189' value='480189'></progress>"
            ],
            "text/plain": [
              "[============================================================] 480189/480189"
            ]
          },
          "metadata": {
            "tags": []
          }
        },
        {
          "output_type": "stream",
          "text": [
            "Completed 480189/480189 in 236541.141306ms\n",
            "Took 236542.21343ms\n",
            "Task: Sorting distances\n",
            "Took 1568.474551ms\n"
          ],
          "name": "stdout"
        },
        {
          "output_type": "display_data",
          "data": {
            "text/html": [
              "<progress style='width:60ex' max='1408395' value='1408395'></progress>"
            ],
            "text/plain": [
              "[============================================================] 1408395/1408395"
            ]
          },
          "metadata": {
            "tags": []
          }
        },
        {
          "output_type": "stream",
          "text": [
            "/usr/local/lib/python3.7/dist-packages/ipykernel_launcher.py:10: RuntimeWarning: Mean of empty slice\n",
            "  # Remove the CWD from sys.path while we load stuff.\n"
          ],
          "name": "stderr"
        },
        {
          "output_type": "stream",
          "text": [
            "Completed 1408395/1408395 in 10154.207587ms\n",
            "24 entries have no non-NAN neighbours\n",
            "Task: Counting users and movies\n",
            "Took 262.300701ms\n",
            "Task: Repacking ratings to COO format\n",
            "Took 699.102817ms\n",
            "Task: Repacking ratings to CSR format\n",
            "Took 7632.302605ms\n",
            "Task: Choosing top Q users\n",
            "Took 532.621114ms\n",
            "Task: Computing movie mean ratings\n",
            "Took 709.101319ms\n",
            "Task: Extracting top q ratings\n",
            "Took 60.933488ms\n",
            "Task: Computing distance matrix\n"
          ],
          "name": "stdout"
        },
        {
          "output_type": "display_data",
          "data": {
            "text/html": [
              "<progress style='width:60ex' max='480189' value='480189'></progress>"
            ],
            "text/plain": [
              "[============================================================] 480189/480189"
            ]
          },
          "metadata": {
            "tags": []
          }
        },
        {
          "output_type": "stream",
          "text": [
            "Completed 480189/480189 in 237165.03291ms\n",
            "Took 237166.103083ms\n",
            "Task: Sorting distances\n",
            "Took 1586.652131ms\n"
          ],
          "name": "stdout"
        },
        {
          "output_type": "display_data",
          "data": {
            "text/html": [
              "<progress style='width:60ex' max='1408395' value='1408395'></progress>"
            ],
            "text/plain": [
              "[============================================================] 1408395/1408395"
            ]
          },
          "metadata": {
            "tags": []
          }
        },
        {
          "output_type": "stream",
          "text": [
            "/usr/local/lib/python3.7/dist-packages/ipykernel_launcher.py:10: RuntimeWarning: Mean of empty slice\n",
            "  # Remove the CWD from sys.path while we load stuff.\n"
          ],
          "name": "stderr"
        },
        {
          "output_type": "stream",
          "text": [
            "Completed 1408395/1408395 in 10896.024262ms\n",
            "9 entries have no non-NAN neighbours\n",
            "Task: Counting users and movies\n",
            "Took 267.31508ms\n",
            "Task: Repacking ratings to COO format\n",
            "Took 706.152674ms\n",
            "Task: Repacking ratings to CSR format\n",
            "Took 7758.858674ms\n",
            "Task: Choosing top Q users\n",
            "Took 531.193361ms\n",
            "Task: Computing movie mean ratings\n",
            "Took 700.772246ms\n",
            "Task: Extracting top q ratings\n",
            "Took 61.221463ms\n",
            "Task: Computing distance matrix\n"
          ],
          "name": "stdout"
        },
        {
          "output_type": "display_data",
          "data": {
            "text/html": [
              "<progress style='width:60ex' max='480189' value='480189'></progress>"
            ],
            "text/plain": [
              "[============================================================] 480189/480189"
            ]
          },
          "metadata": {
            "tags": []
          }
        },
        {
          "output_type": "stream",
          "text": [
            "Completed 480189/480189 in 237975.419558ms\n",
            "Took 237977.296389ms\n",
            "Task: Sorting distances\n",
            "Took 1615.982224ms\n"
          ],
          "name": "stdout"
        },
        {
          "output_type": "display_data",
          "data": {
            "text/html": [
              "<progress style='width:60ex' max='1408395' value='1408395'></progress>"
            ],
            "text/plain": [
              "[============================================================] 1408395/1408395"
            ]
          },
          "metadata": {
            "tags": []
          }
        },
        {
          "output_type": "stream",
          "text": [
            "/usr/local/lib/python3.7/dist-packages/ipykernel_launcher.py:10: RuntimeWarning: Mean of empty slice\n",
            "  # Remove the CWD from sys.path while we load stuff.\n"
          ],
          "name": "stderr"
        },
        {
          "output_type": "stream",
          "text": [
            "Completed 1408395/1408395 in 11641.091158ms\n",
            "9 entries have no non-NAN neighbours\n",
            "Task: Counting users and movies\n",
            "Took 262.463098ms\n",
            "Task: Repacking ratings to COO format\n",
            "Took 717.365105ms\n",
            "Task: Repacking ratings to CSR format\n",
            "Took 7609.214961ms\n",
            "Task: Choosing top Q users\n",
            "Took 521.359131ms\n",
            "Task: Computing movie mean ratings\n",
            "Took 701.365405ms\n",
            "Task: Extracting top q ratings\n",
            "Took 60.292389ms\n",
            "Task: Computing distance matrix\n"
          ],
          "name": "stdout"
        },
        {
          "output_type": "display_data",
          "data": {
            "text/html": [
              "<progress style='width:60ex' max='480189' value='480189'></progress>"
            ],
            "text/plain": [
              "[============================================================] 480189/480189"
            ]
          },
          "metadata": {
            "tags": []
          }
        },
        {
          "output_type": "stream",
          "text": [
            "Completed 480189/480189 in 237609.41721ms\n",
            "Took 237611.263106ms\n",
            "Task: Sorting distances\n",
            "Took 1589.904842ms\n"
          ],
          "name": "stdout"
        },
        {
          "output_type": "display_data",
          "data": {
            "text/html": [
              "<progress style='width:60ex' max='1408395' value='1408395'></progress>"
            ],
            "text/plain": [
              "[============================================================] 1408395/1408395"
            ]
          },
          "metadata": {
            "tags": []
          }
        },
        {
          "output_type": "stream",
          "text": [
            "/usr/local/lib/python3.7/dist-packages/ipykernel_launcher.py:10: RuntimeWarning: Mean of empty slice\n",
            "  # Remove the CWD from sys.path while we load stuff.\n"
          ],
          "name": "stderr"
        },
        {
          "output_type": "stream",
          "text": [
            "Completed 1408395/1408395 in 12171.862571ms\n",
            "9 entries have no non-NAN neighbours\n"
          ],
          "name": "stdout"
        }
      ]
    },
    {
      "cell_type": "code",
      "metadata": {
        "id": "llXtJer7e2EG",
        "colab": {
          "base_uri": "https://localhost:8080/"
        },
        "outputId": "e979619a-f6ef-4887-b427-cd1e566c4d8b"
      },
      "source": [
        "print(rmse_q300)"
      ],
      "execution_count": null,
      "outputs": [
        {
          "output_type": "stream",
          "text": [
            "[1.404534079770204, 1.2823973117635439, 1.247372393289325, 1.1959231786321178, 1.189881280446423, 1.177705262948518, 1.167758882780713, 1.1527838530728955, 1.1542050113909228, 1.1678293427312367, 1.1662597354720212, 1.1769096906557126, 1.174123219198517, 1.1700075927386806, 1.1690441575089083, 1.1702632616032251]\n"
          ],
          "name": "stdout"
        }
      ]
    },
    {
      "cell_type": "code",
      "metadata": {
        "id": "qZsRcwNZe4Vc",
        "colab": {
          "base_uri": "https://localhost:8080/",
          "height": 1000
        },
        "outputId": "6cc8db8c-b708-403d-bb2a-4d7eb0ca698a"
      },
      "source": [
        "rmse_q400 = []\n",
        "for k in [10,30,50,70,90,110,130,150,170,190,210,230,250,270,290,310,330,350,370,390,400]:\n",
        "  model = KnnRecommend(Metric.cosine_mean, Aggregate.average, k, 400,batch_size =526)\n",
        "  rmse = model.evaluate()\n",
        "  rmse_q400.append(rmse)"
      ],
      "execution_count": null,
      "outputs": [
        {
          "output_type": "stream",
          "text": [
            "Task: Counting users and movies\n",
            "Took 273.149515ms\n",
            "Task: Repacking ratings to COO format\n",
            "Took 721.143697ms\n",
            "Task: Repacking ratings to CSR format\n",
            "Took 7605.584206ms\n",
            "Task: Choosing top Q users\n",
            "Took 525.747403ms\n",
            "Task: Computing movie mean ratings\n",
            "Took 698.391994ms\n",
            "Task: Extracting top q ratings\n",
            "Took 76.280479ms\n",
            "Task: Computing distance matrix\n"
          ],
          "name": "stdout"
        },
        {
          "output_type": "display_data",
          "data": {
            "text/html": [
              "<progress style='width:60ex' max='480189' value='480189'></progress>"
            ],
            "text/plain": [
              "[============================================================] 480189/480189"
            ]
          },
          "metadata": {
            "tags": []
          }
        },
        {
          "output_type": "stream",
          "text": [
            "Completed 480189/480189 in 280892.644212ms\n",
            "Took 280895.045712ms\n",
            "Task: Sorting distances\n",
            "Took 5333.522666ms\n"
          ],
          "name": "stdout"
        },
        {
          "output_type": "display_data",
          "data": {
            "text/html": [
              "<progress style='width:60ex' max='1408395' value='1408395'></progress>"
            ],
            "text/plain": [
              "[============================================================] 1408395/1408395"
            ]
          },
          "metadata": {
            "tags": []
          }
        },
        {
          "output_type": "stream",
          "text": [
            "/usr/local/lib/python3.7/dist-packages/ipykernel_launcher.py:10: RuntimeWarning: Mean of empty slice\n",
            "  # Remove the CWD from sys.path while we load stuff.\n"
          ],
          "name": "stderr"
        },
        {
          "output_type": "stream",
          "text": [
            "Completed 1408395/1408395 in 2200.847533ms\n",
            "1069 entries have no non-NAN neighbours\n",
            "Task: Counting users and movies\n",
            "Took 267.746819ms\n",
            "Task: Repacking ratings to COO format\n",
            "Took 697.627259ms\n",
            "Task: Repacking ratings to CSR format\n",
            "Took 10730.049613ms\n",
            "Task: Choosing top Q users\n",
            "Took 525.61927ms\n",
            "Task: Computing movie mean ratings\n",
            "Took 692.508772ms\n",
            "Task: Extracting top q ratings\n",
            "Took 74.972774ms\n",
            "Task: Computing distance matrix\n"
          ],
          "name": "stdout"
        },
        {
          "output_type": "display_data",
          "data": {
            "text/html": [
              "<progress style='width:60ex' max='480189' value='480189'></progress>"
            ],
            "text/plain": [
              "[============================================================] 480189/480189"
            ]
          },
          "metadata": {
            "tags": []
          }
        },
        {
          "output_type": "stream",
          "text": [
            "Completed 480189/480189 in 282234.582873ms\n",
            "Took 282236.48945ms\n",
            "Task: Sorting distances\n",
            "Took 2123.522908ms\n"
          ],
          "name": "stdout"
        },
        {
          "output_type": "display_data",
          "data": {
            "text/html": [
              "<progress style='width:60ex' max='1408395' value='1408395'></progress>"
            ],
            "text/plain": [
              "[============================================================] 1408395/1408395"
            ]
          },
          "metadata": {
            "tags": []
          }
        },
        {
          "output_type": "stream",
          "text": [
            "/usr/local/lib/python3.7/dist-packages/ipykernel_launcher.py:10: RuntimeWarning: Mean of empty slice\n",
            "  # Remove the CWD from sys.path while we load stuff.\n"
          ],
          "name": "stderr"
        },
        {
          "output_type": "stream",
          "text": [
            "Completed 1408395/1408395 in 2732.998698ms\n",
            "832 entries have no non-NAN neighbours\n",
            "Task: Counting users and movies\n",
            "Took 272.916481ms\n",
            "Task: Repacking ratings to COO format\n",
            "Took 712.086971ms\n",
            "Task: Repacking ratings to CSR format\n",
            "Took 10701.492281ms\n",
            "Task: Choosing top Q users\n",
            "Took 520.730503ms\n",
            "Task: Computing movie mean ratings\n",
            "Took 689.698466ms\n",
            "Task: Extracting top q ratings\n",
            "Took 74.478016ms\n",
            "Task: Computing distance matrix\n"
          ],
          "name": "stdout"
        },
        {
          "output_type": "display_data",
          "data": {
            "text/html": [
              "<progress style='width:60ex' max='480189' value='480189'></progress>"
            ],
            "text/plain": [
              "[============================================================] 480189/480189"
            ]
          },
          "metadata": {
            "tags": []
          }
        },
        {
          "output_type": "stream",
          "text": [
            "Completed 480189/480189 in 281518.650701ms\n",
            "Took 281520.052468ms\n",
            "Task: Sorting distances\n",
            "Took 2113.100834ms\n"
          ],
          "name": "stdout"
        },
        {
          "output_type": "display_data",
          "data": {
            "text/html": [
              "<progress style='width:60ex' max='1408395' value='1408395'></progress>"
            ],
            "text/plain": [
              "[============================================================] 1408395/1408395"
            ]
          },
          "metadata": {
            "tags": []
          }
        },
        {
          "output_type": "stream",
          "text": [
            "/usr/local/lib/python3.7/dist-packages/ipykernel_launcher.py:10: RuntimeWarning: Mean of empty slice\n",
            "  # Remove the CWD from sys.path while we load stuff.\n"
          ],
          "name": "stderr"
        },
        {
          "output_type": "stream",
          "text": [
            "Completed 1408395/1408395 in 3244.120142ms\n",
            "766 entries have no non-NAN neighbours\n",
            "Task: Counting users and movies\n",
            "Took 265.934397ms\n",
            "Task: Repacking ratings to COO format\n",
            "Took 709.420637ms\n",
            "Task: Repacking ratings to CSR format\n",
            "Took 10487.124204ms\n",
            "Task: Choosing top Q users\n",
            "Took 530.163435ms\n",
            "Task: Computing movie mean ratings\n",
            "Took 703.991604ms\n",
            "Task: Extracting top q ratings\n",
            "Took 72.914309ms\n",
            "Task: Computing distance matrix\n"
          ],
          "name": "stdout"
        },
        {
          "output_type": "display_data",
          "data": {
            "text/html": [
              "<progress style='width:60ex' max='480189' value='480189'></progress>"
            ],
            "text/plain": [
              "[============================================================] 480189/480189"
            ]
          },
          "metadata": {
            "tags": []
          }
        },
        {
          "output_type": "stream",
          "text": [
            "Completed 480189/480189 in 281700.822981ms\n",
            "Took 281701.897936ms\n",
            "Task: Sorting distances\n",
            "Took 2122.766144ms\n"
          ],
          "name": "stdout"
        },
        {
          "output_type": "display_data",
          "data": {
            "text/html": [
              "<progress style='width:60ex' max='1408395' value='1408395'></progress>"
            ],
            "text/plain": [
              "[============================================================] 1408395/1408395"
            ]
          },
          "metadata": {
            "tags": []
          }
        },
        {
          "output_type": "stream",
          "text": [
            "/usr/local/lib/python3.7/dist-packages/ipykernel_launcher.py:10: RuntimeWarning: Mean of empty slice\n",
            "  # Remove the CWD from sys.path while we load stuff.\n"
          ],
          "name": "stderr"
        },
        {
          "output_type": "stream",
          "text": [
            "Completed 1408395/1408395 in 4227.77901ms\n",
            "733 entries have no non-NAN neighbours\n",
            "Task: Counting users and movies\n",
            "Took 266.49487ms\n",
            "Task: Repacking ratings to COO format\n",
            "Took 710.753465ms\n",
            "Task: Repacking ratings to CSR format\n",
            "Took 10531.241032ms\n",
            "Task: Choosing top Q users\n",
            "Took 529.528308ms\n",
            "Task: Computing movie mean ratings\n",
            "Took 703.859976ms\n",
            "Task: Extracting top q ratings\n",
            "Took 73.107876ms\n",
            "Task: Computing distance matrix\n"
          ],
          "name": "stdout"
        },
        {
          "output_type": "display_data",
          "data": {
            "text/html": [
              "<progress style='width:60ex' max='480189' value='480189'></progress>"
            ],
            "text/plain": [
              "[============================================================] 480189/480189"
            ]
          },
          "metadata": {
            "tags": []
          }
        },
        {
          "output_type": "stream",
          "text": [
            "Completed 480189/480189 in 282306.263562ms\n",
            "Took 282307.433701ms\n",
            "Task: Sorting distances\n",
            "Took 2121.730931ms\n"
          ],
          "name": "stdout"
        },
        {
          "output_type": "display_data",
          "data": {
            "text/html": [
              "<progress style='width:60ex' max='1408395' value='1408395'></progress>"
            ],
            "text/plain": [
              "[============================================================] 1408395/1408395"
            ]
          },
          "metadata": {
            "tags": []
          }
        },
        {
          "output_type": "stream",
          "text": [
            "/usr/local/lib/python3.7/dist-packages/ipykernel_launcher.py:10: RuntimeWarning: Mean of empty slice\n",
            "  # Remove the CWD from sys.path while we load stuff.\n"
          ],
          "name": "stderr"
        },
        {
          "output_type": "stream",
          "text": [
            "Completed 1408395/1408395 in 5000.516656ms\n",
            "710 entries have no non-NAN neighbours\n",
            "Task: Counting users and movies\n",
            "Took 270.290884ms\n",
            "Task: Repacking ratings to COO format\n",
            "Took 729.648097ms\n",
            "Task: Repacking ratings to CSR format\n",
            "Took 10961.285141ms\n",
            "Task: Choosing top Q users\n",
            "Took 525.632142ms\n",
            "Task: Computing movie mean ratings\n",
            "Took 704.131155ms\n",
            "Task: Extracting top q ratings\n",
            "Took 76.54071ms\n",
            "Task: Computing distance matrix\n"
          ],
          "name": "stdout"
        },
        {
          "output_type": "display_data",
          "data": {
            "text/html": [
              "<progress style='width:60ex' max='480189' value='480189'></progress>"
            ],
            "text/plain": [
              "[============================================================] 480189/480189"
            ]
          },
          "metadata": {
            "tags": []
          }
        },
        {
          "output_type": "stream",
          "text": [
            "Completed 480189/480189 in 283531.452366ms\n",
            "Took 283533.239042ms\n",
            "Task: Sorting distances\n",
            "Took 2135.040972ms\n"
          ],
          "name": "stdout"
        },
        {
          "output_type": "display_data",
          "data": {
            "text/html": [
              "<progress style='width:60ex' max='1408395' value='1408395'></progress>"
            ],
            "text/plain": [
              "[============================================================] 1408395/1408395"
            ]
          },
          "metadata": {
            "tags": []
          }
        },
        {
          "output_type": "stream",
          "text": [
            "/usr/local/lib/python3.7/dist-packages/ipykernel_launcher.py:10: RuntimeWarning: Mean of empty slice\n",
            "  # Remove the CWD from sys.path while we load stuff.\n"
          ],
          "name": "stderr"
        },
        {
          "output_type": "stream",
          "text": [
            "Completed 1408395/1408395 in 5575.553601ms\n",
            "694 entries have no non-NAN neighbours\n",
            "Task: Counting users and movies\n",
            "Took 264.840199ms\n",
            "Task: Repacking ratings to COO format\n",
            "Took 705.291749ms\n",
            "Task: Repacking ratings to CSR format\n",
            "Took 10377.368373ms\n",
            "Task: Choosing top Q users\n",
            "Took 524.760418ms\n",
            "Task: Computing movie mean ratings\n",
            "Took 704.653678ms\n",
            "Task: Extracting top q ratings\n",
            "Took 72.783198ms\n",
            "Task: Computing distance matrix\n"
          ],
          "name": "stdout"
        },
        {
          "output_type": "display_data",
          "data": {
            "text/html": [
              "<progress style='width:60ex' max='480189' value='480189'></progress>"
            ],
            "text/plain": [
              "[============================================================] 480189/480189"
            ]
          },
          "metadata": {
            "tags": []
          }
        },
        {
          "output_type": "stream",
          "text": [
            "Completed 480189/480189 in 281608.242935ms\n",
            "Took 281609.276885ms\n",
            "Task: Sorting distances\n",
            "Took 2118.981518ms\n"
          ],
          "name": "stdout"
        },
        {
          "output_type": "display_data",
          "data": {
            "text/html": [
              "<progress style='width:60ex' max='1408395' value='1408395'></progress>"
            ],
            "text/plain": [
              "[============================================================] 1408395/1408395"
            ]
          },
          "metadata": {
            "tags": []
          }
        },
        {
          "output_type": "stream",
          "text": [
            "/usr/local/lib/python3.7/dist-packages/ipykernel_launcher.py:10: RuntimeWarning: Mean of empty slice\n",
            "  # Remove the CWD from sys.path while we load stuff.\n"
          ],
          "name": "stderr"
        },
        {
          "output_type": "stream",
          "text": [
            "Completed 1408395/1408395 in 6324.500799ms\n",
            "586 entries have no non-NAN neighbours\n",
            "Task: Counting users and movies\n",
            "Took 269.415363ms\n",
            "Task: Repacking ratings to COO format\n",
            "Took 711.163524ms\n",
            "Task: Repacking ratings to CSR format\n",
            "Took 10360.420965ms\n",
            "Task: Choosing top Q users\n",
            "Took 536.820907ms\n",
            "Task: Computing movie mean ratings\n",
            "Took 700.611996ms\n",
            "Task: Extracting top q ratings\n",
            "Took 73.02666ms\n",
            "Task: Computing distance matrix\n"
          ],
          "name": "stdout"
        },
        {
          "output_type": "display_data",
          "data": {
            "text/html": [
              "<progress style='width:60ex' max='480189' value='480189'></progress>"
            ],
            "text/plain": [
              "[============================================================] 480189/480189"
            ]
          },
          "metadata": {
            "tags": []
          }
        },
        {
          "output_type": "stream",
          "text": [
            "Completed 480189/480189 in 281946.935219ms\n",
            "Took 281948.038218ms\n",
            "Task: Sorting distances\n",
            "Took 2130.690763ms\n"
          ],
          "name": "stdout"
        },
        {
          "output_type": "display_data",
          "data": {
            "text/html": [
              "<progress style='width:60ex' max='1408395' value='1408395'></progress>"
            ],
            "text/plain": [
              "[============================================================] 1408395/1408395"
            ]
          },
          "metadata": {
            "tags": []
          }
        },
        {
          "output_type": "stream",
          "text": [
            "/usr/local/lib/python3.7/dist-packages/ipykernel_launcher.py:10: RuntimeWarning: Mean of empty slice\n",
            "  # Remove the CWD from sys.path while we load stuff.\n"
          ],
          "name": "stderr"
        },
        {
          "output_type": "stream",
          "text": [
            "Completed 1408395/1408395 in 6990.912359ms\n",
            "573 entries have no non-NAN neighbours\n",
            "Task: Counting users and movies\n",
            "Took 276.007563ms\n",
            "Task: Repacking ratings to COO format\n",
            "Took 708.851493ms\n",
            "Task: Repacking ratings to CSR format\n",
            "Took 11417.213592ms\n",
            "Task: Choosing top Q users\n",
            "Took 521.284723ms\n",
            "Task: Computing movie mean ratings\n",
            "Took 693.737455ms\n",
            "Task: Extracting top q ratings\n",
            "Took 75.409715ms\n",
            "Task: Computing distance matrix\n"
          ],
          "name": "stdout"
        },
        {
          "output_type": "display_data",
          "data": {
            "text/html": [
              "<progress style='width:60ex' max='480189' value='480189'></progress>"
            ],
            "text/plain": [
              "[============================================================] 480189/480189"
            ]
          },
          "metadata": {
            "tags": []
          }
        },
        {
          "output_type": "stream",
          "text": [
            "Completed 480189/480189 in 282376.033714ms\n",
            "Took 282376.889229ms\n",
            "Task: Sorting distances\n",
            "Took 2108.971388ms\n"
          ],
          "name": "stdout"
        },
        {
          "output_type": "display_data",
          "data": {
            "text/html": [
              "<progress style='width:60ex' max='1408395' value='1408395'></progress>"
            ],
            "text/plain": [
              "[============================================================] 1408395/1408395"
            ]
          },
          "metadata": {
            "tags": []
          }
        },
        {
          "output_type": "stream",
          "text": [
            "/usr/local/lib/python3.7/dist-packages/ipykernel_launcher.py:10: RuntimeWarning: Mean of empty slice\n",
            "  # Remove the CWD from sys.path while we load stuff.\n"
          ],
          "name": "stderr"
        },
        {
          "output_type": "stream",
          "text": [
            "Completed 1408395/1408395 in 7625.808582ms\n",
            "520 entries have no non-NAN neighbours\n",
            "Task: Counting users and movies\n",
            "Took 414.51041ms\n",
            "Task: Repacking ratings to COO format\n",
            "Took 699.233712ms\n",
            "Task: Repacking ratings to CSR format\n",
            "Took 10708.205897ms\n",
            "Task: Choosing top Q users\n",
            "Took 527.920905ms\n",
            "Task: Computing movie mean ratings\n",
            "Took 698.397809ms\n",
            "Task: Extracting top q ratings\n",
            "Took 72.18866ms\n",
            "Task: Computing distance matrix\n"
          ],
          "name": "stdout"
        },
        {
          "output_type": "display_data",
          "data": {
            "text/html": [
              "<progress style='width:60ex' max='480189' value='480189'></progress>"
            ],
            "text/plain": [
              "[============================================================] 480189/480189"
            ]
          },
          "metadata": {
            "tags": []
          }
        },
        {
          "output_type": "stream",
          "text": [
            "Completed 480189/480189 in 282243.984913ms\n",
            "Took 282245.144449ms\n",
            "Task: Sorting distances\n",
            "Took 2113.568067ms\n"
          ],
          "name": "stdout"
        },
        {
          "output_type": "display_data",
          "data": {
            "text/html": [
              "<progress style='width:60ex' max='1408395' value='1408395'></progress>"
            ],
            "text/plain": [
              "[============================================================] 1408395/1408395"
            ]
          },
          "metadata": {
            "tags": []
          }
        },
        {
          "output_type": "stream",
          "text": [
            "/usr/local/lib/python3.7/dist-packages/ipykernel_launcher.py:10: RuntimeWarning: Mean of empty slice\n",
            "  # Remove the CWD from sys.path while we load stuff.\n"
          ],
          "name": "stderr"
        },
        {
          "output_type": "stream",
          "text": [
            "Completed 1408395/1408395 in 8236.813105ms\n",
            "503 entries have no non-NAN neighbours\n",
            "Task: Counting users and movies\n",
            "Took 267.469217ms\n",
            "Task: Repacking ratings to COO format\n",
            "Took 706.301728ms\n",
            "Task: Repacking ratings to CSR format\n",
            "Took 10697.122042ms\n",
            "Task: Choosing top Q users\n",
            "Took 527.177725ms\n",
            "Task: Computing movie mean ratings\n",
            "Took 695.034615ms\n",
            "Task: Extracting top q ratings\n",
            "Took 73.374249ms\n",
            "Task: Computing distance matrix\n"
          ],
          "name": "stdout"
        },
        {
          "output_type": "display_data",
          "data": {
            "text/html": [
              "<progress style='width:60ex' max='480189' value='480189'></progress>"
            ],
            "text/plain": [
              "[============================================================] 480189/480189"
            ]
          },
          "metadata": {
            "tags": []
          }
        },
        {
          "output_type": "stream",
          "text": [
            "Completed 480189/480189 in 282262.587919ms\n",
            "Took 282263.715854ms\n",
            "Task: Sorting distances\n",
            "Took 2098.278563ms\n"
          ],
          "name": "stdout"
        },
        {
          "output_type": "display_data",
          "data": {
            "text/html": [
              "<progress style='width:60ex' max='1408395' value='1408395'></progress>"
            ],
            "text/plain": [
              "[============================================================] 1408395/1408395"
            ]
          },
          "metadata": {
            "tags": []
          }
        },
        {
          "output_type": "stream",
          "text": [
            "/usr/local/lib/python3.7/dist-packages/ipykernel_launcher.py:10: RuntimeWarning: Mean of empty slice\n",
            "  # Remove the CWD from sys.path while we load stuff.\n"
          ],
          "name": "stderr"
        },
        {
          "output_type": "stream",
          "text": [
            "Completed 1408395/1408395 in 9057.918141ms\n",
            "474 entries have no non-NAN neighbours\n",
            "Task: Counting users and movies\n",
            "Took 270.553269ms\n",
            "Task: Repacking ratings to COO format\n",
            "Took 713.013154ms\n",
            "Task: Repacking ratings to CSR format\n",
            "Took 10666.973531ms\n",
            "Task: Choosing top Q users\n",
            "Took 529.051941ms\n",
            "Task: Computing movie mean ratings\n",
            "Took 701.415367ms\n",
            "Task: Extracting top q ratings\n",
            "Took 72.937834ms\n",
            "Task: Computing distance matrix\n"
          ],
          "name": "stdout"
        },
        {
          "output_type": "display_data",
          "data": {
            "text/html": [
              "<progress style='width:60ex' max='480189' value='480189'></progress>"
            ],
            "text/plain": [
              "[============================================================] 480189/480189"
            ]
          },
          "metadata": {
            "tags": []
          }
        },
        {
          "output_type": "stream",
          "text": [
            "Completed 480189/480189 in 283637.420389ms\n",
            "Took 283639.543745ms\n",
            "Task: Sorting distances\n",
            "Took 2113.109704ms\n"
          ],
          "name": "stdout"
        },
        {
          "output_type": "display_data",
          "data": {
            "text/html": [
              "<progress style='width:60ex' max='1408395' value='1408395'></progress>"
            ],
            "text/plain": [
              "[============================================================] 1408395/1408395"
            ]
          },
          "metadata": {
            "tags": []
          }
        },
        {
          "output_type": "stream",
          "text": [
            "/usr/local/lib/python3.7/dist-packages/ipykernel_launcher.py:10: RuntimeWarning: Mean of empty slice\n",
            "  # Remove the CWD from sys.path while we load stuff.\n"
          ],
          "name": "stderr"
        },
        {
          "output_type": "stream",
          "text": [
            "Completed 1408395/1408395 in 9689.588528ms\n",
            "446 entries have no non-NAN neighbours\n",
            "Task: Counting users and movies\n",
            "Took 393.243503ms\n",
            "Task: Repacking ratings to COO format\n",
            "Took 715.14173ms\n",
            "Task: Repacking ratings to CSR format\n",
            "Took 12868.196687ms\n",
            "Task: Choosing top Q users\n",
            "Took 530.899682ms\n",
            "Task: Computing movie mean ratings\n",
            "Took 694.890764ms\n",
            "Task: Extracting top q ratings\n",
            "Took 72.766373ms\n",
            "Task: Computing distance matrix\n"
          ],
          "name": "stdout"
        },
        {
          "output_type": "display_data",
          "data": {
            "text/html": [
              "<progress style='width:60ex' max='480189' value='480189'></progress>"
            ],
            "text/plain": [
              "[============================================================] 480189/480189"
            ]
          },
          "metadata": {
            "tags": []
          }
        },
        {
          "output_type": "stream",
          "text": [
            "Completed 480189/480189 in 283728.67979ms\n",
            "Took 283729.718253ms\n",
            "Task: Sorting distances\n",
            "Took 2119.23184ms\n"
          ],
          "name": "stdout"
        },
        {
          "output_type": "display_data",
          "data": {
            "text/html": [
              "<progress style='width:60ex' max='1408395' value='1408395'></progress>"
            ],
            "text/plain": [
              "[============================================================] 1408395/1408395"
            ]
          },
          "metadata": {
            "tags": []
          }
        },
        {
          "output_type": "stream",
          "text": [
            "/usr/local/lib/python3.7/dist-packages/ipykernel_launcher.py:10: RuntimeWarning: Mean of empty slice\n",
            "  # Remove the CWD from sys.path while we load stuff.\n"
          ],
          "name": "stderr"
        },
        {
          "output_type": "stream",
          "text": [
            "Completed 1408395/1408395 in 10519.260744ms\n",
            "388 entries have no non-NAN neighbours\n",
            "Task: Counting users and movies\n",
            "Took 271.535165ms\n",
            "Task: Repacking ratings to COO format\n",
            "Took 706.901541ms\n",
            "Task: Repacking ratings to CSR format\n",
            "Took 12262.325905ms\n",
            "Task: Choosing top Q users\n",
            "Took 522.409295ms\n",
            "Task: Computing movie mean ratings\n",
            "Took 709.03265ms\n",
            "Task: Extracting top q ratings\n",
            "Took 71.763392ms\n",
            "Task: Computing distance matrix\n"
          ],
          "name": "stdout"
        },
        {
          "output_type": "display_data",
          "data": {
            "text/html": [
              "<progress style='width:60ex' max='480189' value='480189'></progress>"
            ],
            "text/plain": [
              "[============================================================] 480189/480189"
            ]
          },
          "metadata": {
            "tags": []
          }
        },
        {
          "output_type": "stream",
          "text": [
            "Completed 480189/480189 in 283524.854132ms\n",
            "Took 283526.149105ms\n",
            "Task: Sorting distances\n",
            "Took 2119.3062ms\n"
          ],
          "name": "stdout"
        },
        {
          "output_type": "display_data",
          "data": {
            "text/html": [
              "<progress style='width:60ex' max='1408395' value='1408395'></progress>"
            ],
            "text/plain": [
              "[============================================================] 1408395/1408395"
            ]
          },
          "metadata": {
            "tags": []
          }
        },
        {
          "output_type": "stream",
          "text": [
            "/usr/local/lib/python3.7/dist-packages/ipykernel_launcher.py:10: RuntimeWarning: Mean of empty slice\n",
            "  # Remove the CWD from sys.path while we load stuff.\n"
          ],
          "name": "stderr"
        },
        {
          "output_type": "stream",
          "text": [
            "Completed 1408395/1408395 in 11013.889205ms\n",
            "68 entries have no non-NAN neighbours\n",
            "Task: Counting users and movies\n",
            "Took 270.276015ms\n",
            "Task: Repacking ratings to COO format\n",
            "Took 699.210642ms\n",
            "Task: Repacking ratings to CSR format\n",
            "Took 11756.845545ms\n",
            "Task: Choosing top Q users\n",
            "Took 526.888823ms\n",
            "Task: Computing movie mean ratings\n",
            "Took 704.260772ms\n",
            "Task: Extracting top q ratings\n",
            "Took 74.085271ms\n",
            "Task: Computing distance matrix\n"
          ],
          "name": "stdout"
        },
        {
          "output_type": "display_data",
          "data": {
            "text/html": [
              "<progress style='width:60ex' max='480189' value='480189'></progress>"
            ],
            "text/plain": [
              "[============================================================] 480189/480189"
            ]
          },
          "metadata": {
            "tags": []
          }
        },
        {
          "output_type": "stream",
          "text": [
            "Completed 480189/480189 in 282772.407776ms\n",
            "Took 282774.535168ms\n",
            "Task: Sorting distances\n",
            "Took 2120.812012ms\n"
          ],
          "name": "stdout"
        },
        {
          "output_type": "display_data",
          "data": {
            "text/html": [
              "<progress style='width:60ex' max='1408395' value='1408395'></progress>"
            ],
            "text/plain": [
              "[============================================================] 1408395/1408395"
            ]
          },
          "metadata": {
            "tags": []
          }
        },
        {
          "output_type": "stream",
          "text": [
            "/usr/local/lib/python3.7/dist-packages/ipykernel_launcher.py:10: RuntimeWarning: Mean of empty slice\n",
            "  # Remove the CWD from sys.path while we load stuff.\n"
          ],
          "name": "stderr"
        },
        {
          "output_type": "stream",
          "text": [
            "Completed 1408395/1408395 in 11723.936151ms\n",
            "55 entries have no non-NAN neighbours\n",
            "Task: Counting users and movies\n",
            "Took 265.671932ms\n",
            "Task: Repacking ratings to COO format\n",
            "Took 702.985642ms\n",
            "Task: Repacking ratings to CSR format\n",
            "Took 12829.253482ms\n",
            "Task: Choosing top Q users\n",
            "Took 537.712504ms\n",
            "Task: Computing movie mean ratings\n",
            "Took 694.129348ms\n",
            "Task: Extracting top q ratings\n",
            "Took 75.150367ms\n",
            "Task: Computing distance matrix\n"
          ],
          "name": "stdout"
        },
        {
          "output_type": "display_data",
          "data": {
            "text/html": [
              "<progress style='width:60ex' max='480189' value='480189'></progress>"
            ],
            "text/plain": [
              "[============================================================] 480189/480189"
            ]
          },
          "metadata": {
            "tags": []
          }
        },
        {
          "output_type": "stream",
          "text": [
            "Completed 480189/480189 in 282845.880163ms\n",
            "Took 282847.890357ms\n",
            "Task: Sorting distances\n",
            "Took 2137.902912ms\n"
          ],
          "name": "stdout"
        },
        {
          "output_type": "display_data",
          "data": {
            "text/html": [
              "<progress style='width:60ex' max='1408395' value='1408395'></progress>"
            ],
            "text/plain": [
              "[============================================================] 1408395/1408395"
            ]
          },
          "metadata": {
            "tags": []
          }
        },
        {
          "output_type": "stream",
          "text": [
            "/usr/local/lib/python3.7/dist-packages/ipykernel_launcher.py:10: RuntimeWarning: Mean of empty slice\n",
            "  # Remove the CWD from sys.path while we load stuff.\n"
          ],
          "name": "stderr"
        },
        {
          "output_type": "stream",
          "text": [
            "Completed 1408395/1408395 in 12312.604062ms\n",
            "28 entries have no non-NAN neighbours\n",
            "Task: Counting users and movies\n",
            "Took 1292.796045ms\n",
            "Task: Repacking ratings to COO format\n",
            "Took 719.584157ms\n",
            "Task: Repacking ratings to CSR format\n",
            "Took 11395.121405ms\n",
            "Task: Choosing top Q users\n",
            "Took 529.438199ms\n",
            "Task: Computing movie mean ratings\n",
            "Took 698.796116ms\n",
            "Task: Extracting top q ratings\n",
            "Took 71.533775ms\n",
            "Task: Computing distance matrix\n"
          ],
          "name": "stdout"
        },
        {
          "output_type": "display_data",
          "data": {
            "text/html": [
              "<progress style='width:60ex' max='480189' value='480189'></progress>"
            ],
            "text/plain": [
              "[============================================================] 480189/480189"
            ]
          },
          "metadata": {
            "tags": []
          }
        },
        {
          "output_type": "stream",
          "text": [
            "Completed 480189/480189 in 282633.738466ms\n",
            "Took 282635.124274ms\n",
            "Task: Sorting distances\n",
            "Took 2133.196413ms\n"
          ],
          "name": "stdout"
        },
        {
          "output_type": "display_data",
          "data": {
            "text/html": [
              "<progress style='width:60ex' max='1408395' value='1408395'></progress>"
            ],
            "text/plain": [
              "[============================================================] 1408395/1408395"
            ]
          },
          "metadata": {
            "tags": []
          }
        },
        {
          "output_type": "stream",
          "text": [
            "/usr/local/lib/python3.7/dist-packages/ipykernel_launcher.py:10: RuntimeWarning: Mean of empty slice\n",
            "  # Remove the CWD from sys.path while we load stuff.\n"
          ],
          "name": "stderr"
        },
        {
          "output_type": "stream",
          "text": [
            "Completed 1408395/1408395 in 12904.277548ms\n",
            "7 entries have no non-NAN neighbours\n",
            "Task: Counting users and movies\n",
            "Took 288.153397ms\n",
            "Task: Repacking ratings to COO format\n",
            "Took 707.867525ms\n",
            "Task: Repacking ratings to CSR format\n",
            "Took 11115.433186ms\n",
            "Task: Choosing top Q users\n",
            "Took 525.367261ms\n",
            "Task: Computing movie mean ratings\n",
            "Took 697.993017ms\n",
            "Task: Extracting top q ratings\n",
            "Took 71.859629ms\n",
            "Task: Computing distance matrix\n"
          ],
          "name": "stdout"
        },
        {
          "output_type": "display_data",
          "data": {
            "text/html": [
              "<progress style='width:60ex' max='480189' value='480189'></progress>"
            ],
            "text/plain": [
              "[============================================================] 480189/480189"
            ]
          },
          "metadata": {
            "tags": []
          }
        },
        {
          "output_type": "stream",
          "text": [
            "Completed 480189/480189 in 282207.823847ms\n",
            "Took 282209.762117ms\n",
            "Task: Sorting distances\n",
            "Took 2114.296436ms\n"
          ],
          "name": "stdout"
        },
        {
          "output_type": "display_data",
          "data": {
            "text/html": [
              "<progress style='width:60ex' max='1408395' value='1408395'></progress>"
            ],
            "text/plain": [
              "[============================================================] 1408395/1408395"
            ]
          },
          "metadata": {
            "tags": []
          }
        },
        {
          "output_type": "stream",
          "text": [
            "/usr/local/lib/python3.7/dist-packages/ipykernel_launcher.py:10: RuntimeWarning: Mean of empty slice\n",
            "  # Remove the CWD from sys.path while we load stuff.\n"
          ],
          "name": "stderr"
        },
        {
          "output_type": "stream",
          "text": [
            "Completed 1408395/1408395 in 13819.789732ms\n",
            "7 entries have no non-NAN neighbours\n",
            "Task: Counting users and movies\n",
            "Took 298.844775ms\n",
            "Task: Repacking ratings to COO format\n",
            "Took 715.666351ms\n",
            "Task: Repacking ratings to CSR format\n",
            "Took 12063.455667ms\n",
            "Task: Choosing top Q users\n",
            "Took 538.061796ms\n",
            "Task: Computing movie mean ratings\n",
            "Took 698.983366ms\n",
            "Task: Extracting top q ratings\n",
            "Took 77.136703ms\n",
            "Task: Computing distance matrix\n"
          ],
          "name": "stdout"
        },
        {
          "output_type": "display_data",
          "data": {
            "text/html": [
              "<progress style='width:60ex' max='480189' value='480189'></progress>"
            ],
            "text/plain": [
              "[============================================================] 480189/480189"
            ]
          },
          "metadata": {
            "tags": []
          }
        },
        {
          "output_type": "stream",
          "text": [
            "Completed 480189/480189 in 284513.813587ms\n",
            "Took 284514.863704ms\n",
            "Task: Sorting distances\n",
            "Took 2140.313656ms\n"
          ],
          "name": "stdout"
        },
        {
          "output_type": "display_data",
          "data": {
            "text/html": [
              "<progress style='width:60ex' max='1408395' value='1408395'></progress>"
            ],
            "text/plain": [
              "[============================================================] 1408395/1408395"
            ]
          },
          "metadata": {
            "tags": []
          }
        },
        {
          "output_type": "stream",
          "text": [
            "/usr/local/lib/python3.7/dist-packages/ipykernel_launcher.py:10: RuntimeWarning: Mean of empty slice\n",
            "  # Remove the CWD from sys.path while we load stuff.\n"
          ],
          "name": "stderr"
        },
        {
          "output_type": "stream",
          "text": [
            "Completed 1408395/1408395 in 14446.812076ms\n",
            "6 entries have no non-NAN neighbours\n",
            "Task: Counting users and movies\n",
            "Took 951.095531ms\n",
            "Task: Repacking ratings to COO format\n",
            "Took 713.27132ms\n",
            "Task: Repacking ratings to CSR format\n",
            "Took 11701.145299ms\n",
            "Task: Choosing top Q users\n",
            "Took 522.799431ms\n",
            "Task: Computing movie mean ratings\n",
            "Took 689.649939ms\n",
            "Task: Extracting top q ratings\n",
            "Took 72.061489ms\n",
            "Task: Computing distance matrix\n"
          ],
          "name": "stdout"
        },
        {
          "output_type": "display_data",
          "data": {
            "text/html": [
              "<progress style='width:60ex' max='480189' value='480189'></progress>"
            ],
            "text/plain": [
              "[============================================================] 480189/480189"
            ]
          },
          "metadata": {
            "tags": []
          }
        },
        {
          "output_type": "stream",
          "text": [
            "Completed 480189/480189 in 281592.908539ms\n",
            "Took 281594.050682ms\n",
            "Task: Sorting distances\n",
            "Took 2118.142289ms\n"
          ],
          "name": "stdout"
        },
        {
          "output_type": "display_data",
          "data": {
            "text/html": [
              "<progress style='width:60ex' max='1408395' value='1408395'></progress>"
            ],
            "text/plain": [
              "[============================================================] 1408395/1408395"
            ]
          },
          "metadata": {
            "tags": []
          }
        },
        {
          "output_type": "stream",
          "text": [
            "/usr/local/lib/python3.7/dist-packages/ipykernel_launcher.py:10: RuntimeWarning: Mean of empty slice\n",
            "  # Remove the CWD from sys.path while we load stuff.\n"
          ],
          "name": "stderr"
        },
        {
          "output_type": "stream",
          "text": [
            "Completed 1408395/1408395 in 15499.415526ms\n",
            "6 entries have no non-NAN neighbours\n",
            "Task: Counting users and movies\n",
            "Took 369.158735ms\n",
            "Task: Repacking ratings to COO format\n",
            "Took 718.135975ms\n",
            "Task: Repacking ratings to CSR format\n",
            "Took 12211.908667ms\n",
            "Task: Choosing top Q users\n",
            "Took 530.244729ms\n",
            "Task: Computing movie mean ratings\n",
            "Took 704.672565ms\n",
            "Task: Extracting top q ratings\n",
            "Took 72.714876ms\n",
            "Task: Computing distance matrix\n"
          ],
          "name": "stdout"
        },
        {
          "output_type": "display_data",
          "data": {
            "text/html": [
              "<progress style='width:60ex' max='480189' value='480189'></progress>"
            ],
            "text/plain": [
              "[============================================================] 480189/480189"
            ]
          },
          "metadata": {
            "tags": []
          }
        },
        {
          "output_type": "stream",
          "text": [
            "Completed 480189/480189 in 283714.513229ms\n",
            "Took 283715.58523ms\n",
            "Task: Sorting distances\n",
            "Took 2120.59696ms\n"
          ],
          "name": "stdout"
        },
        {
          "output_type": "display_data",
          "data": {
            "text/html": [
              "<progress style='width:60ex' max='1408395' value='1408395'></progress>"
            ],
            "text/plain": [
              "[============================================================] 1408395/1408395"
            ]
          },
          "metadata": {
            "tags": []
          }
        },
        {
          "output_type": "stream",
          "text": [
            "/usr/local/lib/python3.7/dist-packages/ipykernel_launcher.py:10: RuntimeWarning: Mean of empty slice\n",
            "  # Remove the CWD from sys.path while we load stuff.\n"
          ],
          "name": "stderr"
        },
        {
          "output_type": "stream",
          "text": [
            "Completed 1408395/1408395 in 15524.168412ms\n",
            "6 entries have no non-NAN neighbours\n"
          ],
          "name": "stdout"
        }
      ]
    },
    {
      "cell_type": "code",
      "metadata": {
        "id": "ltgrMsBqfOJi",
        "colab": {
          "base_uri": "https://localhost:8080/"
        },
        "outputId": "40362c97-b231-480c-ffa8-9a46b3842be2"
      },
      "source": [
        "print(rmse_q400)"
      ],
      "execution_count": null,
      "outputs": [
        {
          "output_type": "stream",
          "text": [
            "[1.433590870102874, 1.2435172900361502, 1.1940331027321116, 1.1825383536026703, 1.1745982573006954, 1.1683504929113735, 1.156811907488939, 1.1551567372936684, 1.1495411500416959, 1.1455476181774291, 1.1528535725494062, 1.158229238360067, 1.1627607272889398, 1.1564238000756273, 1.1663871323491555, 1.1641582974200089, 1.1632882048025546, 1.1607840375553615, 1.1585566350665832, 1.1578543673898085, 1.1592108635844491]\n"
          ],
          "name": "stdout"
        }
      ]
    },
    {
      "cell_type": "markdown",
      "metadata": {
        "id": "tZad_I0I2VUH"
      },
      "source": [
        "## Plot for RMSE"
      ]
    },
    {
      "cell_type": "code",
      "metadata": {
        "id": "LzhVjwjX2QGV"
      },
      "source": [
        "# plot\n",
        "# Since the training requires a long period of time, several google colab have been opened for training for each. Here is the collection of the resuit in list form\n",
        "\n",
        "b1024_q50 = [1.6391911090678126,1.3290757293832074, 1.229060916237895,1.2261753857708095, 1.1882200178770508, 1.215842018139431, 1.2386128807610244]\n",
        "\n",
        "b1024_q100 = [1.5647302569277624, 1.3260066653156044, 1.27198415759572, 1.2292377468016062, 1.2366169509844283, 1.2215330568310059]\n",
        "b256_q100 = [1.5647302569277624, 1.3260066653156044, 1.27198415759572, 1.2292377468016062, 1.2366169509844283, 1.2215330568310059]\n",
        "b526_q100 = [1.5647302569277624, 1.3260066653156044, 1.27198415759572, 1.2292377468016062, 1.2366169509844283, 1.2215330568310059]\n",
        "\n",
        "b1024_q200 = [1.4445087149858504, 1.334292225065238, 1.2281310210295484, 1.1990614168758105, 1.194342770805917, 1.172909858836841, 1.1591807085419106, 1.186584171075952, 1.186277799028361, 1.1876403254525656, 1.1910147135435265]\n",
        "b526_q200 = [1.4445087149858504, 1.334292225065238, 1.2281310210295484, 1.1990614168758105, 1.194342770805917, 1.172909858836841, 1.1591807085419106, 1.186584171075952, 1.186277799028361, 1.1876403254525656, 1.1910147135435265]\n",
        "\n",
        "b1024_q300 = [1.404534079770204, 1.2823973117635439, 1.247372393289325, 1.1959231786321178, 1.189881280446423, 1.177705262948518, 1.167758882780713, 1.1527838530728955, 1.1542050113909228, 1.1678293427312367, 1.1662597354720212, 1.1769096906557126, 1.174123219198517, 1.1700075927386806, 1.1690441575089083, 1.1702632616032251]\n",
        "b526_q300 = [1.404534079770204, 1.2823973117635439, 1.247372393289325, 1.1959231786321178, 1.189881280446423, 1.177705262948518, 1.167758882780713, 1.1527838530728955, 1.1542050113909228, 1.1678293427312367, 1.1662597354720212, 1.1769096906557126, 1.174123219198517, 1.1700075927386806, 1.1690441575089083, 1.1702632616032251]\n",
        "\n",
        "b1024_q400 = [1.433590870102874, 1.2435172900361502, 1.1940331027321116, 1.1825383536026703, 1.1745982573006954, 1.1683504929113735, 1.156811907488939, 1.1551567372936684, 1.1495411500416959, 1.1455476181774291, 1.1528535725494062, 1.158229238360067, 1.1627607272889398, 1.1564238000756273, 1.1663871323491555, 1.1641582974200089, 1.1632882048025546, 1.1607840375553615, 1.1585566350665832, 1.1578543673898085, 1.1592108635844491]\n",
        "b_526_q400 = [1.433590870102874, 1.2435172900361502, 1.1940331027321116, 1.1825383536026703, 1.1745982573006954, 1.1683504929113735, 1.156811907488939, 1.1551567372936684, 1.1495411500416959, 1.1455476181774291, 1.1528535725494062, 1.158229238360067, 1.1627607272889398, 1.1564238000756273, 1.1663871323491555, 1.1641582974200089, 1.1632882048025546, 1.1607840375553615, 1.1585566350665832, 1.1578543673898085, 1.1592108635844491]\n",
        "\n",
        "b_q500 = [1.5647302569277624,1.2700443654251998,1.2215330568310059,1.2215330568310059,1.2215330568310059,1.2215330568310059,1.2215330568310059]"
      ],
      "execution_count": 2,
      "outputs": []
    },
    {
      "cell_type": "code",
      "metadata": {
        "colab": {
          "base_uri": "https://localhost:8080/",
          "height": 329
        },
        "id": "MRLvgaRM2kpL",
        "outputId": "74b07e59-b5df-460b-a7d6-0fa5641ccde2"
      },
      "source": [
        "# plot directly with K and Q values\n",
        "import matplotlib.pyplot as plt\n",
        "plt.figure()\n",
        "fig, ax = plt.subplots() \n",
        "ax.plot([5,10,20,25,30,40,50],b1024_q50, label = \"Q = 50\")\n",
        "ax.plot([10,30,50,70,90,100],b1024_q100, label = \"Q = 100\")\n",
        "ax.plot([10,30,50,70,90,110,130,150,170,190,200],b1024_q200, label = \"Q = 200\")\n",
        "ax.plot([10,30,50,70,90,110,130,150,170,190,210,230,250,270,290,300],b1024_q300, label = \"Q = 300\")\n",
        "ax.plot([10,30,50,70,90,110,130,150,170,190,210,230,250,270,290,310,330,350,370,390,400],b1024_q400, label = \"Q = 400\")\n",
        "ax.plot([10,60,110,250,290,340,460],b_q500, label = \"Q = 500\")\n",
        "plt.xlabel(\"Size of K\")\n",
        "plt.ylabel(\"RMSE\")\n",
        "plt.title(\"RMSE value for batch size = 1024\")\n",
        "plt.legend()\n"
      ],
      "execution_count": 3,
      "outputs": [
        {
          "output_type": "execute_result",
          "data": {
            "text/plain": [
              "<matplotlib.legend.Legend at 0x7f56af971990>"
            ]
          },
          "metadata": {
            "tags": []
          },
          "execution_count": 3
        },
        {
          "output_type": "display_data",
          "data": {
            "text/plain": [
              "<Figure size 432x288 with 0 Axes>"
            ]
          },
          "metadata": {
            "tags": []
          }
        },
        {
          "output_type": "display_data",
          "data": {
            "image/png": "[encoded data removed]",
            "text/plain": [
              "<Figure size 432x288 with 1 Axes>"
            ]
          },
          "metadata": {
            "tags": [],
            "needs_background": "light"
          }
        }
      ]
    },
    {
      "cell_type": "code",
      "metadata": {
        "colab": {
          "base_uri": "https://localhost:8080/",
          "height": 329
        },
        "id": "4Ke6ei3D2nNR",
        "outputId": "1fe2d9a5-a7a1-48bf-faa2-f95658fea3eb"
      },
      "source": [
        "# calculate the ratio of K/Q for better interpretation\n",
        "\n",
        "def ratio_func(rmselist,num):\n",
        "  ratio = []\n",
        "  for i in rmselist:  \n",
        "    ratio.append(i/num)\n",
        "  return ratio  \n",
        "\n",
        "ratio_50 = ratio_func([5,10,20,25,30,40,50],50)\n",
        "ratio_100 = ratio_func([10,30,50,70,90,100],100)\n",
        "ratio_200 = ratio_func([10,30,50,70,90,110,130,150,170,190,200],200)\n",
        "ratio_300 = ratio_func([10,30,50,70,90,110,130,150,170,190,210,230,250,270,290,300],300)\n",
        "ratio_400 = ratio_func([10,30,50,70,90,110,130,150,170,190,210,230,250,270,290,310,330,350,370,390,400],400)\n",
        "ratio_500 = ratio_func([10,60,110,250,290,340,460],500)\n",
        "\n",
        "import matplotlib.pyplot as plt\n",
        "plt.figure()\n",
        "fig, ax = plt.subplots() \n",
        "ax.plot(ratio_50,b1024_q50, label = \"Q = 50\")\n",
        "ax.plot(ratio_100,b1024_q100, label = \"Q = 100\")\n",
        "ax.plot(ratio_200,b1024_q200, label = \"Q = 200\")\n",
        "ax.plot(ratio_300,b1024_q300, label = \"Q = 300\")\n",
        "ax.plot(ratio_400,b1024_q400, label = \"Q = 400\")\n",
        "ax.plot(ratio_500,b_q500, label = \"Q = 500\")\n",
        "plt.xlabel(\"Ratio of K and Q (K/Q)\")\n",
        "plt.ylabel(\"RMSE\")\n",
        "plt.title(\"RMSE value\")\n",
        "plt.legend()\n"
      ],
      "execution_count": 4,
      "outputs": [
        {
          "output_type": "execute_result",
          "data": {
            "text/plain": [
              "<matplotlib.legend.Legend at 0x7f56a98c1590>"
            ]
          },
          "metadata": {
            "tags": []
          },
          "execution_count": 4
        },
        {
          "output_type": "display_data",
          "data": {
            "text/plain": [
              "<Figure size 432x288 with 0 Axes>"
            ]
          },
          "metadata": {
            "tags": []
          }
        },
        {
          "output_type": "display_data",
          "data": {
            "image/png": "[encoded data removed]",
            "text/plain": [
              "<Figure size 432x288 with 1 Axes>"
            ]
          },
          "metadata": {
            "tags": [],
            "needs_background": "light"
          }
        }
      ]
    }
  ]
}