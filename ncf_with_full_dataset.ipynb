{
  "nbformat": 4,
  "nbformat_minor": 0,
  "metadata": {
    "colab": {
      "name": "ncf-with-full-dataset.ipynb",
      "provenance": [],
      "collapsed_sections": []
    },
    "kernelspec": {
      "name": "python3",
      "display_name": "Python 3"
    },
    "language_info": {
      "name": "python"
    },
    "accelerator": "GPU"
  },
  "cells": [
    {
      "cell_type": "code",
      "metadata": {
        "id": "1RkbyuJIe3sW"
      },
      "source": [
        "import datetime\n",
        "import gc\n",
        "import random\n",
        "import time\n",
        "\n",
        "import numpy\n",
        "import pandas\n",
        "import scipy\n",
        "import matplotlib.pyplot as plt\n",
        "import IPython.display as disp\n",
        "\n",
        "class Progress:\n",
        "    \"\"\"Wrapper for IPython.display.ProgressBar with improved performance\"\"\"\n",
        "\n",
        "    def __init__(self, total):\n",
        "        self.bar = disp.ProgressBar(total)\n",
        "        self.progress = 0\n",
        "        self.last = 0\n",
        "    def inc(self):\n",
        "        self.progress += 1\n",
        "        if time.monotonic_ns() - self.last > 1e8:\n",
        "            self.bar.progress = self.progress\n",
        "            self.bar.update()\n",
        "            self.last = time.monotonic_ns()\n",
        "    def __enter__(self):\n",
        "        return self\n",
        "    def __exit__(self, exc_type, exc_value, tb):\n",
        "        self.bar.progress = self.progress\n",
        "        self.bar.update()\n",
        "        return False"
      ],
      "execution_count": 1,
      "outputs": []
    },
    {
      "cell_type": "code",
      "metadata": {
        "colab": {
          "base_uri": "https://localhost:8080/"
        },
        "id": "jS2W0QjAe_oA",
        "outputId": "b40b5e92-d39e-421f-e07e-4ce38998edd1"
      },
      "source": [
        "from google.colab import drive\n",
        "drive.mount('/content/drive')"
      ],
      "execution_count": 2,
      "outputs": [
        {
          "output_type": "stream",
          "text": [
            "Mounted at /content/drive\n"
          ],
          "name": "stdout"
        }
      ]
    },
    {
      "cell_type": "code",
      "metadata": {
        "colab": {
          "base_uri": "https://localhost:8080/"
        },
        "id": "zZbIGjpFfBZ7",
        "outputId": "8f4cc0a0-0fd2-46aa-c53e-41b306cbd241"
      },
      "source": [
        "!test -d dataset || unzip /content/drive/Shareddrives/'STAT4609 Netflix'/dataset.zip -d dataset"
      ],
      "execution_count": 3,
      "outputs": [
        {
          "output_type": "stream",
          "text": [
            "Archive:  /content/drive/Shareddrives/STAT4609 Netflix/dataset.zip\n",
            "  inflating: dataset/README          \n",
            "  inflating: dataset/combined_data_1.txt  \n",
            "  inflating: dataset/combined_data_2.txt  \n",
            "  inflating: dataset/combined_data_3.txt  \n",
            "  inflating: dataset/combined_data_4.txt  \n",
            "  inflating: dataset/movie_titles.csv  \n",
            "  inflating: dataset/probe.txt       \n",
            "  inflating: dataset/qualifying.txt  \n"
          ],
          "name": "stdout"
        }
      ]
    },
    {
      "cell_type": "code",
      "metadata": {
        "colab": {
          "base_uri": "https://localhost:8080/"
        },
        "id": "gyOgdD8qfHZl",
        "outputId": "547ad9ea-a827-4176-92eb-9fe19a5499f9"
      },
      "source": [
        "!cp /content/drive/Shareddrives/'STAT4609 Netflix'/preprocess-dataset /usr/local/bin\n",
        "!chmod +x /usr/local/bin/preprocess-dataset\n",
        "!test -f dataset/output.npy || (cd dataset && preprocess-dataset)"
      ],
      "execution_count": 4,
      "outputs": [
        {
          "output_type": "stream",
          "text": [
            "Read 1000000 lines of probe\n",
            "Read 1000000 lines\n",
            "Read 2000000 lines\n",
            "Read 3000000 lines\n",
            "Read 4000000 lines\n",
            "Read 5000000 lines\n",
            "Read 6000000 lines\n",
            "Read 7000000 lines\n",
            "Read 8000000 lines\n",
            "Read 9000000 lines\n",
            "Read 10000000 lines\n",
            "Read 11000000 lines\n",
            "Read 12000000 lines\n",
            "Read 13000000 lines\n",
            "Read 14000000 lines\n",
            "Read 15000000 lines\n",
            "Read 16000000 lines\n",
            "Read 17000000 lines\n",
            "Read 18000000 lines\n",
            "Read 19000000 lines\n",
            "Read 20000000 lines\n",
            "Read 21000000 lines\n",
            "Read 22000000 lines\n",
            "Read 23000000 lines\n",
            "Read 24000000 lines\n",
            "Empty line!\n",
            "Read 25000000 lines\n",
            "Read 26000000 lines\n",
            "Read 27000000 lines\n",
            "Read 28000000 lines\n",
            "Read 29000000 lines\n",
            "Read 30000000 lines\n",
            "Read 31000000 lines\n",
            "Read 32000000 lines\n",
            "Read 33000000 lines\n",
            "tcmalloc: large alloc 1879048192 bytes == 0x558debcf4000 @  0x7f1bbde212a4 0x558d77ece120 0x558d77ece265 0x558d77eccf2a 0x558d77ecb5de 0x558d77ecd956 0x558d77ecd96c 0x558d77ee830a 0x558d77ecd855 0x7f1bbd3e2bf7 0x558d77ec9e3e\n",
            "Read 34000000 lines\n",
            "Read 35000000 lines\n",
            "Read 36000000 lines\n",
            "Read 37000000 lines\n",
            "Read 38000000 lines\n",
            "Read 39000000 lines\n",
            "Read 40000000 lines\n",
            "Read 41000000 lines\n",
            "Read 42000000 lines\n",
            "Read 43000000 lines\n",
            "Read 44000000 lines\n",
            "Read 45000000 lines\n",
            "Read 46000000 lines\n",
            "Read 47000000 lines\n",
            "Read 48000000 lines\n",
            "Read 49000000 lines\n",
            "Read 50000000 lines\n",
            "Read 51000000 lines\n",
            "Empty line!\n",
            "Read 52000000 lines\n",
            "Read 53000000 lines\n",
            "Read 54000000 lines\n",
            "Read 55000000 lines\n",
            "Read 56000000 lines\n",
            "Read 57000000 lines\n",
            "Read 58000000 lines\n",
            "Read 59000000 lines\n",
            "Read 60000000 lines\n",
            "Read 61000000 lines\n",
            "Read 62000000 lines\n",
            "Read 63000000 lines\n",
            "Read 64000000 lines\n",
            "Read 65000000 lines\n",
            "Read 66000000 lines\n",
            "Read 67000000 lines\n",
            "tcmalloc: large alloc 3758096384 bytes == 0x558e5bcf4000 @  0x7f1bbde212a4 0x558d77ece120 0x558d77ece265 0x558d77eccf2a 0x558d77ecb698 0x558d77ecd956 0x558d77ecd96c 0x558d77ee830a 0x558d77ecd855 0x7f1bbd3e2bf7 0x558d77ec9e3e\n",
            "Read 68000000 lines\n",
            "Read 69000000 lines\n",
            "Read 70000000 lines\n",
            "Read 71000000 lines\n",
            "Read 72000000 lines\n",
            "Read 73000000 lines\n",
            "Empty line!\n",
            "Read 74000000 lines\n",
            "Read 75000000 lines\n",
            "Read 76000000 lines\n",
            "Read 77000000 lines\n",
            "Read 78000000 lines\n",
            "Read 79000000 lines\n",
            "Read 80000000 lines\n",
            "Read 81000000 lines\n",
            "Read 82000000 lines\n",
            "Read 83000000 lines\n",
            "Read 84000000 lines\n",
            "Read 85000000 lines\n",
            "Read 86000000 lines\n",
            "Read 87000000 lines\n",
            "Read 88000000 lines\n",
            "Read 89000000 lines\n",
            "Read 90000000 lines\n",
            "Read 91000000 lines\n",
            "Read 92000000 lines\n",
            "Read 93000000 lines\n",
            "Read 94000000 lines\n",
            "Read 95000000 lines\n",
            "Read 96000000 lines\n",
            "Read 97000000 lines\n",
            "Read 98000000 lines\n",
            "Read 99000000 lines\n",
            "Read 100000000 lines\n",
            "Empty line!\n",
            "Wrote 1000000 lines\n",
            "Wrote 2000000 lines\n",
            "Wrote 3000000 lines\n",
            "Wrote 4000000 lines\n",
            "Wrote 5000000 lines\n",
            "Wrote 6000000 lines\n",
            "Wrote 7000000 lines\n",
            "Wrote 8000000 lines\n",
            "Wrote 9000000 lines\n",
            "Wrote 10000000 lines\n",
            "Wrote 11000000 lines\n",
            "Wrote 12000000 lines\n",
            "Wrote 13000000 lines\n",
            "Wrote 14000000 lines\n",
            "Wrote 15000000 lines\n",
            "Wrote 16000000 lines\n",
            "Wrote 17000000 lines\n",
            "Wrote 18000000 lines\n",
            "Wrote 19000000 lines\n",
            "Wrote 20000000 lines\n",
            "Wrote 21000000 lines\n",
            "Wrote 22000000 lines\n",
            "Wrote 23000000 lines\n",
            "Wrote 24000000 lines\n",
            "Wrote 25000000 lines\n",
            "Wrote 26000000 lines\n",
            "Wrote 27000000 lines\n",
            "Wrote 28000000 lines\n",
            "Wrote 29000000 lines\n",
            "Wrote 30000000 lines\n",
            "Wrote 31000000 lines\n",
            "Wrote 32000000 lines\n",
            "Wrote 33000000 lines\n",
            "Wrote 34000000 lines\n",
            "Wrote 35000000 lines\n",
            "Wrote 36000000 lines\n",
            "Wrote 37000000 lines\n",
            "Wrote 38000000 lines\n",
            "Wrote 39000000 lines\n",
            "Wrote 40000000 lines\n",
            "Wrote 41000000 lines\n",
            "Wrote 42000000 lines\n",
            "Wrote 43000000 lines\n",
            "Wrote 44000000 lines\n",
            "Wrote 45000000 lines\n",
            "Wrote 46000000 lines\n",
            "Wrote 47000000 lines\n",
            "Wrote 48000000 lines\n",
            "Wrote 49000000 lines\n",
            "Wrote 50000000 lines\n",
            "Wrote 51000000 lines\n",
            "Wrote 52000000 lines\n",
            "Wrote 53000000 lines\n",
            "Wrote 54000000 lines\n",
            "Wrote 55000000 lines\n",
            "Wrote 56000000 lines\n",
            "Wrote 57000000 lines\n",
            "Wrote 58000000 lines\n",
            "Wrote 59000000 lines\n",
            "Wrote 60000000 lines\n",
            "Wrote 61000000 lines\n",
            "Wrote 62000000 lines\n",
            "Wrote 63000000 lines\n",
            "Wrote 64000000 lines\n",
            "Wrote 65000000 lines\n",
            "Wrote 66000000 lines\n",
            "Wrote 67000000 lines\n",
            "Wrote 68000000 lines\n",
            "Wrote 69000000 lines\n",
            "Wrote 70000000 lines\n",
            "Wrote 71000000 lines\n",
            "Wrote 72000000 lines\n",
            "Wrote 73000000 lines\n",
            "Wrote 74000000 lines\n",
            "Wrote 75000000 lines\n",
            "Wrote 76000000 lines\n",
            "Wrote 77000000 lines\n",
            "Wrote 78000000 lines\n",
            "Wrote 79000000 lines\n",
            "Wrote 80000000 lines\n",
            "Wrote 81000000 lines\n",
            "Wrote 82000000 lines\n",
            "Wrote 83000000 lines\n",
            "Wrote 84000000 lines\n",
            "Wrote 85000000 lines\n",
            "Wrote 86000000 lines\n",
            "Wrote 87000000 lines\n",
            "Wrote 88000000 lines\n",
            "Wrote 89000000 lines\n",
            "Wrote 90000000 lines\n",
            "Wrote 91000000 lines\n",
            "Wrote 92000000 lines\n",
            "Wrote 93000000 lines\n",
            "Wrote 94000000 lines\n",
            "Wrote 95000000 lines\n",
            "Wrote 96000000 lines\n",
            "Wrote 97000000 lines\n",
            "Wrote 98000000 lines\n",
            "Wrote 99000000 lines\n",
            "Wrote 100000000 lines\n"
          ],
          "name": "stdout"
        }
      ]
    },
    {
      "cell_type": "code",
      "metadata": {
        "colab": {
          "base_uri": "https://localhost:8080/"
        },
        "id": "jdqo8oKkfJKT",
        "outputId": "50ecfee7-719f-495d-8671-27d70f216b6b"
      },
      "source": [
        "print(\"Loading data...\")\n",
        "data = numpy.load(\"dataset/output.npy\")\n",
        "data_size = data.shape[0]\n",
        "\n",
        "data = data[data[:, 0] < 100000, :]\n",
        "\n",
        "print(\"Counting users and movies\")\n",
        "user_count = numpy.max(data[:, 0]) + 1\n",
        "movie_count = numpy.max(data[:, 1]) + 1"
      ],
      "execution_count": 5,
      "outputs": [
        {
          "output_type": "stream",
          "text": [
            "Loading data...\n",
            "Counting users and movies\n"
          ],
          "name": "stdout"
        }
      ]
    },
    {
      "cell_type": "code",
      "metadata": {
        "colab": {
          "base_uri": "https://localhost:8080/"
        },
        "id": "3LR7HEwwfKbs",
        "outputId": "7f16dae6-e45c-4f85-d887-6bba633f618d"
      },
      "source": [
        "import numpy as np\n",
        "np.set_printoptions(suppress=True)\n",
        "print(data)"
      ],
      "execution_count": 6,
      "outputs": [
        {
          "output_type": "stream",
          "text": [
            "[[    0     0     3 ...   248     1     0]\n",
            " [    1     0     5 ...   132     4     0]\n",
            " [    2     0     4 ...   291     2     0]\n",
            " ...\n",
            " [29251  8196     1 ...   219     5     0]\n",
            " [22793  8196     4 ...   148     4     0]\n",
            " [76269  8196     2 ...    68     3     0]]\n"
          ],
          "name": "stdout"
        }
      ]
    },
    {
      "cell_type": "code",
      "metadata": {
        "colab": {
          "base_uri": "https://localhost:8080/"
        },
        "id": "LCl4r29TfLd5",
        "outputId": "c5316e2f-2656-4b1b-8312-bf06cde5bb2e"
      },
      "source": [
        "train = data[data[:, 6] == 0, :3].copy()\n",
        "evaluation = data[data[:, 6] == 1, :3].copy()\n",
        "\n",
        "del data\n",
        "gc.collect()\n",
        "\n",
        "print(f\"Train/test split: {train.shape[0]}/{evaluation.shape[0]}\")"
      ],
      "execution_count": 7,
      "outputs": [
        {
          "output_type": "stream",
          "text": [
            "Train/test split: 47676921/301977\n"
          ],
          "name": "stdout"
        }
      ]
    },
    {
      "cell_type": "markdown",
      "metadata": {
        "id": "J7VakZXRgEOi"
      },
      "source": [
        "Model"
      ]
    },
    {
      "cell_type": "code",
      "metadata": {
        "id": "AIybUKZKfM9I"
      },
      "source": [
        "from __future__ import print_function\n",
        "import matplotlib.pyplot as plt\n",
        "\n",
        "import torch"
      ],
      "execution_count": 8,
      "outputs": []
    },
    {
      "cell_type": "code",
      "metadata": {
        "colab": {
          "base_uri": "https://localhost:8080/"
        },
        "id": "DhS9v3EDfOLF",
        "outputId": "803f8b9f-9993-40c8-90c6-bb6ed7bbf0f3"
      },
      "source": [
        "# Training settings\n",
        "batch_size = 6400\n",
        "test_batch_size = 1000\n",
        "epochs = 5\n",
        "lr = 1.0\n",
        "gamma = 0.7\n",
        "seed = 1\n",
        "log_interval = 120\n",
        "save_model = True\n",
        "use_cuda = torch.cuda.is_available()\n",
        "torch.manual_seed(seed)\n",
        "device = torch.device(\"cuda\" if use_cuda else \"cpu\")\n",
        "print(device)"
      ],
      "execution_count": 9,
      "outputs": [
        {
          "output_type": "stream",
          "text": [
            "cuda\n"
          ],
          "name": "stdout"
        }
      ]
    },
    {
      "cell_type": "code",
      "metadata": {
        "id": "o8R94eEMgGak"
      },
      "source": [
        "import torch.nn as nn\n",
        "import torch.nn.functional as F\n",
        "\n",
        "class GMF(torch.nn.Module):\n",
        "    def __init__(self, user_size, movie_size, hidden_size):\n",
        "        super(GMF, self).__init__()\n",
        "        self.user_size = user_size\n",
        "        self.movie_size = movie_size\n",
        "        self.hidden_size  = hidden_size\n",
        "        self.embedding_user = torch.nn.Embedding(num_embeddings=self.user_size, embedding_dim=self.hidden_size)\n",
        "        self.embedding_movie = torch.nn.Embedding(num_embeddings=self.movie_size, embedding_dim=self.hidden_size)\n",
        "        self.fc1 = torch.nn.Linear(self.hidden_size, 1)\n",
        "    def forward(self, user_id, movie_id):\n",
        "        user_embedding = self.embedding_user(user_id)\n",
        "        movie_embedding = self.embedding_movie(movie_id)\n",
        "        mul = torch.mul(user_embedding, movie_embedding)\n",
        "\n",
        "        output = self.fc1(mul)\n",
        "        return output"
      ],
      "execution_count": 10,
      "outputs": []
    },
    {
      "cell_type": "code",
      "metadata": {
        "id": "l9cNXf3FgHb0"
      },
      "source": [
        "# Optimizer \n",
        "import torch.optim as optim\n",
        "from torch.optim.lr_scheduler import StepLR\n"
      ],
      "execution_count": 11,
      "outputs": []
    },
    {
      "cell_type": "code",
      "metadata": {
        "id": "tVtskxB1gdz1"
      },
      "source": [
        "class GMF_Engine:\n",
        "    def __init__(self, rank, learning_rate, gamma, batch_size, training_time):\n",
        "        # model define here\n",
        "        self.model = GMF(user_count, movie_count, rank)\n",
        "        self.model = self.model.to(device)\n",
        "        self.criterion = nn.MSELoss()\n",
        "        \n",
        "        self.optimizer = optim.Adadelta(self.model.parameters(), lr=learning_rate, weight_decay=0.0)\n",
        "        self.scheduler = StepLR(self.optimizer, step_size=1, gamma=gamma)\n",
        "\n",
        "        self.rank = rank\n",
        "        self.batch_size = batch_size\n",
        "\n",
        "        self.training_time = training_time\n",
        "\n",
        "    def train(self, ratings):\n",
        "        data_loader = torch.utils.data.DataLoader(ratings, batch_size=self.batch_size)\n",
        "        self.model.train()\n",
        "        history = []\n",
        "        idx = 0\n",
        "        epoch = 0\n",
        "        with Progress(100 * len(data_loader)) as progress:\n",
        "            start_time = time.time()\n",
        "            while time.time() - start_time < self.training_time:\n",
        "                try:\n",
        "                    mse = 0\n",
        "                    for batch_idx, batch in enumerate(data_loader):\n",
        "                        user = batch[:, 0]\n",
        "                        movie = batch[:, 1]\n",
        "                        target = batch[:, 2]\n",
        "                        user = user.to(device)\n",
        "                        movie = movie.to(device)\n",
        "                        target = target.to(device)\n",
        "                        # set the gradients to zero to avoid unwanted gradient accumulation, see \n",
        "                        # https://stackoverflow.com/questions/48001598/why-do-we-need-to-call-zero-grad-in-pytorch\n",
        "                        self.optimizer.zero_grad()\n",
        "                        \n",
        "                        # get model prediction\n",
        "                        output = self.model(user, movie)\n",
        "                        \n",
        "                        # insert you own loss fucntion here, note that we implemented a log_softmax() in our model\n",
        "                        loss = self.criterion(output.view(-1).float(), target.float())\n",
        "\n",
        "                        mse += float(loss)\n",
        "                        \n",
        "                        # perform back propagation\n",
        "                        loss.backward()\n",
        "\n",
        "                        self.optimizer.step()\n",
        "                        \n",
        "                        # update parameters\n",
        "                        progress.inc()\n",
        "                except KeyboardInterrupt:\n",
        "                    break\n",
        "                finally:\n",
        "                    history.append(np.sqrt(mse / len(data_loader)))\n",
        "                    print(f\"Epoch {epoch} ({(time.time() - start_time) / 60} min), mse = {mse / len(data_loader)}\")\n",
        "                    epoch += 1\n",
        "\n",
        "        plt.xlabel(\"Epochs\")\n",
        "        plt.ylabel(\"RMSE\")\n",
        "        plt.plot(np.arange(epoch), history)\n",
        "        plt.show()\n",
        "\n",
        "        return self\n",
        "\n",
        "    def predict(self, user, movie):\n",
        "        return float(self.model(torch.Tensor([user]).int().to(device),torch.Tensor([movie]).int().to(device)))\n",
        "\n",
        "    def evaluate(self, evaluation):\n",
        "        self.model.eval()\n",
        "        se = 0\n",
        "        for user, movie, rating in evaluation:\n",
        "            err = self.predict(user, movie) - float(rating)\n",
        "            se += err ** 2\n",
        "        print(\"Test RMSE: {}\".format(np.sqrt(se/len(evaluation))))"
      ],
      "execution_count": 12,
      "outputs": []
    },
    {
      "cell_type": "code",
      "metadata": {
        "colab": {
          "base_uri": "https://localhost:8080/",
          "height": 462
        },
        "id": "cB-MmXa1gf_Q",
        "outputId": "55ec9b01-6dba-456a-d2a2-8e23a34b3acb"
      },
      "source": [
        "g = GMF_Engine(100, 1.0, 0.7, 65535, 2000)\n",
        "g.train(train).evaluate(evaluation)"
      ],
      "execution_count": 13,
      "outputs": [
        {
          "output_type": "display_data",
          "data": {
            "text/html": [
              "<progress style='width:60ex' max='72800' value='6552'></progress>"
            ],
            "text/plain": [
              "[=====                                                       ] 6552/72800"
            ]
          },
          "metadata": {
            "tags": []
          }
        },
        {
          "output_type": "stream",
          "text": [
            "Epoch 0 (3.7583480636278788 min), mse = 5.6145525851419995\n",
            "Epoch 1 (7.5117628892262776 min), mse = 1.1794887732837227\n",
            "Epoch 2 (11.28893121878306 min), mse = 1.1638430482247373\n",
            "Epoch 3 (15.097906017303467 min), mse = 1.1638430155568071\n",
            "Epoch 4 (18.89813285668691 min), mse = 1.1638429751926727\n",
            "Epoch 5 (22.711799267927805 min), mse = 1.1638429273779576\n",
            "Epoch 6 (26.538972500960032 min), mse = 1.163842882838223\n",
            "Epoch 7 (30.383937585353852 min), mse = 1.163842836006002\n",
            "Epoch 8 (34.24084039926529 min), mse = 1.1638427962968638\n"
          ],
          "name": "stdout"
        },
        {
          "output_type": "display_data",
          "data": {
            "image/png": "[encoded data removed]",
            "text/plain": [
              "<Figure size 432x288 with 1 Axes>"
            ]
          },
          "metadata": {
            "tags": [],
            "needs_background": "light"
          }
        },
        {
          "output_type": "stream",
          "text": [
            "Test RMSE: 1.0861063132198032\n"
          ],
          "name": "stdout"
        }
      ]
    },
    {
      "cell_type": "code",
      "metadata": {
        "colab": {
          "base_uri": "https://localhost:8080/",
          "height": 713
        },
        "id": "H2gF6XqF3Bwj",
        "outputId": "10d6a621-999b-43bf-a325-18d56c57b03c"
      },
      "source": [
        "g = GMF_Engine(300, 1.0, 0.7, 65535, 2000)\n",
        "g.train(train).evaluate(evaluation)"
      ],
      "execution_count": 14,
      "outputs": [
        {
          "output_type": "display_data",
          "data": {
            "text/html": [
              "<progress style='width:60ex' max='72800' value='4933'></progress>"
            ],
            "text/plain": [
              "[====                                                        ] 4933/72800"
            ]
          },
          "metadata": {
            "tags": []
          }
        },
        {
          "output_type": "stream",
          "text": [
            "Epoch 0 (3.969801676273346 min), mse = 5.710504464723251\n",
            "Epoch 1 (7.7564990520477295 min), mse = 1.1817975305430182\n",
            "Epoch 2 (11.56291880607605 min), mse = 1.1649126354809647\n",
            "Epoch 3 (15.336686515808106 min), mse = 1.1649125120142003\n",
            "Epoch 4 (19.158322958151498 min), mse = 1.164912377985624\n",
            "Epoch 5 (23.08313754796982 min), mse = 1.1649122424014322\n",
            "Epoch 6 (26.131961953639983 min), mse = 0.905501779455405\n"
          ],
          "name": "stdout"
        },
        {
          "output_type": "display_data",
          "data": {
            "image/png": "[encoded data removed]",
            "text/plain": [
              "<Figure size 432x288 with 1 Axes>"
            ]
          },
          "metadata": {
            "tags": [],
            "needs_background": "light"
          }
        },
        {
          "output_type": "error",
          "ename": "KeyboardInterrupt",
          "evalue": "ignored",
          "traceback": [
            "\u001b[0;31m---------------------------------------------------------------------------\u001b[0m",
            "\u001b[0;31mKeyboardInterrupt\u001b[0m                         Traceback (most recent call last)",
            "\u001b[0;32m<ipython-input-14-6e0126953f62>\u001b[0m in \u001b[0;36m<module>\u001b[0;34m()\u001b[0m\n\u001b[1;32m      1\u001b[0m \u001b[0mg\u001b[0m \u001b[0;34m=\u001b[0m \u001b[0mGMF_Engine\u001b[0m\u001b[0;34m(\u001b[0m\u001b[0;36m300\u001b[0m\u001b[0;34m,\u001b[0m \u001b[0;36m1.0\u001b[0m\u001b[0;34m,\u001b[0m \u001b[0;36m0.7\u001b[0m\u001b[0;34m,\u001b[0m \u001b[0;36m65535\u001b[0m\u001b[0;34m,\u001b[0m \u001b[0;36m2000\u001b[0m\u001b[0;34m)\u001b[0m\u001b[0;34m\u001b[0m\u001b[0;34m\u001b[0m\u001b[0m\n\u001b[0;32m----> 2\u001b[0;31m \u001b[0mg\u001b[0m\u001b[0;34m.\u001b[0m\u001b[0mtrain\u001b[0m\u001b[0;34m(\u001b[0m\u001b[0mtrain\u001b[0m\u001b[0;34m)\u001b[0m\u001b[0;34m.\u001b[0m\u001b[0mevaluate\u001b[0m\u001b[0;34m(\u001b[0m\u001b[0mevaluation\u001b[0m\u001b[0;34m)\u001b[0m\u001b[0;34m\u001b[0m\u001b[0;34m\u001b[0m\u001b[0m\n\u001b[0m",
            "\u001b[0;32m<ipython-input-12-3ce80e3fec94>\u001b[0m in \u001b[0;36mevaluate\u001b[0;34m(self, evaluation)\u001b[0m\n\u001b[1;32m     72\u001b[0m         \u001b[0mse\u001b[0m \u001b[0;34m=\u001b[0m \u001b[0;36m0\u001b[0m\u001b[0;34m\u001b[0m\u001b[0;34m\u001b[0m\u001b[0m\n\u001b[1;32m     73\u001b[0m         \u001b[0;32mfor\u001b[0m \u001b[0muser\u001b[0m\u001b[0;34m,\u001b[0m \u001b[0mmovie\u001b[0m\u001b[0;34m,\u001b[0m \u001b[0mrating\u001b[0m \u001b[0;32min\u001b[0m \u001b[0mevaluation\u001b[0m\u001b[0;34m:\u001b[0m\u001b[0;34m\u001b[0m\u001b[0;34m\u001b[0m\u001b[0m\n\u001b[0;32m---> 74\u001b[0;31m             \u001b[0merr\u001b[0m \u001b[0;34m=\u001b[0m \u001b[0mself\u001b[0m\u001b[0;34m.\u001b[0m\u001b[0mpredict\u001b[0m\u001b[0;34m(\u001b[0m\u001b[0muser\u001b[0m\u001b[0;34m,\u001b[0m \u001b[0mmovie\u001b[0m\u001b[0;34m)\u001b[0m \u001b[0;34m-\u001b[0m \u001b[0mfloat\u001b[0m\u001b[0;34m(\u001b[0m\u001b[0mrating\u001b[0m\u001b[0;34m)\u001b[0m\u001b[0;34m\u001b[0m\u001b[0;34m\u001b[0m\u001b[0m\n\u001b[0m\u001b[1;32m     75\u001b[0m             \u001b[0mse\u001b[0m \u001b[0;34m+=\u001b[0m \u001b[0merr\u001b[0m \u001b[0;34m**\u001b[0m \u001b[0;36m2\u001b[0m\u001b[0;34m\u001b[0m\u001b[0;34m\u001b[0m\u001b[0m\n\u001b[1;32m     76\u001b[0m         \u001b[0mprint\u001b[0m\u001b[0;34m(\u001b[0m\u001b[0;34m\"Test RMSE: {}\"\u001b[0m\u001b[0;34m.\u001b[0m\u001b[0mformat\u001b[0m\u001b[0;34m(\u001b[0m\u001b[0mnp\u001b[0m\u001b[0;34m.\u001b[0m\u001b[0msqrt\u001b[0m\u001b[0;34m(\u001b[0m\u001b[0mse\u001b[0m\u001b[0;34m/\u001b[0m\u001b[0mlen\u001b[0m\u001b[0;34m(\u001b[0m\u001b[0mevaluation\u001b[0m\u001b[0;34m)\u001b[0m\u001b[0;34m)\u001b[0m\u001b[0;34m)\u001b[0m\u001b[0;34m)\u001b[0m\u001b[0;34m\u001b[0m\u001b[0;34m\u001b[0m\u001b[0m\n",
            "\u001b[0;32m<ipython-input-12-3ce80e3fec94>\u001b[0m in \u001b[0;36mpredict\u001b[0;34m(self, user, movie)\u001b[0m\n\u001b[1;32m     66\u001b[0m \u001b[0;34m\u001b[0m\u001b[0m\n\u001b[1;32m     67\u001b[0m     \u001b[0;32mdef\u001b[0m \u001b[0mpredict\u001b[0m\u001b[0;34m(\u001b[0m\u001b[0mself\u001b[0m\u001b[0;34m,\u001b[0m \u001b[0muser\u001b[0m\u001b[0;34m,\u001b[0m \u001b[0mmovie\u001b[0m\u001b[0;34m)\u001b[0m\u001b[0;34m:\u001b[0m\u001b[0;34m\u001b[0m\u001b[0;34m\u001b[0m\u001b[0m\n\u001b[0;32m---> 68\u001b[0;31m         \u001b[0;32mreturn\u001b[0m \u001b[0mfloat\u001b[0m\u001b[0;34m(\u001b[0m\u001b[0mself\u001b[0m\u001b[0;34m.\u001b[0m\u001b[0mmodel\u001b[0m\u001b[0;34m(\u001b[0m\u001b[0mtorch\u001b[0m\u001b[0;34m.\u001b[0m\u001b[0mTensor\u001b[0m\u001b[0;34m(\u001b[0m\u001b[0;34m[\u001b[0m\u001b[0muser\u001b[0m\u001b[0;34m]\u001b[0m\u001b[0;34m)\u001b[0m\u001b[0;34m.\u001b[0m\u001b[0mint\u001b[0m\u001b[0;34m(\u001b[0m\u001b[0;34m)\u001b[0m\u001b[0;34m.\u001b[0m\u001b[0mto\u001b[0m\u001b[0;34m(\u001b[0m\u001b[0mdevice\u001b[0m\u001b[0;34m)\u001b[0m\u001b[0;34m,\u001b[0m\u001b[0mtorch\u001b[0m\u001b[0;34m.\u001b[0m\u001b[0mTensor\u001b[0m\u001b[0;34m(\u001b[0m\u001b[0;34m[\u001b[0m\u001b[0mmovie\u001b[0m\u001b[0;34m]\u001b[0m\u001b[0;34m)\u001b[0m\u001b[0;34m.\u001b[0m\u001b[0mint\u001b[0m\u001b[0;34m(\u001b[0m\u001b[0;34m)\u001b[0m\u001b[0;34m.\u001b[0m\u001b[0mto\u001b[0m\u001b[0;34m(\u001b[0m\u001b[0mdevice\u001b[0m\u001b[0;34m)\u001b[0m\u001b[0;34m)\u001b[0m\u001b[0;34m)\u001b[0m\u001b[0;34m\u001b[0m\u001b[0;34m\u001b[0m\u001b[0m\n\u001b[0m\u001b[1;32m     69\u001b[0m \u001b[0;34m\u001b[0m\u001b[0m\n\u001b[1;32m     70\u001b[0m     \u001b[0;32mdef\u001b[0m \u001b[0mevaluate\u001b[0m\u001b[0;34m(\u001b[0m\u001b[0mself\u001b[0m\u001b[0;34m,\u001b[0m \u001b[0mevaluation\u001b[0m\u001b[0;34m)\u001b[0m\u001b[0;34m:\u001b[0m\u001b[0;34m\u001b[0m\u001b[0;34m\u001b[0m\u001b[0m\n",
            "\u001b[0;31mKeyboardInterrupt\u001b[0m: "
          ]
        }
      ]
    },
    {
      "cell_type": "code",
      "metadata": {
        "id": "xuzP8ul-3EVD"
      },
      "source": [
        "g = GMF_Engine(100, 0.1, 0.9, 65535, 2000)\n",
        "g.train(train).evaluate(evaluation)"
      ],
      "execution_count": null,
      "outputs": []
    },
    {
      "cell_type": "code",
      "metadata": {
        "id": "KHlGTnaAhWx3"
      },
      "source": [
        "import torch.nn as nn\n",
        "import torch.nn.functional as F\n",
        "\n",
        "class MLP(torch.nn.Module):\n",
        "    def __init__(self, user_size, movie_size, hidden_size):\n",
        "        super(MLP, self).__init__()\n",
        "        self.user_size = user_size\n",
        "        self.movie_size = movie_size\n",
        "        self.hidden_size  = hidden_size\n",
        "        self.embedding_user = torch.nn.Embedding(num_embeddings=self.user_size, embedding_dim=self.hidden_size)\n",
        "        self.embedding_movie = torch.nn.Embedding(num_embeddings=self.movie_size, embedding_dim=self.hidden_size)\n",
        "\n",
        "        self.layers = [hidden_size*2, 64,32,16,8]\n",
        "\n",
        "        self.fc_layers = torch.nn.ModuleList()\n",
        "        for idx, (in_size, out_size) in enumerate(zip(self.layers[:-1], self.layers[1:])):\n",
        "            self.fc_layers.append(torch.nn.Linear(in_size, out_size))\n",
        "\n",
        "        self.affine_output = torch.nn.Linear(in_features=self.layers[-1], out_features=1)\n",
        "\n",
        "    def forward(self, user_id, movie_id):\n",
        "        user_embedding = self.embedding_user(user_id)\n",
        "        movie_embedding = self.embedding_movie(movie_id)\n",
        "        vector = torch.cat([user_embedding, movie_embedding], dim=-1)  # the concat latent vector\n",
        "\n",
        "        for idx, _ in enumerate(range(len(self.fc_layers))):\n",
        "            vector = self.fc_layers[idx](vector)\n",
        "            vector = torch.nn.ReLU()(vector)\n",
        "            # vector = torch.nn.BatchNorm1d()(vector)\n",
        "            # vector = torch.nn.Dropout(p=0.5)(vector)\n",
        "\n",
        "        output = self.affine_output(vector)\n",
        "        return output"
      ],
      "execution_count": 15,
      "outputs": []
    },
    {
      "cell_type": "code",
      "metadata": {
        "id": "UCrNYxy2hcL3"
      },
      "source": [
        "class MLP_Engine:\n",
        "    def __init__(self, rank, learning_rate, gamma, batch_size, training_time):\n",
        "        # model define here\n",
        "        self.model = MLP(user_count, movie_count, rank)\n",
        "        self.model = self.model.to(device)\n",
        "        self.criterion = nn.MSELoss()\n",
        "        \n",
        "        self.optimizer = optim.Adadelta(self.model.parameters(), lr=learning_rate, weight_decay=0.0)\n",
        "        self.scheduler = StepLR(self.optimizer, step_size=1, gamma=gamma)\n",
        "\n",
        "        self.rank = rank\n",
        "        self.batch_size = batch_size\n",
        "\n",
        "        self.training_time = training_time\n",
        "\n",
        "    def train(self, ratings):\n",
        "        data_loader = torch.utils.data.DataLoader(ratings, batch_size=self.batch_size)\n",
        "        self.model.train()\n",
        "        history = []\n",
        "        idx = 0\n",
        "        epoch = 0\n",
        "        with Progress(100 * len(data_loader)) as progress:\n",
        "            start_time = time.time()\n",
        "            while time.time() - start_time < self.training_time:\n",
        "                try:\n",
        "                    mse = 0\n",
        "                    for batch_idx, batch in enumerate(data_loader):\n",
        "                        user = batch[:, 0]\n",
        "                        movie = batch[:, 1]\n",
        "                        target = batch[:, 2]\n",
        "                        user = user.to(device)\n",
        "                        movie = movie.to(device)\n",
        "                        target = target.to(device)\n",
        "                        # set the gradients to zero to avoid unwanted gradient accumulation, see \n",
        "                        # https://stackoverflow.com/questions/48001598/why-do-we-need-to-call-zero-grad-in-pytorch\n",
        "                        self.optimizer.zero_grad()\n",
        "                        \n",
        "                        # get model prediction\n",
        "                        output = self.model(user, movie)\n",
        "                        \n",
        "                        # insert you own loss fucntion here, note that we implemented a log_softmax() in our model\n",
        "                        loss = self.criterion(output.view(-1).float(), target.float())\n",
        "    \n",
        "                        mse += float(loss)\n",
        "                        \n",
        "                        # perform back propagation\n",
        "                        loss.backward()\n",
        "    \n",
        "                        self.optimizer.step()\n",
        "                        \n",
        "                        # update parameters\n",
        "                        progress.inc()\n",
        "                except KeyboardInterrupt:\n",
        "                    break\n",
        "                finally:\n",
        "                    history.append(np.sqrt(mse / len(data_loader)))\n",
        "                    print(f\"Epoch {epoch} ({(time.time() - start_time) / 60} min), mse = {mse / len(data_loader)}\")\n",
        "                    epoch += 1\n",
        "\n",
        "        plt.xlabel(\"Epochs\")\n",
        "        plt.ylabel(\"RMSE\")\n",
        "        plt.plot(np.arange(epoch), history)\n",
        "        plt.show()\n",
        "\n",
        "        return self\n",
        "\n",
        "    def predict(self, user, movie):\n",
        "        return float(self.model(torch.Tensor([user]).int().to(device),torch.Tensor([movie]).int().to(device)))\n",
        "\n",
        "    def evaluate(self, evaluation):\n",
        "        self.model.eval()\n",
        "        se = 0\n",
        "        for user, movie, rating in evaluation:\n",
        "            err = self.predict(user, movie) - float(rating)\n",
        "            se += err ** 2\n",
        "        print(\"Test RMSE: {}\".format(np.sqrt(se/len(evaluation))))"
      ],
      "execution_count": 16,
      "outputs": []
    },
    {
      "cell_type": "code",
      "metadata": {
        "colab": {
          "base_uri": "https://localhost:8080/",
          "height": 462
        },
        "id": "9UA8YiB-i0c7",
        "outputId": "5554f028-a24f-4a85-d7a1-53026cc6781d"
      },
      "source": [
        "g = MLP_Engine(100, 1.0, 0.7, 65535, 2000)\n",
        "g.train(train).evaluate(evaluation)"
      ],
      "execution_count": 17,
      "outputs": [
        {
          "output_type": "display_data",
          "data": {
            "text/html": [
              "<progress style='width:60ex' max='72800' value='6552'></progress>"
            ],
            "text/plain": [
              "[=====                                                       ] 6552/72800"
            ]
          },
          "metadata": {
            "tags": []
          }
        },
        {
          "output_type": "stream",
          "text": [
            "Epoch 0 (3.9541581432024637 min), mse = 1.418470827432779\n",
            "Epoch 1 (7.920173700650533 min), mse = 1.1984672539836758\n",
            "Epoch 2 (11.922839550177256 min), mse = 1.1747181723406026\n",
            "Epoch 3 (15.895838673909505 min), mse = 1.161365117427412\n",
            "Epoch 4 (19.86888773838679 min), mse = 1.1519537043276724\n",
            "Epoch 5 (23.880786248048146 min), mse = 1.143737707737383\n",
            "Epoch 6 (27.897090927759805 min), mse = 1.1343041155691986\n",
            "Epoch 7 (31.91445514758428 min), mse = 1.1226189937237854\n",
            "Epoch 8 (35.95400375525157 min), mse = 1.1127701155268228\n"
          ],
          "name": "stdout"
        },
        {
          "output_type": "display_data",
          "data": {
            "image/png": "[encoded data removed]",
            "text/plain": [
              "<Figure size 432x288 with 1 Axes>"
            ]
          },
          "metadata": {
            "tags": [],
            "needs_background": "light"
          }
        },
        {
          "output_type": "stream",
          "text": [
            "Test RMSE: 1.0787316794561261\n"
          ],
          "name": "stdout"
        }
      ]
    },
    {
      "cell_type": "code",
      "metadata": {
        "id": "kzfScL-pu0xJ",
        "colab": {
          "base_uri": "https://localhost:8080/",
          "height": 446
        },
        "outputId": "21200596-25ca-4b8b-f764-39099770352e"
      },
      "source": [
        "g = MLP_Engine(300, 1.0, 0.7, 65535, 2000)\n",
        "g.train(train).evaluate(evaluation)"
      ],
      "execution_count": 18,
      "outputs": [
        {
          "output_type": "display_data",
          "data": {
            "text/html": [
              "<progress style='width:60ex' max='72800' value='5824'></progress>"
            ],
            "text/plain": [
              "[====                                                        ] 5824/72800"
            ]
          },
          "metadata": {
            "tags": []
          }
        },
        {
          "output_type": "stream",
          "text": [
            "Epoch 0 (4.364117689927419 min), mse = 1.6029989005445124\n",
            "Epoch 1 (8.680763459205627 min), mse = 1.179170004941605\n",
            "Epoch 2 (12.892240683237711 min), mse = 1.1420612107593935\n",
            "Epoch 3 (17.15731825828552 min), mse = 1.1168153125506182\n",
            "Epoch 4 (21.440428094069162 min), mse = 1.0999944477782144\n",
            "Epoch 5 (25.73125698963801 min), mse = 1.087599886233335\n",
            "Epoch 6 (29.995231540997825 min), mse = 1.0759612377528305\n",
            "Epoch 7 (34.23746557633082 min), mse = 1.0640583718707273\n"
          ],
          "name": "stdout"
        },
        {
          "output_type": "display_data",
          "data": {
            "image/png": "[encoded data removed]",
            "text/plain": [
              "<Figure size 432x288 with 1 Axes>"
            ]
          },
          "metadata": {
            "tags": [],
            "needs_background": "light"
          }
        },
        {
          "output_type": "stream",
          "text": [
            "Test RMSE: 1.1110134401440945\n"
          ],
          "name": "stdout"
        }
      ]
    },
    {
      "cell_type": "code",
      "metadata": {
        "id": "JIGZb6TEu00G",
        "colab": {
          "base_uri": "https://localhost:8080/",
          "height": 446
        },
        "outputId": "b8375ded-aff1-4583-f759-f3a123e44346"
      },
      "source": [
        "g = MLP_Engine(100, 0.1, 0.9, 65535, 2000)\n",
        "g.train(train).evaluate(evaluation)"
      ],
      "execution_count": 19,
      "outputs": [
        {
          "output_type": "display_data",
          "data": {
            "text/html": [
              "<progress style='width:60ex' max='72800' value='5824'></progress>"
            ],
            "text/plain": [
              "[====                                                        ] 5824/72800"
            ]
          },
          "metadata": {
            "tags": []
          }
        },
        {
          "output_type": "stream",
          "text": [
            "Epoch 0 (4.188665409882863 min), mse = 2.53485931038529\n",
            "Epoch 1 (8.363291533788045 min), mse = 1.1997747091310365\n",
            "Epoch 2 (12.593396385510763 min), mse = 1.1825799251814464\n",
            "Epoch 3 (16.836560030778248 min), mse = 1.1708441806527286\n",
            "Epoch 4 (21.051466476917266 min), mse = 1.1621753945946693\n",
            "Epoch 5 (25.252320973078408 min), mse = 1.1553688091072407\n",
            "Epoch 6 (29.459993668397267 min), mse = 1.1497484155736126\n",
            "Epoch 7 (33.659440179665886 min), mse = 1.1449058202433062\n"
          ],
          "name": "stdout"
        },
        {
          "output_type": "display_data",
          "data": {
            "image/png": "[encoded data removed]",
            "text/plain": [
              "<Figure size 432x288 with 1 Axes>"
            ]
          },
          "metadata": {
            "tags": [],
            "needs_background": "light"
          }
        },
        {
          "output_type": "stream",
          "text": [
            "Test RMSE: 1.0837209208021732\n"
          ],
          "name": "stdout"
        }
      ]
    },
    {
      "cell_type": "code",
      "metadata": {
        "id": "U_0OX11BjLXe"
      },
      "source": [
        "import torch.nn as nn\n",
        "import torch.nn.functional as F\n",
        "\n",
        "class NeuMF(torch.nn.Module):\n",
        "    def __init__(self, user_size, movie_size, latent_dim_mf, latent_dim_mlp):\n",
        "        super(NeuMF, self).__init__()\n",
        "        self.num_users = user_size\n",
        "        self.num_items = movie_size\n",
        "        self.latent_dim_mf = latent_dim_mf\n",
        "        self.latent_dim_mlp = latent_dim_mlp\n",
        "\n",
        "        self.embedding_user_mlp = torch.nn.Embedding(num_embeddings=self.num_users, embedding_dim=self.latent_dim_mlp)\n",
        "        self.embedding_item_mlp = torch.nn.Embedding(num_embeddings=self.num_items, embedding_dim=self.latent_dim_mlp)\n",
        "        self.embedding_user_mf = torch.nn.Embedding(num_embeddings=self.num_users, embedding_dim=self.latent_dim_mf)\n",
        "        self.embedding_item_mf = torch.nn.Embedding(num_embeddings=self.num_items, embedding_dim=self.latent_dim_mf)\n",
        "\n",
        "        self.layers = [latent_dim_mlp*2, 64,32,16,8]\n",
        "\n",
        "        self.fc_layers = torch.nn.ModuleList()\n",
        "        for idx, (in_size, out_size) in enumerate(zip(self.layers[:-1], self.layers[1:])):\n",
        "            self.fc_layers.append(torch.nn.Linear(in_size, out_size))\n",
        "\n",
        "        self.affine_output = torch.nn.Linear(in_features=self.layers[-1] + latent_dim_mf, out_features=1)\n",
        "\n",
        "    def forward(self, user_indices, item_indices):\n",
        "        user_embedding_mlp = self.embedding_user_mlp(user_indices)\n",
        "        item_embedding_mlp = self.embedding_item_mlp(item_indices)\n",
        "        user_embedding_mf = self.embedding_user_mf(user_indices)\n",
        "        item_embedding_mf = self.embedding_item_mf(item_indices)\n",
        "\n",
        "        mlp_vector = torch.cat((user_embedding_mlp, item_embedding_mlp), dim=-1)  # the concat latent vector\n",
        "        mf_vector =torch.mul(user_embedding_mf, item_embedding_mf)\n",
        "\n",
        "        for idx, _ in enumerate(range(len(self.fc_layers))):\n",
        "            mlp_vector = self.fc_layers[idx](mlp_vector)\n",
        "            mlp_vector = torch.nn.ReLU()(mlp_vector)\n",
        "\n",
        "        vector = torch.cat((mlp_vector, mf_vector), dim=-1)\n",
        "        rating = self.affine_output(vector)\n",
        "        return rating\n"
      ],
      "execution_count": 20,
      "outputs": []
    },
    {
      "cell_type": "code",
      "metadata": {
        "id": "CklxPnuxjPP4"
      },
      "source": [
        "class NeuMF_Engine:\n",
        "    def __init__(self, rank, learning_rate, gamma, batch_size, training_time):\n",
        "        # model define here\n",
        "        self.model = NeuMF(user_count, movie_count, rank, rank)\n",
        "        self.model = self.model.to(device)\n",
        "        self.criterion = nn.MSELoss()\n",
        "        \n",
        "        self.optimizer = optim.Adadelta(self.model.parameters(), lr=learning_rate, weight_decay=0.0)\n",
        "        self.scheduler = StepLR(self.optimizer, step_size=1, gamma=gamma)\n",
        "\n",
        "        self.rank = rank\n",
        "        self.batch_size = batch_size\n",
        "\n",
        "        self.training_time = training_time\n",
        "\n",
        "    def train(self, ratings):\n",
        "        data_loader = torch.utils.data.DataLoader(ratings, batch_size=self.batch_size)\n",
        "        self.model.train()\n",
        "        history = []\n",
        "        idx = 0\n",
        "        epoch = 0\n",
        "        with Progress(100 * len(data_loader)) as progress:\n",
        "            start_time = time.time()\n",
        "            while time.time() - start_time < self.training_time:\n",
        "                try:\n",
        "                    mse = 0\n",
        "                    for batch_idx, batch in enumerate(data_loader):\n",
        "                        user = batch[:, 0]\n",
        "                        movie = batch[:, 1]\n",
        "                        target = batch[:, 2]\n",
        "                        user = user.to(device)\n",
        "                        movie = movie.to(device)\n",
        "                        target = target.to(device)\n",
        "                        # set the gradients to zero to avoid unwanted gradient accumulation, see \n",
        "                        # https://stackoverflow.com/questions/48001598/why-do-we-need-to-call-zero-grad-in-pytorch\n",
        "                        self.optimizer.zero_grad()\n",
        "                        \n",
        "                        # get model prediction\n",
        "                        output = self.model(user, movie)\n",
        "                        \n",
        "                        # insert you own loss fucntion here, note that we implemented a log_softmax() in our model\n",
        "                        loss = self.criterion(output.view(-1).float(), target.float())\n",
        "    \n",
        "                        mse += float(loss)\n",
        "                        \n",
        "                        # perform back propagation\n",
        "                        loss.backward()\n",
        "    \n",
        "                        self.optimizer.step()\n",
        "                        \n",
        "                        # update parameters\n",
        "                        progress.inc()\n",
        "                except KeyboardInterrupt:\n",
        "                    break\n",
        "                finally:\n",
        "                    history.append(np.sqrt(mse / len(data_loader)))\n",
        "                    print(f\"Epoch {epoch} ({(time.time() - start_time) / 60} min), mse = {mse / len(data_loader)}\")\n",
        "                    epoch += 1\n",
        "\n",
        "        plt.xlabel(\"Epochs\")\n",
        "        plt.ylabel(\"RMSE\")\n",
        "        plt.plot(np.arange(epoch), history)\n",
        "        plt.show()\n",
        "\n",
        "        return self\n",
        "\n",
        "    def predict(self, user, movie):\n",
        "        return float(self.model(torch.Tensor([user]).int().to(device),torch.Tensor([movie]).int().to(device)))\n",
        "\n",
        "    def evaluate(self, evaluation):\n",
        "        self.model.eval()\n",
        "        se = 0\n",
        "        for user, movie, rating in evaluation:\n",
        "            err = self.predict(user, movie) - float(rating)\n",
        "            se += err ** 2\n",
        "        print(\"Test RMSE: {}\".format(np.sqrt(se/len(evaluation))))"
      ],
      "execution_count": 21,
      "outputs": []
    },
    {
      "cell_type": "code",
      "metadata": {
        "colab": {
          "base_uri": "https://localhost:8080/",
          "height": 446
        },
        "id": "410ImUD0javI",
        "outputId": "08ed3fc7-9489-4dcd-9572-7e7df1951afd"
      },
      "source": [
        "g = NeuMF_Engine(100, 1.0, 0.7, 65535, 2000)\n",
        "g.train(train).evaluate(evaluation)"
      ],
      "execution_count": 22,
      "outputs": [
        {
          "output_type": "display_data",
          "data": {
            "text/html": [
              "<progress style='width:60ex' max='72800' value='5824'></progress>"
            ],
            "text/plain": [
              "[====                                                        ] 5824/72800"
            ]
          },
          "metadata": {
            "tags": []
          }
        },
        {
          "output_type": "stream",
          "text": [
            "Epoch 0 (4.402714423338572 min), mse = 1.5089814916744337\n",
            "Epoch 1 (8.783077597618103 min), mse = 1.188915023109415\n",
            "Epoch 2 (13.177910538514455 min), mse = 1.1685226119972847\n",
            "Epoch 3 (17.56034120718638 min), mse = 1.1577779802974764\n",
            "Epoch 4 (21.936864511171976 min), mse = 1.1500752186709708\n",
            "Epoch 5 (26.336548479398093 min), mse = 1.141903973215229\n",
            "Epoch 6 (30.735320258140565 min), mse = 1.132976604441365\n",
            "Epoch 7 (35.113500436147056 min), mse = 1.123277682196963\n"
          ],
          "name": "stdout"
        },
        {
          "output_type": "display_data",
          "data": {
            "image/png": "[encoded data removed]",
            "text/plain": [
              "<Figure size 432x288 with 1 Axes>"
            ]
          },
          "metadata": {
            "tags": [],
            "needs_background": "light"
          }
        },
        {
          "output_type": "stream",
          "text": [
            "Test RMSE: 1.0848390057387018\n"
          ],
          "name": "stdout"
        }
      ]
    },
    {
      "cell_type": "code",
      "metadata": {
        "id": "c3FZGSuEvAB6",
        "colab": {
          "base_uri": "https://localhost:8080/",
          "height": 446
        },
        "outputId": "6cde9cb2-8ae7-4c85-9588-a147279966f9"
      },
      "source": [
        "g = NeuMF_Engine(300, 1.0, 0.7, 65535, 2000)\n",
        "g.train(train).evaluate(evaluation)"
      ],
      "execution_count": 23,
      "outputs": [
        {
          "output_type": "display_data",
          "data": {
            "text/html": [
              "<progress style='width:60ex' max='72800' value='5824'></progress>"
            ],
            "text/plain": [
              "[====                                                        ] 5824/72800"
            ]
          },
          "metadata": {
            "tags": []
          }
        },
        {
          "output_type": "stream",
          "text": [
            "Epoch 0 (4.6540641983350115 min), mse = 1.5882337919467098\n",
            "Epoch 1 (9.330087331930796 min), mse = 1.150916803914767\n",
            "Epoch 2 (14.022684033711752 min), mse = 1.119980965259966\n",
            "Epoch 3 (18.6810178955396 min), mse = 1.1004156302456016\n",
            "Epoch 4 (23.329402140776317 min), mse = 1.085698327766015\n",
            "Epoch 5 (28.006371800104777 min), mse = 1.0746624868485954\n",
            "Epoch 6 (32.669062670071916 min), mse = 1.0642582184665805\n",
            "Epoch 7 (37.31748586893082 min), mse = 1.0548100605770783\n"
          ],
          "name": "stdout"
        },
        {
          "output_type": "display_data",
          "data": {
            "image/png": "[encoded data removed]",
            "text/plain": [
              "<Figure size 432x288 with 1 Axes>"
            ]
          },
          "metadata": {
            "tags": [],
            "needs_background": "light"
          }
        },
        {
          "output_type": "stream",
          "text": [
            "Test RMSE: 1.0903830638399918\n"
          ],
          "name": "stdout"
        }
      ]
    },
    {
      "cell_type": "code",
      "metadata": {
        "id": "Qm7GbzM8vAEY",
        "colab": {
          "base_uri": "https://localhost:8080/",
          "height": 446
        },
        "outputId": "d545e39d-4ef1-4b46-c4ae-7c0bbaced2f7"
      },
      "source": [
        "g = NeuMF_Engine(100, 0.1, 0.9, 65535, 2000)\n",
        "g.train(train).evaluate(evaluation)"
      ],
      "execution_count": 24,
      "outputs": [
        {
          "output_type": "display_data",
          "data": {
            "text/html": [
              "<progress style='width:60ex' max='72800' value='5824'></progress>"
            ],
            "text/plain": [
              "[====                                                        ] 5824/72800"
            ]
          },
          "metadata": {
            "tags": []
          }
        },
        {
          "output_type": "stream",
          "text": [
            "Epoch 0 (4.464522063732147 min), mse = 2.4444334193409145\n",
            "Epoch 1 (8.891016578674316 min), mse = 1.1960241679961865\n",
            "Epoch 2 (13.249180018901825 min), mse = 1.1776497596567803\n",
            "Epoch 3 (17.617920017242433 min), mse = 1.1650713759955469\n",
            "Epoch 4 (22.02969563404719 min), mse = 1.1556796029537588\n",
            "Epoch 5 (26.38392988840739 min), mse = 1.148249401168509\n",
            "Epoch 6 (30.733140925566357 min), mse = 1.1421288971553791\n",
            "Epoch 7 (35.04097121159236 min), mse = 1.136927156002967\n"
          ],
          "name": "stdout"
        },
        {
          "output_type": "display_data",
          "data": {
            "image/png": "[encoded data removed]",
            "text/plain": [
              "<Figure size 432x288 with 1 Axes>"
            ]
          },
          "metadata": {
            "tags": [],
            "needs_background": "light"
          }
        },
        {
          "output_type": "stream",
          "text": [
            "Test RMSE: 1.085369129781817\n"
          ],
          "name": "stdout"
        }
      ]
    }
  ]
}