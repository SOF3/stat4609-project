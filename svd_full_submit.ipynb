{
  "nbformat": 4,
  "nbformat_minor": 0,
  "metadata": {
    "colab": {
      "name": "svd-full.ipynb",
      "provenance": [],
      "collapsed_sections": []
    },
    "kernelspec": {
      "name": "python3",
      "display_name": "Python 3"
    },
    "language_info": {
      "name": "python"
    }
  },
  "cells": [
    {
      "cell_type": "code",
      "metadata": {
        "id": "DfU9gBvVdnWA"
      },
      "source": [
        "import datetime\n",
        "import gc\n",
        "import random\n",
        "import time\n",
        "\n",
        "import numpy, numpy.random\n",
        "import pandas\n",
        "import scipy\n",
        "from scipy import sparse\n",
        "import matplotlib.pyplot as plt\n",
        "import IPython.display as disp\n",
        "\n",
        "class Progress:\n",
        "    \"\"\"Wrapper for IPython.display.ProgressBar with improved performance\"\"\"\n",
        "\n",
        "    def __init__(self, total):\n",
        "        self.bar = disp.ProgressBar(total)\n",
        "        self.total = total\n",
        "        self.progress = 0\n",
        "        self.last = 0\n",
        "        self.start = time.monotonic_ns()\n",
        "\n",
        "    def inc(self, delta=1):\n",
        "        self.progress += delta\n",
        "        if time.monotonic_ns() - self.last > 1e8:\n",
        "            self.bar.progress = self.progress\n",
        "            self.bar.update()\n",
        "            self.last = time.monotonic_ns()\n",
        "\n",
        "    def __enter__(self):\n",
        "        return self\n",
        "    def __exit__(self, exc_type, exc_value, tb):\n",
        "        self.bar.progress = self.progress\n",
        "        self.bar.update()\n",
        "        print(f\"Completed {self.progress}/{self.total} in {(time.monotonic_ns() - self.start) / 1000000}ms\")\n",
        "        return False\n",
        "\n",
        "class Timer:\n",
        "    def __init__(self, name):\n",
        "        self.name = name\n",
        "    \n",
        "    def __enter__(self):\n",
        "        self.start = time.monotonic_ns()\n",
        "        print(f\"Task: {self.name}\")\n",
        "\n",
        "    def __exit__(self, exc_type, exc_value, tb):\n",
        "        end = time.monotonic_ns()\n",
        "        time_ns = end - self.start\n",
        "        print(f\"Took {time_ns / 1000000}ms\")\n",
        "        return False"
      ],
      "execution_count": 5,
      "outputs": []
    },
    {
      "cell_type": "code",
      "metadata": {
        "colab": {
          "base_uri": "https://localhost:8080/"
        },
        "id": "sF43KZfGd4vs",
        "outputId": "30877d79-f89a-4215-9f0c-c3a625e03d72"
      },
      "source": [
        "from google.colab import drive\n",
        "drive.mount('/content/drive')"
      ],
      "execution_count": 6,
      "outputs": [
        {
          "output_type": "stream",
          "text": [
            "Mounted at /content/drive\n"
          ],
          "name": "stdout"
        }
      ]
    },
    {
      "cell_type": "code",
      "metadata": {
        "id": "IUBdKi0Pd6AT",
        "colab": {
          "base_uri": "https://localhost:8080/"
        },
        "outputId": "82cbf655-fbf8-4121-dc22-1c74940ca05d"
      },
      "source": [
        "!test -d dataset || unzip /content/drive/Shareddrives/'STAT4609 Netflix'/dataset.zip -d dataset"
      ],
      "execution_count": 7,
      "outputs": [
        {
          "output_type": "stream",
          "text": [
            "Archive:  /content/drive/Shareddrives/STAT4609 Netflix/dataset.zip\n",
            "  inflating: dataset/README          \n",
            "  inflating: dataset/combined_data_1.txt  \n",
            "  inflating: dataset/combined_data_2.txt  \n",
            "  inflating: dataset/combined_data_3.txt  \n",
            "  inflating: dataset/combined_data_4.txt  \n",
            "  inflating: dataset/movie_titles.csv  \n",
            "  inflating: dataset/probe.txt       \n",
            "  inflating: dataset/qualifying.txt  \n"
          ],
          "name": "stdout"
        }
      ]
    },
    {
      "cell_type": "code",
      "metadata": {
        "id": "36ivpwyyd7yv",
        "colab": {
          "base_uri": "https://localhost:8080/"
        },
        "outputId": "3f8a9ecb-9ef6-48a9-b1a8-caa6bad1f217"
      },
      "source": [
        "!cp /content/drive/Shareddrives/'STAT4609 Netflix'/preprocess-dataset /usr/local/bin\n",
        "!chmod +x /usr/local/bin/preprocess-dataset\n",
        "!test -f dataset/output.npy || (cd dataset && preprocess-dataset)"
      ],
      "execution_count": 8,
      "outputs": [
        {
          "output_type": "stream",
          "text": [
            "Read 1000000 lines of probe\n",
            "Read 1000000 lines\n",
            "Read 2000000 lines\n",
            "Read 3000000 lines\n",
            "Read 4000000 lines\n",
            "Read 5000000 lines\n",
            "Read 6000000 lines\n",
            "Read 7000000 lines\n",
            "Read 8000000 lines\n",
            "Read 9000000 lines\n",
            "Read 10000000 lines\n",
            "Read 11000000 lines\n",
            "Read 12000000 lines\n",
            "Read 13000000 lines\n",
            "Read 14000000 lines\n",
            "Read 15000000 lines\n",
            "Read 16000000 lines\n",
            "Read 17000000 lines\n",
            "Read 18000000 lines\n",
            "Read 19000000 lines\n",
            "Read 20000000 lines\n",
            "Read 21000000 lines\n",
            "Read 22000000 lines\n",
            "Read 23000000 lines\n",
            "Read 24000000 lines\n",
            "Empty line!\n",
            "Read 25000000 lines\n",
            "Read 26000000 lines\n",
            "Read 27000000 lines\n",
            "Read 28000000 lines\n",
            "Read 29000000 lines\n",
            "Read 30000000 lines\n",
            "Read 31000000 lines\n",
            "Read 32000000 lines\n",
            "Read 33000000 lines\n",
            "tcmalloc: large alloc 1879048192 bytes == 0x55cfec484000 @  0x7f0e4b1b62a4 0x55cf7a2a0120 0x55cf7a2a0265 0x55cf7a29ef2a 0x55cf7a29d5de 0x55cf7a29f956 0x55cf7a29f96c 0x55cf7a2ba30a 0x55cf7a29f855 0x7f0e4a777bf7 0x55cf7a29be3e\n",
            "Read 34000000 lines\n",
            "Read 35000000 lines\n",
            "Read 36000000 lines\n",
            "Read 37000000 lines\n",
            "Read 38000000 lines\n",
            "Read 39000000 lines\n",
            "Read 40000000 lines\n",
            "Read 41000000 lines\n",
            "Read 42000000 lines\n",
            "Read 43000000 lines\n",
            "Read 44000000 lines\n",
            "Read 45000000 lines\n",
            "Read 46000000 lines\n",
            "Read 47000000 lines\n",
            "Read 48000000 lines\n",
            "Read 49000000 lines\n",
            "Read 50000000 lines\n",
            "Read 51000000 lines\n",
            "Empty line!\n",
            "Read 52000000 lines\n",
            "Read 53000000 lines\n",
            "Read 54000000 lines\n",
            "Read 55000000 lines\n",
            "Read 56000000 lines\n",
            "Read 57000000 lines\n",
            "Read 58000000 lines\n",
            "Read 59000000 lines\n",
            "Read 60000000 lines\n",
            "Read 61000000 lines\n",
            "Read 62000000 lines\n",
            "Read 63000000 lines\n",
            "Read 64000000 lines\n",
            "Read 65000000 lines\n",
            "Read 66000000 lines\n",
            "Read 67000000 lines\n",
            "tcmalloc: large alloc 3758096384 bytes == 0x55d05c484000 @  0x7f0e4b1b62a4 0x55cf7a2a0120 0x55cf7a2a0265 0x55cf7a29ef2a 0x55cf7a29d698 0x55cf7a29f956 0x55cf7a29f96c 0x55cf7a2ba30a 0x55cf7a29f855 0x7f0e4a777bf7 0x55cf7a29be3e\n",
            "Read 68000000 lines\n",
            "Read 69000000 lines\n",
            "Read 70000000 lines\n",
            "Read 71000000 lines\n",
            "Read 72000000 lines\n",
            "Read 73000000 lines\n",
            "Empty line!\n",
            "Read 74000000 lines\n",
            "Read 75000000 lines\n",
            "Read 76000000 lines\n",
            "Read 77000000 lines\n",
            "Read 78000000 lines\n",
            "Read 79000000 lines\n",
            "Read 80000000 lines\n",
            "Read 81000000 lines\n",
            "Read 82000000 lines\n",
            "Read 83000000 lines\n",
            "Read 84000000 lines\n",
            "Read 85000000 lines\n",
            "Read 86000000 lines\n",
            "Read 87000000 lines\n",
            "Read 88000000 lines\n",
            "Read 89000000 lines\n",
            "Read 90000000 lines\n",
            "Read 91000000 lines\n",
            "Read 92000000 lines\n",
            "Read 93000000 lines\n",
            "Read 94000000 lines\n",
            "Read 95000000 lines\n",
            "Read 96000000 lines\n",
            "Read 97000000 lines\n",
            "Read 98000000 lines\n",
            "Read 99000000 lines\n",
            "Read 100000000 lines\n",
            "Empty line!\n",
            "Wrote 1000000 lines\n",
            "Wrote 2000000 lines\n",
            "Wrote 3000000 lines\n",
            "Wrote 4000000 lines\n",
            "Wrote 5000000 lines\n",
            "Wrote 6000000 lines\n",
            "Wrote 7000000 lines\n",
            "Wrote 8000000 lines\n",
            "Wrote 9000000 lines\n",
            "Wrote 10000000 lines\n",
            "Wrote 11000000 lines\n",
            "Wrote 12000000 lines\n",
            "Wrote 13000000 lines\n",
            "Wrote 14000000 lines\n",
            "Wrote 15000000 lines\n",
            "Wrote 16000000 lines\n",
            "Wrote 17000000 lines\n",
            "Wrote 18000000 lines\n",
            "Wrote 19000000 lines\n",
            "Wrote 20000000 lines\n",
            "Wrote 21000000 lines\n",
            "Wrote 22000000 lines\n",
            "Wrote 23000000 lines\n",
            "Wrote 24000000 lines\n",
            "Wrote 25000000 lines\n",
            "Wrote 26000000 lines\n",
            "Wrote 27000000 lines\n",
            "Wrote 28000000 lines\n",
            "Wrote 29000000 lines\n",
            "Wrote 30000000 lines\n",
            "Wrote 31000000 lines\n",
            "Wrote 32000000 lines\n",
            "Wrote 33000000 lines\n",
            "Wrote 34000000 lines\n",
            "Wrote 35000000 lines\n",
            "Wrote 36000000 lines\n",
            "Wrote 37000000 lines\n",
            "Wrote 38000000 lines\n",
            "Wrote 39000000 lines\n",
            "Wrote 40000000 lines\n",
            "Wrote 41000000 lines\n",
            "Wrote 42000000 lines\n",
            "Wrote 43000000 lines\n",
            "Wrote 44000000 lines\n",
            "Wrote 45000000 lines\n",
            "Wrote 46000000 lines\n",
            "Wrote 47000000 lines\n",
            "Wrote 48000000 lines\n",
            "Wrote 49000000 lines\n",
            "Wrote 50000000 lines\n",
            "Wrote 51000000 lines\n",
            "Wrote 52000000 lines\n",
            "Wrote 53000000 lines\n",
            "Wrote 54000000 lines\n",
            "Wrote 55000000 lines\n",
            "Wrote 56000000 lines\n",
            "Wrote 57000000 lines\n",
            "Wrote 58000000 lines\n",
            "Wrote 59000000 lines\n",
            "Wrote 60000000 lines\n",
            "Wrote 61000000 lines\n",
            "Wrote 62000000 lines\n",
            "Wrote 63000000 lines\n",
            "Wrote 64000000 lines\n",
            "Wrote 65000000 lines\n",
            "Wrote 66000000 lines\n",
            "Wrote 67000000 lines\n",
            "Wrote 68000000 lines\n",
            "Wrote 69000000 lines\n",
            "Wrote 70000000 lines\n",
            "Wrote 71000000 lines\n",
            "Wrote 72000000 lines\n",
            "Wrote 73000000 lines\n",
            "Wrote 74000000 lines\n",
            "Wrote 75000000 lines\n",
            "Wrote 76000000 lines\n",
            "Wrote 77000000 lines\n",
            "Wrote 78000000 lines\n",
            "Wrote 79000000 lines\n",
            "Wrote 80000000 lines\n",
            "Wrote 81000000 lines\n",
            "Wrote 82000000 lines\n",
            "Wrote 83000000 lines\n",
            "Wrote 84000000 lines\n",
            "Wrote 85000000 lines\n",
            "Wrote 86000000 lines\n",
            "Wrote 87000000 lines\n",
            "Wrote 88000000 lines\n",
            "Wrote 89000000 lines\n",
            "Wrote 90000000 lines\n",
            "Wrote 91000000 lines\n",
            "Wrote 92000000 lines\n",
            "Wrote 93000000 lines\n",
            "Wrote 94000000 lines\n",
            "Wrote 95000000 lines\n",
            "Wrote 96000000 lines\n",
            "Wrote 97000000 lines\n",
            "Wrote 98000000 lines\n",
            "Wrote 99000000 lines\n",
            "Wrote 100000000 lines\n"
          ],
          "name": "stdout"
        }
      ]
    },
    {
      "cell_type": "code",
      "metadata": {
        "colab": {
          "base_uri": "https://localhost:8080/"
        },
        "id": "sceZ7Gc3d8lZ",
        "outputId": "9bfb03a8-b3fa-475e-8ed5-966be173aeaa"
      },
      "source": [
        "COL_USER = 0\n",
        "COL_MOVIE = 1\n",
        "COL_RATING = 2\n",
        "COL_YEAR = 3\n",
        "COL_DOY = 4\n",
        "COL_DOW = 5\n",
        "COL_PROBED = 6\n",
        "\n",
        "with Timer(\"Loading data...\"):\n",
        "    data = numpy.load(\"dataset/output.npy\")\n",
        "    data_size = data.shape[0]\n",
        "\n",
        "with Timer(\"Counting users and movies\"):\n",
        "    user_count = numpy.max(data[:, COL_USER]) + 1\n",
        "    movie_count = numpy.max(data[:, COL_MOVIE]) + 1\n",
        "\n",
        "with Timer(\"Copying train/test split\"):\n",
        "    train = data[data[:, 6] == 0, :3].copy()\n",
        "    evaluation = data[data[:, 6] == 1, :3].copy()\n",
        "\n",
        "# Free the memory used to hold the whole dataset\n",
        "del data\n",
        "gc.collect()\n",
        "\n",
        "print(f\"Train/test size: {train.shape[0]}/{evaluation.shape[0]}\")\n",
        "\n",
        "evaluation_results = {}"
      ],
      "execution_count": 9,
      "outputs": [
        {
          "output_type": "stream",
          "text": [
            "Task: Loading data...\n",
            "Took 3274.540201ms\n",
            "Task: Counting users and movies\n",
            "Took 481.818865ms\n",
            "Task: Copying train/test split\n",
            "Took 4687.778191ms\n",
            "Train/test size: 99072112/1408395\n"
          ],
          "name": "stdout"
        }
      ]
    },
    {
      "cell_type": "code",
      "metadata": {
        "id": "y5QJVv_pn40U"
      },
      "source": [
        "class SliceLoader:\n",
        "    def __init__(self, matrix, batch_size):\n",
        "        self.matrix = matrix\n",
        "        self.batch_size = batch_size\n",
        "        self.ptr = 0\n",
        "\n",
        "    def __iter__(self):\n",
        "        return self\n",
        "\n",
        "    def __next__(self):\n",
        "        end = min(self.ptr + self.batch_size, self.matrix.shape[0])\n",
        "        size = end - self.ptr\n",
        "        if size == 0:\n",
        "            raise StopIteration\n",
        "        ret = self.matrix[self.ptr:end, :]\n",
        "        self.ptr = end\n",
        "        return ret"
      ],
      "execution_count": 15,
      "outputs": []
    },
    {
      "cell_type": "code",
      "metadata": {
        "id": "oAr65FapeJoy"
      },
      "source": [
        "class SvdRecommend:\n",
        "    def __init__(self, alpha, reg, rank, batch_size, epochs):\n",
        "        self.alpha = alpha\n",
        "        self.reg = reg\n",
        "        self.rank = rank\n",
        "        self.batch_size = batch_size\n",
        "        self.epochs = epochs\n",
        "\n",
        "    def get_params(self):\n",
        "        return (self.alpha, self.reg, self.rank, self.batch_size, self.epochs)\n",
        "\n",
        "    def fit(self, ratings):\n",
        "        raise Exception(\"Uninitialized function\")\n",
        "\n",
        "    def predict_rating(self, user_id, movie_id):\n",
        "        raise Exception(\"Uninitialized function\")\n",
        "\n",
        "    def evaluate(self, max_user=None, max_movie=None):\n",
        "        gc.collect()\n",
        "\n",
        "        train_sample = train\n",
        "        test_sample = evaluation\n",
        "\n",
        "        if max_user is not None:\n",
        "            train_sample = train_sample[train_sample[:, COL_USER] <= max_user]\n",
        "            test_sample = test_sample[test_sample[:, COL_USER] <= max_user]\n",
        "\n",
        "        if max_movie is not None:\n",
        "            train_sample = train_sample[train_sample[:, COL_MOVIE] <= max_movie]\n",
        "            test_sample = test_sample[test_sample[:, COL_MOVIE] <= max_movie]\n",
        "        \n",
        "        self.fit(train_sample)\n",
        "\n",
        "        print(f\"Evaluating {test_sample.shape[0]} probe rows\")\n",
        "\n",
        "        pred = self.predict(test_sample[:, [COL_USER, COL_MOVIE]])\n",
        "        target = test_sample[:, COL_RATING]\n",
        "        nan_count = numpy.isnan(pred).sum()\n",
        "        if nan_count > 0:\n",
        "            print(f\"{nan_count} predicted rows are inconclusive\")\n",
        "\n",
        "        rmse = numpy.sqrt(numpy.nanmean((pred - target) ** 2))\n",
        "        evaluation_results[self.get_params()] = rmse\n",
        "\n",
        "        print(f\"Hyperparameters: {self.get_params()}\")\n",
        "        print(f\"Probe RMSE: {rmse}\")\n",
        "        plt.plot(numpy.arange(self.epochs) + 1, self.rmse_history)\n",
        "        plt.xlabel(\"Epochs\")\n",
        "        plt.ylabel(\"RMSE\")\n",
        "        plt.show()"
      ],
      "execution_count": 53,
      "outputs": []
    },
    {
      "cell_type": "code",
      "metadata": {
        "id": "pU6HNGIlg0fx"
      },
      "source": [
        "def _fit(self, ratings):\n",
        "    gc.collect()\n",
        "\n",
        "    # express as a sparse matrix such that coo[user, movie] = rating\n",
        "    with Timer(\"Counting users and movies\"):\n",
        "        user_count = ratings[:, COL_USER].max() + 1\n",
        "        movie_count = ratings[:, COL_MOVIE].max() + 1\n",
        "\n",
        "    with Timer(\"Packing data in COO format\"):\n",
        "        coo = sparse.coo_matrix((ratings[:, COL_RATING], (ratings[:, COL_USER], ratings[:, COL_MOVIE])))\n",
        "    with Timer(\"Computing global mean\"):\n",
        "        mu = ratings[:, COL_RATING].mean()\n",
        "\n",
        "    with Timer(\"Counting ratings per user\"):\n",
        "        per_user_ratings = numpy.asarray((coo != 0.0).sum(axis=1)).flatten()\n",
        "    with Timer(\"Counting ratings per movie\"):\n",
        "        per_movie_ratings = numpy.asarray((coo != 0.0).sum(axis=0)).flatten()\n",
        "\n",
        "    with Timer(\"Computing user bias\"):\n",
        "        bias_users = numpy.asarray(coo.sum(axis=1)).flatten() / per_user_ratings - mu\n",
        "    with Timer(\"Computing movie bias\"):\n",
        "        bias_movies = numpy.asarray(coo.sum(axis=0)).flatten() / per_movie_ratings - mu\n",
        "    \n",
        "    with Timer(\"Initializing parameters\"):\n",
        "        var = numpy.std(ratings[:, COL_RATING]) / 100\n",
        "\n",
        "        # bias_users = numpy.clip(numpy.random.normal(scale=var, size=user_count), -1, 1)\n",
        "        # bias_movies = numpy.clip(numpy.random.normal(scale=var, size=movie_count), -1, 1)\n",
        "\n",
        "        latent_users = numpy.clip(numpy.random.normal(scale=var, size=(user_count, self.rank)), -1, 1)\n",
        "        latent_movies = numpy.clip(numpy.random.normal(scale=var, size=(movie_count, self.rank)), -1, 1)\n",
        "\n",
        "    with Timer(\"Performing gradient descent\"):\n",
        "        rmse_history = numpy.empty(self.epochs)\n",
        "\n",
        "        with Progress(self.epochs * ratings.shape[0]) as progress:\n",
        "            um_prod_buf = numpy.empty((self.batch_size, self.rank))\n",
        "            e_prod_buf = numpy.empty((self.batch_size, self.rank))\n",
        "            r_prod_buf = numpy.empty((self.batch_size, self.rank))\n",
        "\n",
        "            try:\n",
        "                for epoch in range(self.epochs):\n",
        "                    mse_sum = 0.0\n",
        "    \n",
        "                    loader = SliceLoader(ratings, self.batch_size)\n",
        "                    for batch in loader:\n",
        "                        b = batch.shape[0]\n",
        "    \n",
        "                        users = batch[:, COL_USER]\n",
        "                        movies = batch[:, COL_MOVIE]\n",
        "                        targets = batch[:, COL_RATING].astype(float)\n",
        "    \n",
        "                        um_prod = um_prod_buf[:b, :]\n",
        "                        numpy.multiply(latent_users[users, :], latent_movies[movies, :], out=um_prod)\n",
        "    \n",
        "                        pred = mu.copy()\n",
        "                        pred += bias_users[users]\n",
        "                        pred += bias_movies[movies]\n",
        "                        pred += um_prod.sum(axis=1)\n",
        "    \n",
        "                        err = targets - pred\n",
        "                        mse = numpy.dot(err, err)\n",
        "                        mse_sum += mse\n",
        "                        # print(numpy.sqrt(mse / b))\n",
        "    \n",
        "                        # Caution: in the lines below,\n",
        "                        # use numpy.add.at(a, k, b) instead of a[k] += b\n",
        "                        # because `users` may contain duplicate entries\n",
        "    \n",
        "                        # delta = self.alpha * (err - self.reg * bias_users[users])\n",
        "                        # delta /= numpy.sqrt(per_user_ratings[users])\n",
        "                        \"\"\"\n",
        "                        _, axes = plt.subplots(1, 5, figsize=(30, 5))\n",
        "                        axes[0].hist(bias_users)\n",
        "                        axes[0].set_title(\"bias_users before\")\n",
        "                        axes[1].hist(bias_users[users])\n",
        "                        axes[1].set_title(\"bias_users[users] before\")\n",
        "                        axes[2].hist(delta)\n",
        "                        axes[2].set_title(\"bias_users delta\")\n",
        "                        \"\"\"\n",
        "                        # numpy.add.at(bias_users, users, delta)\n",
        "                        \"\"\"\n",
        "                        axes[3].hist(bias_users)\n",
        "                        axes[3].set_title(\"bias_users after\")\n",
        "                        axes[4].hist(bias_users[users])\n",
        "                        axes[4].set_title(\"bias_users[users] after\")\n",
        "                        plt.show()\n",
        "                        \"\"\"\n",
        "    \n",
        "                        # delta = self.alpha * (err - self.reg * bias_movies[movies])\n",
        "                        # delta /= numpy.sqrt(per_movie_ratings[movies])\n",
        "                        # numpy.add.at(bias_movies, movies, delta)\n",
        "    \n",
        "                        # Unvectorized version:\n",
        "                        # latent_users[user, :] += self.learning_rate * (err * latent_movies[movie, :] - self.regularization * latent_users[user, :])\n",
        "                        e_prod = e_prod_buf[:b, :]\n",
        "                        numpy.multiply(latent_movies[movies, :], err.reshape((-1, 1)), out=e_prod)\n",
        "                        r_prod = r_prod_buf[:b, :]\n",
        "                        r_prod[:, :] = latent_users[users, :]\n",
        "                        r_prod *= self.reg\n",
        "                        e_prod /= numpy.sqrt(per_user_ratings[users].reshape(-1, 1))\n",
        "                        r_prod /= per_user_ratings[users].reshape(-1, 1)\n",
        "                        e_prod -= r_prod\n",
        "                        e_prod *= self.alpha\n",
        "                        numpy.add.at(latent_users, users, e_prod) \n",
        "                        numpy.clip(latent_users, -5, 5, out=latent_users)\n",
        "    \n",
        "                        # Unvectorized version:\n",
        "                        # latent_movies[movie, :] += self.learning_rate * (err * latent_users[user, :] - self.regularization * latent_movies[movie, :])\n",
        "                        numpy.multiply(latent_users[users, :], err.reshape((-1, 1)), out=e_prod)\n",
        "                        r_prod[:, :] = latent_movies[movies, :]\n",
        "                        r_prod *= self.reg\n",
        "                        e_prod /= numpy.sqrt(per_movie_ratings[movies].reshape(-1, 1))\n",
        "                        r_prod /= per_movie_ratings[movies].reshape(-1, 1)\n",
        "                        e_prod -= r_prod\n",
        "                        e_prod *= self.alpha\n",
        "                        numpy.add.at(latent_movies, movies, e_prod)\n",
        "                        numpy.clip(latent_movies, -5, 5, out=latent_movies)\n",
        "    \n",
        "                        progress.inc(delta=b)\n",
        "    \n",
        "                        # print(bias_users)\n",
        "                        # print(bias_movies)\n",
        "                        # print(latent_users)\n",
        "                        # print(latent_movies)\n",
        "    \n",
        "                    rmse_history[epoch] = numpy.sqrt(mse_sum / ratings.shape[0])\n",
        "                    print(f\"Epoch {epoch}: {rmse_history[epoch]}\")\n",
        "    \n",
        "                    \"\"\"\n",
        "                    _, axes = plt.subplots(1, 4, figsize=(20, 5))\n",
        "                    axes[0].hist(bias_users)\n",
        "                    axes[0].set_title(\"bias_users\")\n",
        "                    axes[1].hist(bias_movies)\n",
        "                    axes[1].set_title(\"bias_movies\")\n",
        "                    axes[2].hist(latent_users.flatten())\n",
        "                    axes[2].set_title(\"latent_users\")\n",
        "                    axes[3].hist(latent_movies.flatten())\n",
        "                    axes[3].set_title(\"latent_movies\")\n",
        "                    plt.show()\n",
        "                    \"\"\"\n",
        "            except KeyboardInterrupt:\n",
        "                pass\n",
        "\n",
        "    self.mu = mu\n",
        "    self.bias_users = bias_users\n",
        "    self.bias_movies = bias_movies\n",
        "    self.latent_users = latent_users\n",
        "    self.latent_movies = latent_movies\n",
        "\n",
        "    self.rmse_history = rmse_history\n",
        "\n",
        "    return self\n",
        "\n",
        "\n",
        "SvdRecommend.fit = _fit"
      ],
      "execution_count": 73,
      "outputs": []
    },
    {
      "cell_type": "code",
      "metadata": {
        "id": "3-RfIvbJyuFD"
      },
      "source": [
        "def _predict(self, um):\n",
        "    \"\"\"um is an n*2 matrix.\n",
        "    The first column is the user ID.\n",
        "    The second column is the movie ID.\n",
        "    Returns a size n vector of predicted ratings.\"\"\"\n",
        "\n",
        "    users = um[:, COL_USER]\n",
        "    movies = um[:, COL_MOVIE]\n",
        "\n",
        "    ret = self.mu.copy()\n",
        "    ret += self.bias_users[users]\n",
        "    ret += self.bias_movies[movies]\n",
        "    ret += numpy.sum(self.latent_users[users, :] * self.latent_movies[movies, :], axis=1)\n",
        "\n",
        "    return ret\n",
        "\n",
        "SvdRecommend.predict = _predict"
      ],
      "execution_count": 67,
      "outputs": []
    },
    {
      "cell_type": "code",
      "metadata": {
        "colab": {
          "base_uri": "https://localhost:8080/",
          "height": 1000
        },
        "id": "Wt9FUYeBiTi5",
        "outputId": "2abc0b08-40d0-4dda-a301-78b141013441"
      },
      "source": [
        "numpy.random.seed(4609)\n",
        "model = SvdRecommend(0.05, 0.0, 10, 1048576, 20)\n",
        "model.evaluate()"
      ],
      "execution_count": 68,
      "outputs": [
        {
          "output_type": "stream",
          "text": [
            "Task: Counting users and movies\n",
            "Took 273.631099ms\n",
            "Task: Packing data in COO format\n",
            "Took 798.892142ms\n",
            "Task: Computing global mean\n",
            "Took 168.567799ms\n",
            "Task: Counting ratings per user\n",
            "Took 14817.296819ms\n",
            "Task: Counting ratings per movie\n",
            "Took 14442.07016ms\n",
            "Task: Computing user bias\n",
            "Took 1202.819485ms\n",
            "Task: Computing movie bias\n",
            "Took 1711.884201ms\n",
            "Task: Initializing parameters\n",
            "Took 876.170257ms\n",
            "Task: Performing gradient descent\n"
          ],
          "name": "stdout"
        },
        {
          "output_type": "display_data",
          "data": {
            "text/html": [
              "<progress style='width:60ex' max='1981442240' value='1981442240'></progress>"
            ],
            "text/plain": [
              "[============================================================] 1981442240/1981442240"
            ]
          },
          "metadata": {
            "tags": []
          }
        },
        {
          "output_type": "stream",
          "text": [
            "Epoch 0: 0.9244260981478505\n",
            "Epoch 1: 0.9244222509525296\n",
            "Epoch 2: 0.9244176035884472\n",
            "Epoch 3: 0.9244110067959971\n",
            "Epoch 4: 0.9243997797660728\n",
            "Epoch 5: 0.9243759971771623\n",
            "Epoch 6: 0.9243124483306707\n",
            "Epoch 7: 0.9241077025305277\n",
            "Epoch 8: 0.9233750706576282\n",
            "Epoch 9: 0.9207522378796467\n",
            "Epoch 10: 0.9130757075937047\n",
            "Epoch 11: 0.9011763882162023\n",
            "Epoch 12: 0.8942749366360823\n",
            "Epoch 13: 0.8897828971368414\n",
            "Epoch 14: 0.8843184225341888\n",
            "Epoch 15: 0.8773809562675267\n",
            "Epoch 16: 0.8698065778716306\n",
            "Epoch 17: 0.8622861125461294\n",
            "Epoch 18: 0.855292441300142\n",
            "Epoch 19: 0.8492551079630799\n",
            "Completed 1981442240/1981442240 in 5020962.681109ms\n",
            "Took 5020963.693498ms\n",
            "Evaluating 1408395 probe rows\n",
            "Hyperparameters: (0.05, 0.0, 10, 1048576, 20)\n",
            "Probe RMSE: 0.9572792349478484\n"
          ],
          "name": "stdout"
        },
        {
          "output_type": "display_data",
          "data": {
            "image/png": "[encoded data removed]",
            "text/plain": [
              "<Figure size 432x288 with 1 Axes>"
            ]
          },
          "metadata": {
            "tags": [],
            "needs_background": "light"
          }
        }
      ]
    },
    {
      "cell_type": "code",
      "metadata": {
        "colab": {
          "base_uri": "https://localhost:8080/",
          "height": 1000
        },
        "id": "2-dCqcOVB_P9",
        "outputId": "4865b4da-6aeb-4846-86d3-bf4808c00eed"
      },
      "source": [
        "numpy.random.seed(4609)\n",
        "model = SvdRecommend(0.05, 0.01, 10, 1048576, 20)\n",
        "model.evaluate()"
      ],
      "execution_count": 69,
      "outputs": [
        {
          "output_type": "stream",
          "text": [
            "Task: Counting users and movies\n",
            "Took 259.896432ms\n",
            "Task: Packing data in COO format\n",
            "Took 761.334923ms\n",
            "Task: Computing global mean\n",
            "Took 171.595082ms\n",
            "Task: Counting ratings per user\n",
            "Took 19981.724548ms\n",
            "Task: Counting ratings per movie\n",
            "Took 14827.719012ms\n",
            "Task: Computing user bias\n",
            "Took 1172.250306ms\n",
            "Task: Computing movie bias\n",
            "Took 1683.939606ms\n",
            "Task: Initializing parameters\n",
            "Took 884.709544ms\n",
            "Task: Performing gradient descent\n"
          ],
          "name": "stdout"
        },
        {
          "output_type": "display_data",
          "data": {
            "text/html": [
              "<progress style='width:60ex' max='1981442240' value='1981442240'></progress>"
            ],
            "text/plain": [
              "[============================================================] 1981442240/1981442240"
            ]
          },
          "metadata": {
            "tags": []
          }
        },
        {
          "output_type": "stream",
          "text": [
            "Epoch 0: 0.9244260981170793\n",
            "Epoch 1: 0.9244222545745737\n",
            "Epoch 2: 0.9244176197017419\n",
            "Epoch 3: 0.9244110491710368\n",
            "Epoch 4: 0.9243998757812218\n",
            "Epoch 5: 0.9243762161512199\n",
            "Epoch 6: 0.9243130105872612\n",
            "Epoch 7: 0.9241094306060045\n",
            "Epoch 8: 0.9233812226548432\n",
            "Epoch 9: 0.9207743625731215\n",
            "Epoch 10: 0.9131345558663901\n",
            "Epoch 11: 0.9012410153462539\n",
            "Epoch 12: 0.8943158922545479\n",
            "Epoch 13: 0.8898384102652717\n",
            "Epoch 14: 0.8844035899034468\n",
            "Epoch 15: 0.8774937134373425\n",
            "Epoch 16: 0.8699345913437568\n",
            "Epoch 17: 0.8624209277208523\n",
            "Epoch 18: 0.855423075140603\n",
            "Epoch 19: 0.8493734009153564\n",
            "Completed 1981442240/1981442240 in 5360143.419568ms\n",
            "Took 5360144.27702ms\n",
            "Evaluating 1408395 probe rows\n",
            "Hyperparameters: (0.05, 0.01, 10, 1048576, 20)\n",
            "Probe RMSE: 0.95725717504297\n"
          ],
          "name": "stdout"
        },
        {
          "output_type": "display_data",
          "data": {
            "image/png": "[encoded data removed]",
            "text/plain": [
              "<Figure size 432x288 with 1 Axes>"
            ]
          },
          "metadata": {
            "tags": [],
            "needs_background": "light"
          }
        }
      ]
    },
    {
      "cell_type": "code",
      "metadata": {
        "colab": {
          "base_uri": "https://localhost:8080/",
          "height": 1000
        },
        "id": "EvRWWdYxIk6I",
        "outputId": "1c3b800a-1d17-4f30-a7c3-ba0c4bcebdeb"
      },
      "source": [
        "numpy.random.seed(4609)\n",
        "model = SvdRecommend(0.05, 0.05, 10, 1048576, 20)\n",
        "model.evaluate()"
      ],
      "execution_count": 70,
      "outputs": [
        {
          "output_type": "stream",
          "text": [
            "Task: Counting users and movies\n",
            "Took 424.942266ms\n",
            "Task: Packing data in COO format\n",
            "Took 1261.786608ms\n",
            "Task: Computing global mean\n",
            "Took 240.524189ms\n",
            "Task: Counting ratings per user\n",
            "Took 26933.777959ms\n",
            "Task: Counting ratings per movie\n",
            "Took 25889.632854ms\n",
            "Task: Computing user bias\n",
            "Took 1717.51018ms\n",
            "Task: Computing movie bias\n",
            "Took 2589.502075ms\n",
            "Task: Initializing parameters\n",
            "Took 1139.229506ms\n",
            "Task: Performing gradient descent\n"
          ],
          "name": "stdout"
        },
        {
          "output_type": "display_data",
          "data": {
            "text/html": [
              "<progress style='width:60ex' max='1981442240' value='1981442240'></progress>"
            ],
            "text/plain": [
              "[============================================================] 1981442240/1981442240"
            ]
          },
          "metadata": {
            "tags": []
          }
        },
        {
          "output_type": "stream",
          "text": [
            "Epoch 0: 0.9244260979942264\n",
            "Epoch 1: 0.9244222690371573\n",
            "Epoch 2: 0.9244176838939092\n",
            "Epoch 3: 0.9244112176013041\n",
            "Epoch 4: 0.9244002565984151\n",
            "Epoch 5: 0.9243770829969676\n",
            "Epoch 6: 0.9243152329226585\n",
            "Epoch 7: 0.9241162525573434\n",
            "Epoch 8: 0.9234054886217891\n",
            "Epoch 9: 0.9208616824005764\n",
            "Epoch 10: 0.9133681659227774\n",
            "Epoch 11: 0.9015011828305467\n",
            "Epoch 12: 0.8944792474673915\n",
            "Epoch 13: 0.8900576327465718\n",
            "Epoch 14: 0.8847404639485441\n",
            "Epoch 15: 0.8779423522292793\n",
            "Epoch 16: 0.8704460242830381\n",
            "Epoch 17: 0.8629615703198097\n",
            "Epoch 18: 0.8559496469018197\n",
            "Epoch 19: 0.8498524163106955\n",
            "Completed 1981442240/1981442240 in 5719301.57884ms\n",
            "Took 5719304.150234ms\n",
            "Evaluating 1408395 probe rows\n",
            "Hyperparameters: (0.05, 0.05, 10, 1048576, 20)\n",
            "Probe RMSE: 0.9571810589441522\n"
          ],
          "name": "stdout"
        },
        {
          "output_type": "display_data",
          "data": {
            "image/png": "[encoded data removed]",
            "text/plain": [
              "<Figure size 432x288 with 1 Axes>"
            ]
          },
          "metadata": {
            "tags": [],
            "needs_background": "light"
          }
        }
      ]
    },
    {
      "cell_type": "code",
      "metadata": {
        "colab": {
          "base_uri": "https://localhost:8080/",
          "height": 800
        },
        "id": "Y-o_GEmDJNcd",
        "outputId": "e525854c-0b8e-4a50-9d26-ea8bbbb8c960"
      },
      "source": [
        "numpy.random.seed(4609)\n",
        "model = SvdRecommend(0.2, 0.01, 10, 1048576, 20)\n",
        "model.evaluate()"
      ],
      "execution_count": 74,
      "outputs": [
        {
          "output_type": "stream",
          "text": [
            "Task: Counting users and movies\n",
            "Took 427.379726ms\n",
            "Task: Packing data in COO format\n",
            "Took 1265.095379ms\n",
            "Task: Computing global mean\n",
            "Took 232.467886ms\n",
            "Task: Counting ratings per user\n",
            "Took 21788.222637ms\n",
            "Task: Counting ratings per movie\n",
            "Took 21568.823259ms\n",
            "Task: Computing user bias\n",
            "Took 1678.577457ms\n",
            "Task: Computing movie bias\n",
            "Took 2553.723855ms\n",
            "Task: Initializing parameters\n",
            "Took 1036.572861ms\n",
            "Task: Performing gradient descent\n"
          ],
          "name": "stdout"
        },
        {
          "output_type": "display_data",
          "data": {
            "text/html": [
              "<progress style='width:60ex' max='1981442240' value='694553360'></progress>"
            ],
            "text/plain": [
              "[=====================                                       ] 694553360/1981442240"
            ]
          },
          "metadata": {
            "tags": []
          }
        },
        {
          "output_type": "stream",
          "text": [
            "Epoch 0: 0.9244261157924357\n",
            "Epoch 1: 0.9243993954132889\n",
            "Epoch 2: 0.9241161340956554\n",
            "Epoch 3: 0.9176232615185957\n",
            "Epoch 4: 0.9041405046622937\n",
            "Epoch 5: 2.17593350392664\n",
            "Epoch 6: 44.04031644047382\n",
            "Completed 694553360/1981442240 in 2015566.864126ms\n",
            "Took 2015567.125231ms\n",
            "Evaluating 1408395 probe rows\n",
            "Hyperparameters: (0.2, 0.01, 10, 1048576, 20)\n",
            "Probe RMSE: 91.53377141266354\n"
          ],
          "name": "stdout"
        },
        {
          "output_type": "display_data",
          "data": {
            "image/png": "[encoded data removed]",
            "text/plain": [
              "<Figure size 432x288 with 1 Axes>"
            ]
          },
          "metadata": {
            "tags": [],
            "needs_background": "light"
          }
        }
      ]
    },
    {
      "cell_type": "code",
      "metadata": {
        "colab": {
          "base_uri": "https://localhost:8080/",
          "height": 939
        },
        "id": "u_0P6bVHIHZd",
        "outputId": "801a1115-44e7-46df-976f-2d182eed912a"
      },
      "source": [
        "numpy.random.seed(4609)\n",
        "model = SvdRecommend(0.05, 0.01, 20, 1048576, 15)\n",
        "model.evaluate()"
      ],
      "execution_count": 75,
      "outputs": [
        {
          "output_type": "stream",
          "text": [
            "Task: Counting users and movies\n",
            "Took 439.276115ms\n",
            "Task: Packing data in COO format\n",
            "Took 1244.485014ms\n",
            "Task: Computing global mean\n",
            "Took 234.36775ms\n",
            "Task: Counting ratings per user\n",
            "Took 28860.958795ms\n",
            "Task: Counting ratings per movie\n",
            "Took 28092.561753ms\n",
            "Task: Computing user bias\n",
            "Took 1698.441778ms\n",
            "Task: Computing movie bias\n",
            "Took 2563.542958ms\n",
            "Task: Initializing parameters\n",
            "Took 1364.168312ms\n",
            "Task: Performing gradient descent\n"
          ],
          "name": "stdout"
        },
        {
          "output_type": "display_data",
          "data": {
            "text/html": [
              "<progress style='width:60ex' max='1486081680' value='1486081680'></progress>"
            ],
            "text/plain": [
              "[============================================================] 1486081680/1486081680"
            ]
          },
          "metadata": {
            "tags": []
          }
        },
        {
          "output_type": "stream",
          "text": [
            "Epoch 0: 0.9244261876607375\n",
            "Epoch 1: 0.9244183884411168\n",
            "Epoch 2: 0.924408427534641\n",
            "Epoch 3: 0.924391979321987\n",
            "Epoch 4: 0.9243549751193394\n",
            "Epoch 5: 0.9242448299213566\n",
            "Epoch 6: 0.9238559130821002\n",
            "Epoch 7: 0.9224075799947182\n",
            "Epoch 8: 0.9175079970061103\n",
            "Epoch 9: 0.9066518617172681\n",
            "Epoch 10: 0.8973571801599142\n",
            "Epoch 11: 0.8934371539512002\n",
            "Epoch 12: 0.8899770240024012\n",
            "Epoch 13: 0.8851134544463649\n",
            "Epoch 14: 0.8777147848469126\n",
            "Completed 1486081680/1486081680 in 7349393.96206ms\n",
            "Took 7349396.537532ms\n",
            "Evaluating 1408395 probe rows\n",
            "Hyperparameters: (0.05, 0.01, 20, 1048576, 15)\n",
            "Probe RMSE: 0.969087852155832\n"
          ],
          "name": "stdout"
        },
        {
          "output_type": "display_data",
          "data": {
            "image/png": "[encoded data removed]",
            "text/plain": [
              "<Figure size 432x288 with 1 Axes>"
            ]
          },
          "metadata": {
            "tags": [],
            "needs_background": "light"
          }
        }
      ]
    }
  ]
}